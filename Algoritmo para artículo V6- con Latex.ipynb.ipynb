{
 "cells": [
  {
   "cell_type": "markdown",
   "id": "80fe4575",
   "metadata": {},
   "source": [
    "# 1. Instalar y cargar librería"
   ]
  },
  {
   "cell_type": "code",
   "execution_count": 1,
   "id": "09cb05c3",
   "metadata": {},
   "outputs": [],
   "source": [
    "# instalar previamente\n",
    "#!pip install plotly\n",
    "#!pip install cufflinks"
   ]
  },
  {
   "cell_type": "code",
   "execution_count": 2,
   "id": "8d442583",
   "metadata": {},
   "outputs": [
    {
     "data": {
      "text/html": [
       "        <script type=\"text/javascript\">\n",
       "        window.PlotlyConfig = {MathJaxConfig: 'local'};\n",
       "        if (window.MathJax && window.MathJax.Hub && window.MathJax.Hub.Config) {window.MathJax.Hub.Config({SVG: {font: \"STIX-Web\"}});}\n",
       "        if (typeof require !== 'undefined') {\n",
       "        require.undef(\"plotly\");\n",
       "        requirejs.config({\n",
       "            paths: {\n",
       "                'plotly': ['https://cdn.plot.ly/plotly-2.20.0.min']\n",
       "            }\n",
       "        });\n",
       "        require(['plotly'], function(Plotly) {\n",
       "            window._Plotly = Plotly;\n",
       "        });\n",
       "        }\n",
       "        </script>\n",
       "        "
      ]
     },
     "metadata": {},
     "output_type": "display_data"
    },
    {
     "data": {
      "text/html": [
       "        <script type=\"text/javascript\">\n",
       "        window.PlotlyConfig = {MathJaxConfig: 'local'};\n",
       "        if (window.MathJax && window.MathJax.Hub && window.MathJax.Hub.Config) {window.MathJax.Hub.Config({SVG: {font: \"STIX-Web\"}});}\n",
       "        if (typeof require !== 'undefined') {\n",
       "        require.undef(\"plotly\");\n",
       "        requirejs.config({\n",
       "            paths: {\n",
       "                'plotly': ['https://cdn.plot.ly/plotly-2.20.0.min']\n",
       "            }\n",
       "        });\n",
       "        require(['plotly'], function(Plotly) {\n",
       "            window._Plotly = Plotly;\n",
       "        });\n",
       "        }\n",
       "        </script>\n",
       "        "
      ]
     },
     "metadata": {},
     "output_type": "display_data"
    }
   ],
   "source": [
    "# Importar la biblioteca pandas para manipulación y análisis de datos\n",
    "import pandas as pd\n",
    "import cufflinks as cf\n",
    "from IPython.display import display,HTML\n",
    "import os\n",
    "import numpy as np\n",
    "import time\n",
    "inicio_todo_el_proceso = time.time()\n",
    "cf.set_config_file(sharing = 'public',theme = 'ggplot', offline = True)"
   ]
  },
  {
   "cell_type": "markdown",
   "id": "34658f7b",
   "metadata": {},
   "source": [
    "# 2. Cargar base de datos y definir, campos a analizar y método a utilizar"
   ]
  },
  {
   "cell_type": "code",
   "execution_count": 3,
   "id": "6055d8eb",
   "metadata": {},
   "outputs": [
    {
     "name": "stdout",
     "output_type": "stream",
     "text": [
      "Tamaño base de datos:  23094\n",
      "23094\n"
     ]
    },
    {
     "data": {
      "text/html": [
       "<div>\n",
       "<style scoped>\n",
       "    .dataframe tbody tr th:only-of-type {\n",
       "        vertical-align: middle;\n",
       "    }\n",
       "\n",
       "    .dataframe tbody tr th {\n",
       "        vertical-align: top;\n",
       "    }\n",
       "\n",
       "    .dataframe thead th {\n",
       "        text-align: right;\n",
       "    }\n",
       "</style>\n",
       "<table border=\"1\" class=\"dataframe\">\n",
       "  <thead>\n",
       "    <tr style=\"text-align: right;\">\n",
       "      <th></th>\n",
       "      <th>Unnamed: 0</th>\n",
       "      <th>Authors</th>\n",
       "      <th>Author(s) ID</th>\n",
       "      <th>Title</th>\n",
       "      <th>Year</th>\n",
       "      <th>Source title</th>\n",
       "      <th>Volume</th>\n",
       "      <th>Issue</th>\n",
       "      <th>Art. No.</th>\n",
       "      <th>Page start</th>\n",
       "      <th>...</th>\n",
       "      <th>ISBN</th>\n",
       "      <th>CODEN</th>\n",
       "      <th>PubMed ID</th>\n",
       "      <th>Language of Original Document</th>\n",
       "      <th>Abbreviated Source Title</th>\n",
       "      <th>Document Type</th>\n",
       "      <th>Publication Stage</th>\n",
       "      <th>Open Access</th>\n",
       "      <th>Source</th>\n",
       "      <th>EID</th>\n",
       "    </tr>\n",
       "  </thead>\n",
       "  <tbody>\n",
       "    <tr>\n",
       "      <th>0</th>\n",
       "      <td>0</td>\n",
       "      <td>Oldknow A., White J., Cross J.</td>\n",
       "      <td>6507266545;55568510911;36510330000;</td>\n",
       "      <td>Micromaths</td>\n",
       "      <td>1985</td>\n",
       "      <td>Teaching Mathematics and its Applications</td>\n",
       "      <td>4.0</td>\n",
       "      <td>1</td>\n",
       "      <td>NaN</td>\n",
       "      <td>17</td>\n",
       "      <td>...</td>\n",
       "      <td>NaN</td>\n",
       "      <td>NaN</td>\n",
       "      <td>NaN</td>\n",
       "      <td>English</td>\n",
       "      <td>Teach. Math. Appl.</td>\n",
       "      <td>Article</td>\n",
       "      <td>Final</td>\n",
       "      <td>NaN</td>\n",
       "      <td>Scopus</td>\n",
       "      <td>2-s2.0-77957219102</td>\n",
       "    </tr>\n",
       "  </tbody>\n",
       "</table>\n",
       "<p>1 rows × 55 columns</p>\n",
       "</div>"
      ],
      "text/plain": [
       "   Unnamed: 0                         Authors  \\\n",
       "0           0  Oldknow A., White J., Cross J.   \n",
       "\n",
       "                          Author(s) ID       Title  Year  \\\n",
       "0  6507266545;55568510911;36510330000;  Micromaths  1985   \n",
       "\n",
       "                                Source title  Volume Issue Art. No.  \\\n",
       "0  Teaching Mathematics and its Applications     4.0     1      NaN   \n",
       "\n",
       "  Page start  ... ISBN  CODEN  PubMed ID Language of Original Document  \\\n",
       "0         17  ...  NaN    NaN        NaN                       English   \n",
       "\n",
       "  Abbreviated Source Title Document Type Publication Stage Open Access  \\\n",
       "0       Teach. Math. Appl.       Article             Final         NaN   \n",
       "\n",
       "   Source                 EID  \n",
       "0  Scopus  2-s2.0-77957219102  \n",
       "\n",
       "[1 rows x 55 columns]"
      ]
     },
     "execution_count": 3,
     "metadata": {},
     "output_type": "execute_result"
    }
   ],
   "source": [
    "# Definir una función para cargar la base de datos desde un archivo CSV\n",
    "def cargar_base_datos(url):\n",
    "    try:\n",
    "        # Leer el archivo CSV, saltar líneas incorrectas y guardar el contenido en un DataFrame\n",
    "        df = pd.read_csv(url, on_bad_lines='skip',low_memory=False)\n",
    "        return df\n",
    "    except FileNotFoundError:\n",
    "        # Manejar el caso en que el archivo no se encuentre y mostrar un mensaje de error\n",
    "        print(f\"Archivo no encontrado: {url}\")\n",
    "        return None\n",
    "\n",
    "# Definir una función para limpiar el título de los registros en un DataFrame\n",
    "def limpiar_titulo(df):\n",
    "    # Separar el título por el caracter '[' y conservar la primera parte\n",
    "    df['Title'] = df['Title'].str.split('[').str[0]\n",
    "    return df\n",
    "\n",
    "# Diccionarios para mapear opciones de configuración\n",
    "\n",
    "#Campo de la base de datos a analizar\n",
    "dic_campo_a_analizar = {\n",
    "    1: 'key_words',\n",
    "    2: 'title',\n",
    "    3: 'abstract',\n",
    "    4: 'title_key',\n",
    "    5: 'title_abs',\n",
    "    6: 'key_abs',\n",
    "    7: 'title_abs_key',\n",
    "}\n",
    "\n",
    "#Método elegido para la limpieza de palabras\n",
    "dic_metodo_a_utilizar = {1: 'lemmatize', 2: 'stemming'}\n",
    "\n",
    "#1 si muestra el grafo como conteo de nodos y aristas \n",
    "#2 si muestra el grafo como porxentaje de la cantidad total de artículos\n",
    "dic_modo_grafo = {1: '_ABS_', 2: '_POND_'} \n",
    "\n",
    "# Variables de configuración\n",
    "metodo = 1\n",
    "campo_a_analizar = 7\n",
    "template_elegido = 'seaborn'\n",
    "modo_grafo = 2\n",
    "\n",
    "# Definición de abreviaturas y nombres para la base de datos\n",
    "abrev = 'V4_algoritmo_2'\n",
    "nombre_largo = '37 revistas de Educación  Matemática '\n",
    "fuente_articulos = 'Scopus'\n",
    "\n",
    "\n",
    "# Ruta del archivo CSV\n",
    "url1 = '/Users/jorgegaona/Dropbox/Artículos JG/(2023) Análisi ERC 38 revistas educación matemática SCOPUS y WOS/bbdd_unida_completa_37_revistas_V_2023_03_25.csv'\n",
    "url = url1\n",
    "\n",
    "# Cargar la base de datos y asignarla a la variable dfA\n",
    "dfA = cargar_base_datos(url)\n",
    "\n",
    "# Verificar si la base de datos se cargó correctamente\n",
    "if dfA is not None:\n",
    "    # Imprimir el tamaño de la base de datos\n",
    "    print('Tamaño base de datos: ', len(dfA))\n",
    "    # Limpiar los títulos en la base de datos\n",
    "    dfA = limpiar_titulo(dfA)\n",
    "    # Imprimir nuevamente el tamaño de la base de datos\n",
    "    print(len(dfA))\n",
    "    # Mostrar el primer registro del DataFrame\n",
    "    dfA.head(1)\n",
    "else:\n",
    "    # Imprimir un mensaje de error en caso de que la base de datos no se haya cargado\n",
    "    print(\"No se pudo cargar la base de datos.\")\n",
    "\n",
    "dfA.head(1)\n"
   ]
  },
  {
   "cell_type": "markdown",
   "id": "033c0bb6",
   "metadata": {},
   "source": [
    "# 2. Para unir varios data frame "
   ]
  },
  {
   "cell_type": "raw",
   "id": "c086519c",
   "metadata": {
    "scrolled": true
   },
   "source": [
    "import pandas as pd\n",
    "\n",
    "# Definir abreviatura, nombre largo y fuente de los artículos\n",
    "abrev = 'ed_mat_completo_marzo'\n",
    "nombre_largo = 'Revistas de educación matemática hasta 2022'\n",
    "fuente_articulos = 'Scopus'\n",
    "\n",
    "# Lista de URLs de archivos CSV a cargar\n",
    "archivos = [\n",
    "    'https://www.dropbox.com/s/4sadk2eab00c7uy/scopus%20-%202023-02-08T235633.337_hasta_1985.csv?dl=1',\n",
    "    # ... (el resto de URLs)\n",
    "    'https://www.dropbox.com/s/s3317hkit488ldi/scopus%20-%202023-02-19T144900.777_acta_scientae.csv?dl=1',\n",
    "]\n",
    "\n",
    "# Leer cada archivo CSV y guardarlos en una lista de DataFrames\n",
    "dataframes = [pd.read_csv(archivo) for archivo in archivos]\n",
    "\n",
    "# Unir todos los DataFrames en uno solo\n",
    "df_final = pd.concat(dataframes)\n",
    "\n",
    "# Asignar el DataFrame final a la variable dfA\n",
    "dfA = df_final\n",
    "\n",
    "# Imprimir el tamaño de la base de datos\n",
    "print('tamaño base de datos: ', len(dfA))\n",
    "\n",
    "# Diccionarios para mapear opciones de configuración\n",
    "dic_campo_a_analizar = {\n",
    "    1: 'key_words',\n",
    "    2: 'title',\n",
    "    3: 'abstract',\n",
    "    4: 'title_key',\n",
    "    5: 'title_abs',\n",
    "    6: 'key_abs',\n",
    "    7: 'title_abs_key',\n",
    "}\n",
    "dic_metodo_a_utilizar = {1: 'lemmatize', 2: 'stemming'}\n",
    "dic_modo_grafo = {1: '_ABS_', 2: '_POND_'}\n",
    "\n",
    "# Variables de configuración\n",
    "metodo = 1\n",
    "modo_grafo = 2\n",
    "campo_a_analizar = 4\n",
    "template_elegido = 'seaborn'\n",
    "\n",
    "# Imprimir el diccionario de campos a analizar y el campo seleccionado\n",
    "print(dic_campo_a_analizar)\n",
    "print(dic_campo_a_analizar.get(campo_a_analizar))\n",
    "\n",
    "# Limpiar los títulos en la base de datos\n",
    "dfA['Title'] = dfA['Title'].str.split('[').str[0]\n",
    "\n",
    "# Imprimir nuevamente el tamaño de la base de datos\n",
    "print(len(dfA))\n",
    "\n",
    "# Mostrar el primer registro del DataFrame\n",
    "dfA.head(1)\n"
   ]
  },
  {
   "cell_type": "raw",
   "id": "2ec879ca",
   "metadata": {},
   "source": [
    "#!pip install wget\n",
    "dfA.to_csv('bbdd_unida_completa_37_revistas.csv')"
   ]
  },
  {
   "cell_type": "markdown",
   "id": "920c9c91",
   "metadata": {},
   "source": [
    "# 3 Creación de carpeta donde se guardará la información"
   ]
  },
  {
   "cell_type": "code",
   "execution_count": 4,
   "id": "dc26558d",
   "metadata": {},
   "outputs": [
    {
     "name": "stdout",
     "output_type": "stream",
     "text": [
      "2023-04-27 23:54:33.296373\n"
     ]
    }
   ],
   "source": [
    "import os\n",
    "from datetime import datetime\n",
    "\n",
    "# Obtener el momento actual como un objeto datetime\n",
    "now = datetime.now()\n",
    "\n",
    "# Crear un directorio con el nombre almacenado en la variable 'abrev', si no existe\n",
    "if not os.path.exists(abrev):\n",
    "    os.mkdir(abrev)\n",
    "\n",
    "# Imprimir el momento actual en la consola\n",
    "print(now)\n"
   ]
  },
  {
   "cell_type": "markdown",
   "id": "5f6039ca",
   "metadata": {},
   "source": [
    "# 4 Cargar archivos para el informe generado por Latex"
   ]
  },
  {
   "cell_type": "code",
   "execution_count": 5,
   "id": "88b346cf",
   "metadata": {},
   "outputs": [
    {
     "data": {
      "text/plain": [
       "('V4_algoritmo_2/referencias.bib', <http.client.HTTPMessage at 0x7fa00c5c39a0>)"
      ]
     },
     "execution_count": 5,
     "metadata": {},
     "output_type": "execute_result"
    }
   ],
   "source": [
    "from urllib import request\n",
    "\n",
    "# Establecer la ruta del directorio donde se guardarán los archivos\n",
    "ruta_archivo = abrev + '/'\n",
    "\n",
    "# Definir las URL de los archivos a descargar\n",
    "remote_url1 = \"https://www.dropbox.com/s/alwmw7pt709tats/apalike-es.bst?dl=1\"\n",
    "remote_url2 = \"https://www.dropbox.com/s/itwnlprry4guwfj/referencias.bib?dl=1\"\n",
    "\n",
    "# Definir los nombres de los archivos locales a guardar\n",
    "local_file1 = 'apalike-es.bst'\n",
    "local_file2 = \"referencias.bib\"\n",
    "\n",
    "# Descargar y guardar el primer archivo de la URL remota en la ruta local\n",
    "request.urlretrieve(remote_url1, ruta_archivo + local_file1)\n",
    "\n",
    "# Descargar y guardar el segundo archivo de la URL remota en la ruta local\n",
    "request.urlretrieve(remote_url2, ruta_archivo + local_file2)\n"
   ]
  },
  {
   "cell_type": "markdown",
   "id": "07099384",
   "metadata": {},
   "source": [
    "# 5 Creación de funciones para escribir entorno latex"
   ]
  },
  {
   "cell_type": "code",
   "execution_count": 6,
   "id": "f4c552c9",
   "metadata": {},
   "outputs": [],
   "source": [
    "import os\n",
    "\n",
    "# Crear un nuevo archivo .tex y escribir el inicio del documento\n",
    "def entorno_abrir_tex(ruta_archivo, nombre_archivo):\n",
    "    with open(ruta_archivo + nombre_archivo + \".tex\", \"w\") as file:\n",
    "        file.write(\"% Comienza el texto\" + os.linesep)\n",
    "        file.write(\"\\n\" + os.linesep)\n",
    "\n",
    "# Crear un nuevo archivo .bib y escribir el inicio del documento\n",
    "def entorno_abrir_bib(ruta_archivo, nombre_archivo):\n",
    "    with open(ruta_archivo + nombre_archivo + \".bib\", \"w\") as file:\n",
    "        file.write(\"% Comienza el texto\" + os.linesep)\n",
    "        file.write(\"\\n\" + os.linesep)\n",
    "\n",
    "# Abrir un archivo .tex existente y agregar el entorno del documento\n",
    "def entorno_abrir_documento_tex(ruta_archivo, nombre_archivo):\n",
    "    with open(ruta_archivo + nombre_archivo + \".tex\", \"a\") as file:\n",
    "        file.write('\\\\' + \"begin{document}\" + os.linesep)\n",
    "        file.write(\"\\n\" + os.linesep)\n",
    "\n",
    "# Cerrar el entorno del documento en un archivo .tex existente\n",
    "def entorno_cerrar_documento_tex(ruta_archivo, nombre_archivo):\n",
    "    with open(ruta_archivo + nombre_archivo + \".tex\", \"a\") as file:\n",
    "        file.write('\\\\' + 'end{document}' + os.linesep)\n",
    "\n",
    "# Agregar un entorno de figura en un archivo .tex existente\n",
    "def entorno_figura_tex(ruta_archivo, nombre_archivo, nombre_archivo_figura, leyenda):\n",
    "    with open(ruta_archivo + nombre_archivo + \".tex\", \"a\") as file:\n",
    "        file.write('\\\\' + \"begin{figure}[h!]\" + os.linesep)\n",
    "        file.write('\\\\' + \"centering\" + os.linesep)\n",
    "        file.write(\"\\includegraphics[width=0.7\" + '\\\\' + \"textwidth]{\" + nombre_archivo_figura + \".pdf}\" + os.linesep)\n",
    "        file.write('\\\\' + \"caption{\" + leyenda + '}' + os.linesep)\n",
    "        file.write('\\\\' + 'label{fig:' + nombre_archivo_figura + '}' + os.linesep)\n",
    "        file.write('\\\\' + \"end{figure}\" + os.linesep)\n",
    "        file.write(\"\\n\" + os.linesep)\n",
    "\n",
    "# Agregar una sección en un archivo .tex existente\n",
    "def entorno_section_tex(ruta_archivo, nombre_archivo, nombre_sección):\n",
    "    with open(ruta_archivo + nombre_archivo + \".tex\", \"a\") as file:\n",
    "        file.write('\\\\' + 'section{' + nombre_sección + '}' + os.linesep)\n",
    "        file.write(\"\\n\" + os.linesep)\n",
    "\n",
    "# Agregar una subsección en un archivo .tex existente\n",
    "def entorno_sub_section_tex(ruta_archivo, nombre_archivo, nombre_sub_sección):\n",
    "    with open(ruta_archivo + nombre_archivo + \".tex\", \"a\") as file:\n",
    "        file.write('\\\\' + 'subsection{' + nombre_sub_sección + '}' + os.linesep)\n",
    "        file.write(\"\\n\" + os.linesep)\n",
    "\n",
    "# Agregar una subsubsección en un archivo .tex existente\n",
    "def entorno_sub_sub_section_tex(ruta_archivo, nombre_archivo, nombre_sub_sub_sección):\n",
    "    with open(ruta_archivo + nombre_archivo + \".tex\", \"a\") as file:\n",
    "        file.write('\\\\' + 'subsubsection{' + nombre_sub_sub_sección + '}' + os.linesep)\n",
    "        file.write(\"\\n\" + os.linesep)\n",
    "\n",
    "# Agregar un entorno itemize en un archivo .tex existente\n",
    "def entorno_itemize_tex(ruta_archivo, nombre_archivo, lista_para_itemize):\n",
    "    with open(ruta_archivo + nombre_archivo + \".tex\", \"a\") as file:\n",
    "        file.write('\\\\' + 'begin{itemize}' + os.linesep)\n",
    "        for x in lista_para_itemize:\n",
    "            file.write('\\\\' + 'item ' + x + os.linesep)\n",
    "        file.write('\\\\' + 'end{itemize}' + os.linesep)\n",
    "        file.write(\"\\n\" + os.linesep)\n",
    "\n",
    "# Agregar un entorno enumerate en un archivo .tex existente\n",
    "def entorno_enumerate_tex(ruta_archivo, nombre_archivo, lista_para_enumerate):\n",
    "    with open(ruta_archivo + nombre_archivo + \".tex\", \"a\") as file:\n",
    "        file.write('\\\\' + 'begin{enumerate}' + os.linesep)\n",
    "        for x in lista_para_enumerate:\n",
    "            file.write('\\\\' + 'item ' + x + os.linesep)\n",
    "        file.write('\\\\' + 'end{enumerate}' + os.linesep)\n",
    "        file.write(\"\\n\" + os.linesep)\n",
    "\n",
    "# Agregar una nueva página en un archivo .tex existente\n",
    "def entorno_nueva_pagina_tex(ruta_archivo, nombre_archivo):\n",
    "    with open(ruta_archivo + nombre_archivo + \".tex\", \"a\") as file:\n",
    "        file.write('\\\\' + 'newpage' + os.linesep)\n",
    "        file.write(\"\\n\" + os.linesep)\n",
    "\n",
    "# Inicializar el documento .tex con los paquetes necesarios y el título\n",
    "def entorno_inicio_documento_tex(ruta_archivo, nombre_archivo, título):\n",
    "    with open(ruta_archivo + nombre_archivo + \".tex\", \"a\") as file:\n",
    "        file.write('\\\\documentclass[12pt,a4paper]{article}\\n')\n",
    "        file.write('\\\\usepackage[utf8]{inputenc}\\n')\n",
    "        file.write('\\\\usepackage[spanish, es-tabla]{babel}\\n')\n",
    "        file.write('\\\\usepackage[hidelinks,colorlinks=true,citecolor=blue, backref=page]{hyperref}\\n')\n",
    "        file.write('\\\\usepackage{amsmath}\\n')\n",
    "        file.write('\\\\usepackage{amsfonts}\\n')\n",
    "        file.write('\\\\usepackage{multirow}\\n')\n",
    "        file.write('\\\\usepackage{booktabs}\\n')\n",
    "        file.write('\\\\usepackage{apacite}\\n')\n",
    "        file.write('\\\\usepackage{multirow}\\n')\n",
    "        file.write('\\\\usepackage{natbib}\\n')\n",
    "        file.write('\\\\usepackage{amssymb}\\n')\n",
    "        file.write('\\\\usepackage{graphicx}\\n')\n",
    "        file.write('\\\\usepackage[width=18.00cm, height=27.00cm]{geometry}\\n')\n",
    "        file.write('\\\\title{' + título + '}\\n')\n",
    "        file.write('\\\\begin{document}\\n')\n",
    "        file.write('\\\\maketitle \\n')\n",
    "\n",
    "# Agregar un párrafo en un archivo .tex existente\n",
    "def parrafo_tex(ruta_archivo, nombre_archivo, parrafo):\n",
    "    with open(ruta_archivo + nombre_archivo + \".tex\", \"a\") as file:\n",
    "        file.write(parrafo + os.linesep)\n",
    "        file.write(\"\\n\" + os.linesep)\n",
    "\n",
    "# Agregar una tabla:\n",
    "def crear_tabla_latex(latex_table, caption, label):\n",
    "    # Agregar el código LaTeX para el entorno table\n",
    "    table = '\\\\begin{table}[h!]\\n'\n",
    "    table += '\\\\centering\\n'\n",
    "    table += '\\\\caption{' + caption + '}\\n'\n",
    "    table += '\\\\label{' + label + '}\\n'\n",
    "    table += latex_table\n",
    "    table += '\\\\end{table}'\n",
    "    \n",
    "    # Devolver el código LaTeX del entorno table\n",
    "    return table\n",
    "\n",
    "    "
   ]
  },
  {
   "cell_type": "markdown",
   "id": "a406b43f",
   "metadata": {},
   "source": [
    "# 6 Primera parte del documento latex con el preámbulo"
   ]
  },
  {
   "cell_type": "code",
   "execution_count": 7,
   "id": "1864bfca",
   "metadata": {},
   "outputs": [
    {
     "name": "stdout",
     "output_type": "stream",
     "text": [
      "Este documento muestra el análisis en base al trabajo de \\cite{Gaona2023}. Se realizó a partir de una base de datos con  23094  artículos. Estos artículos pertenecen a  43  fuentes documentales diferentes.  Los artículos fueron publicados   entre los años 1968 y 2023.  La información se extrajo de Scopus.\n"
     ]
    }
   ],
   "source": [
    "# Definir la ruta del archivo y el nombre del archivo .tex\n",
    "ruta_archivo = abrev + '/'\n",
    "nombre_archivo_tex = '01_informe_' + abrev + str(now.year) + '_' + str(now.month) + '_' + str(now.day) + '_' + str(now.hour) + '_' + str(now.minute)\n",
    "\n",
    "# Crear y abrir el archivo .tex\n",
    "entorno_abrir_tex(ruta_archivo, nombre_archivo_tex)\n",
    "\n",
    "# Definir el título del documento\n",
    "título = 'Espacio Rizomático Conceptual de \\\\textbf{' + nombre_largo + '}'\n",
    "\n",
    "# Inicializar el documento .tex con los paquetes necesarios y el título\n",
    "entorno_inicio_documento_tex(ruta_archivo, nombre_archivo_tex, título)\n",
    "\n",
    "# Agregar una sección 'Introducción' en el archivo .tex\n",
    "entorno_section_tex(ruta_archivo, nombre_archivo_tex, 'Introducción')\n",
    "\n",
    "# Crear el primer párrafo de la sección 'Introducción'\n",
    "lista_párrafo1 = ['Este documento muestra el análisis en base al trabajo de \\\\cite{Gaona2023}. Se realizó a partir de una base de datos con ',\n",
    "                  str(len(dfA)),\n",
    "                  ' artículos. Estos artículos pertenecen a ',\n",
    "                  str(len(dfA['Source title'].unique()))\n",
    "                  ]\n",
    "\n",
    "# Decidir si el texto debe ser singular o plural en función de la cantidad de fuentes documentales\n",
    "if len(dfA['Source title'].unique()) == 1:\n",
    "    lista_párrafo1_1 = ' fuente documental.'\n",
    "else:\n",
    "    lista_párrafo1_1 = ' fuentes documentales diferentes.'\n",
    "\n",
    "# Añadir la parte correspondiente del texto al primer párrafo\n",
    "lista_párrafo1.append(lista_párrafo1_1)\n",
    "lista_párrafo1 = lista_párrafo1 + [' Los artículos fueron publicados ']\n",
    "\n",
    "# Decidir si el texto debe incluir un solo año o un rango de años en función de los datos\n",
    "if len(dfA['Year'].unique()) == 1:\n",
    "    lista_párrafo1_2 = ' el año ' + str(dfA['Year'].unique()) + '.'\n",
    "else:\n",
    "    lista_párrafo1_2 = ' entre los años ' + str(dfA['Year'].min()) + ' y ' + str(dfA['Year'].max()) + '.'\n",
    "\n",
    "# Añadir la parte correspondiente del texto al primer párrafo\n",
    "lista_párrafo1.append(lista_párrafo1_2)\n",
    "lista_párrafo1 = lista_párrafo1 + [' La información se extrajo de', fuente_articulos + '.']\n",
    "\n",
    "# Unir la lista en una cadena de texto para formar el primer párrafo\n",
    "párrafo1 = ' '.join(lista_párrafo1)\n",
    "print(párrafo1)\n",
    "\n",
    "# Agregar el primer párrafo al archivo .tex\n",
    "parrafo_tex(ruta_archivo, nombre_archivo_tex, párrafo1)\n"
   ]
  },
  {
   "cell_type": "markdown",
   "id": "c3f7156c",
   "metadata": {},
   "source": [
    "# 7 Documento LaTex con el tabla de cantidad de artículos por años y citas"
   ]
  },
  {
   "cell_type": "code",
   "execution_count": 8,
   "id": "4bf21750",
   "metadata": {},
   "outputs": [
    {
     "name": "stdout",
     "output_type": "stream",
     "text": [
      "      Nº artículos  Nº de citas\n",
      "Año                            \n",
      "2009           558         9351\n",
      "2010           599         8315\n",
      "2011           701         8505\n",
      "2012           749         8798\n",
      "2013           862        10766\n",
      "2014           894         9335\n",
      "2015           915        10794\n",
      "2016           930         9650\n",
      "2017          1285        12277\n",
      "2018          1225         9143\n",
      "2019          1221         6095\n",
      "2020          1227         5658\n",
      "2021          1355         3152\n",
      "2022          1671         1291\n",
      "2023            12           20\n",
      "Nº de publicaciones y cantidad de citas de los últimos 15 años.\n"
     ]
    }
   ],
   "source": [
    "# Crear una copia del DataFrame original\n",
    "dfB = dfA.copy()\n",
    "\n",
    "# Renombrar la columna 'Year' a 'Año'\n",
    "dfB.rename(columns={'Year': 'Año'}, inplace=True)\n",
    "\n",
    "# Agrupar el DataFrame por año y calcular el tamaño y la suma de la columna 'Cited by'\n",
    "dfA_summary = dfB.groupby('Año')['Cited by'].agg(['size', 'sum'])\n",
    "\n",
    "# Renombrar las columnas del DataFrame agrupado\n",
    "dfA_summary.rename(columns={'size': 'Nº artículos', 'sum': 'Nº de citas'}, inplace=True)\n",
    "\n",
    "# Restablecer el índice del DataFrame\n",
    "dfA_summary.reset_index(inplace=False)\n",
    "\n",
    "# Ordenar el DataFrame por año de forma ascendente\n",
    "dfA_summary.sort_values(by='Año', ascending=True, inplace=True)\n",
    "\n",
    "# Determinar la cantidad de años a mostrar en el resumen\n",
    "años_a_mostrar = 15\n",
    "if dfA['Year'].max() - dfA['Year'].min() + 1 > años_a_mostrar:\n",
    "    años_a_mostrar = años_a_mostrar\n",
    "else:\n",
    "    años_a_mostrar = dfA['Year'].max() - dfA['Year'].min() + 1\n",
    "\n",
    "# Seleccionar los últimos n años para mostrar en el resumen\n",
    "dfA_summary = dfA_summary.tail(años_a_mostrar)\n",
    "\n",
    "# Convertir la columna 'Nº de citas' a enteros\n",
    "dfA_summary['Nº de citas'] = dfA_summary['Nº de citas'].apply(int)\n",
    "\n",
    "# Convertir el DataFrame en una tabla LaTeX\n",
    "latex_table = dfA_summary.to_latex()\n",
    "\n",
    "\n",
    "# Crear la tabla LaTeX con un título y una etiqueta\n",
    "caption = 'Nº de publicaciones y cantidad de citas de los últimos ' + str(años_a_mostrar) + ' años.'\n",
    "label = 'tab: nº publicaciones y citas'\n",
    "latex_table = crear_tabla_latex(latex_table, caption, label)\n",
    "\n",
    "# Agregar la tabla LaTeX al archivo informe.tex\n",
    "crear_tabla_latex(ruta_archivo, nombre_archivo_tex, latex_table)\n",
    "\n",
    "# Imprimir el resumen\n",
    "print(dfA_summary)\n",
    "print(caption)\n"
   ]
  },
  {
   "cell_type": "markdown",
   "id": "b22b62fa",
   "metadata": {},
   "source": [
    "# 8 Documento LaTex con el gráfico de cantidad de artículos por años y citas"
   ]
  },
  {
   "cell_type": "code",
   "execution_count": 9,
   "id": "61338869",
   "metadata": {},
   "outputs": [
    {
     "data": {
      "application/vnd.plotly.v1+json": {
       "config": {
        "plotlyServerURL": "https://plot.ly"
       },
       "data": [
        {
         "alignmentgroup": "True",
         "hovertemplate": "Year=%{x}<br>EID=%{y}<extra></extra>",
         "legendgroup": "",
         "marker": {
          "color": "rgb(76,114,176)",
          "pattern": {
           "shape": ""
          }
         },
         "name": "",
         "offsetgroup": "",
         "orientation": "v",
         "showlegend": false,
         "textposition": "auto",
         "type": "bar",
         "x": [
          1968,
          1969,
          1970,
          1971,
          1972,
          1973,
          1974,
          1975,
          1976,
          1977,
          1978,
          1979,
          1980,
          1981,
          1982,
          1983,
          1984,
          1985,
          1986,
          1987,
          1988,
          1989,
          1990,
          1991,
          1992,
          1993,
          1994,
          1995,
          1996,
          1997,
          1998,
          1999,
          2000,
          2001,
          2002,
          2003,
          2004,
          2005,
          2006,
          2007,
          2008,
          2009,
          2010,
          2011,
          2012,
          2013,
          2014,
          2015,
          2016,
          2017,
          2018,
          2019,
          2020,
          2021,
          2022,
          2023
         ],
         "xaxis": "x",
         "y": [
          22,
          54,
          52,
          73,
          58,
          61,
          145,
          76,
          96,
          87,
          75,
          107,
          137,
          161,
          153,
          172,
          160,
          196,
          184,
          213,
          208,
          219,
          241,
          282,
          242,
          253,
          285,
          249,
          249,
          301,
          271,
          287,
          330,
          341,
          353,
          344,
          319,
          395,
          402,
          466,
          571,
          558,
          599,
          701,
          749,
          862,
          894,
          915,
          930,
          1285,
          1225,
          1221,
          1227,
          1355,
          1671,
          12
         ],
         "yaxis": "y"
        }
       ],
       "layout": {
        "barmode": "relative",
        "legend": {
         "tracegroupgap": 0
        },
        "margin": {
         "t": 60
        },
        "template": {
         "data": {
          "bar": [
           {
            "error_x": {
             "color": "rgb(36,36,36)"
            },
            "error_y": {
             "color": "rgb(36,36,36)"
            },
            "marker": {
             "line": {
              "color": "rgb(234,234,242)",
              "width": 0.5
             },
             "pattern": {
              "fillmode": "overlay",
              "size": 10,
              "solidity": 0.2
             }
            },
            "type": "bar"
           }
          ],
          "barpolar": [
           {
            "marker": {
             "line": {
              "color": "rgb(234,234,242)",
              "width": 0.5
             },
             "pattern": {
              "fillmode": "overlay",
              "size": 10,
              "solidity": 0.2
             }
            },
            "type": "barpolar"
           }
          ],
          "carpet": [
           {
            "aaxis": {
             "endlinecolor": "rgb(36,36,36)",
             "gridcolor": "white",
             "linecolor": "white",
             "minorgridcolor": "white",
             "startlinecolor": "rgb(36,36,36)"
            },
            "baxis": {
             "endlinecolor": "rgb(36,36,36)",
             "gridcolor": "white",
             "linecolor": "white",
             "minorgridcolor": "white",
             "startlinecolor": "rgb(36,36,36)"
            },
            "type": "carpet"
           }
          ],
          "choropleth": [
           {
            "colorbar": {
             "outlinewidth": 0,
             "tickcolor": "rgb(36,36,36)",
             "ticklen": 8,
             "ticks": "outside",
             "tickwidth": 2
            },
            "type": "choropleth"
           }
          ],
          "contour": [
           {
            "colorbar": {
             "outlinewidth": 0,
             "tickcolor": "rgb(36,36,36)",
             "ticklen": 8,
             "ticks": "outside",
             "tickwidth": 2
            },
            "colorscale": [
             [
              0,
              "rgb(2,4,25)"
             ],
             [
              0.06274509803921569,
              "rgb(24,15,41)"
             ],
             [
              0.12549019607843137,
              "rgb(47,23,57)"
             ],
             [
              0.18823529411764706,
              "rgb(71,28,72)"
             ],
             [
              0.25098039215686274,
              "rgb(97,30,82)"
             ],
             [
              0.3137254901960784,
              "rgb(123,30,89)"
             ],
             [
              0.3764705882352941,
              "rgb(150,27,91)"
             ],
             [
              0.4392156862745098,
              "rgb(177,22,88)"
             ],
             [
              0.5019607843137255,
              "rgb(203,26,79)"
             ],
             [
              0.5647058823529412,
              "rgb(223,47,67)"
             ],
             [
              0.6274509803921569,
              "rgb(236,76,61)"
             ],
             [
              0.6901960784313725,
              "rgb(242,107,73)"
             ],
             [
              0.7529411764705882,
              "rgb(244,135,95)"
             ],
             [
              0.8156862745098039,
              "rgb(245,162,122)"
             ],
             [
              0.8784313725490196,
              "rgb(246,188,153)"
             ],
             [
              0.9411764705882353,
              "rgb(247,212,187)"
             ],
             [
              1,
              "rgb(250,234,220)"
             ]
            ],
            "type": "contour"
           }
          ],
          "contourcarpet": [
           {
            "colorbar": {
             "outlinewidth": 0,
             "tickcolor": "rgb(36,36,36)",
             "ticklen": 8,
             "ticks": "outside",
             "tickwidth": 2
            },
            "type": "contourcarpet"
           }
          ],
          "heatmap": [
           {
            "colorbar": {
             "outlinewidth": 0,
             "tickcolor": "rgb(36,36,36)",
             "ticklen": 8,
             "ticks": "outside",
             "tickwidth": 2
            },
            "colorscale": [
             [
              0,
              "rgb(2,4,25)"
             ],
             [
              0.06274509803921569,
              "rgb(24,15,41)"
             ],
             [
              0.12549019607843137,
              "rgb(47,23,57)"
             ],
             [
              0.18823529411764706,
              "rgb(71,28,72)"
             ],
             [
              0.25098039215686274,
              "rgb(97,30,82)"
             ],
             [
              0.3137254901960784,
              "rgb(123,30,89)"
             ],
             [
              0.3764705882352941,
              "rgb(150,27,91)"
             ],
             [
              0.4392156862745098,
              "rgb(177,22,88)"
             ],
             [
              0.5019607843137255,
              "rgb(203,26,79)"
             ],
             [
              0.5647058823529412,
              "rgb(223,47,67)"
             ],
             [
              0.6274509803921569,
              "rgb(236,76,61)"
             ],
             [
              0.6901960784313725,
              "rgb(242,107,73)"
             ],
             [
              0.7529411764705882,
              "rgb(244,135,95)"
             ],
             [
              0.8156862745098039,
              "rgb(245,162,122)"
             ],
             [
              0.8784313725490196,
              "rgb(246,188,153)"
             ],
             [
              0.9411764705882353,
              "rgb(247,212,187)"
             ],
             [
              1,
              "rgb(250,234,220)"
             ]
            ],
            "type": "heatmap"
           }
          ],
          "heatmapgl": [
           {
            "colorbar": {
             "outlinewidth": 0,
             "tickcolor": "rgb(36,36,36)",
             "ticklen": 8,
             "ticks": "outside",
             "tickwidth": 2
            },
            "colorscale": [
             [
              0,
              "rgb(2,4,25)"
             ],
             [
              0.06274509803921569,
              "rgb(24,15,41)"
             ],
             [
              0.12549019607843137,
              "rgb(47,23,57)"
             ],
             [
              0.18823529411764706,
              "rgb(71,28,72)"
             ],
             [
              0.25098039215686274,
              "rgb(97,30,82)"
             ],
             [
              0.3137254901960784,
              "rgb(123,30,89)"
             ],
             [
              0.3764705882352941,
              "rgb(150,27,91)"
             ],
             [
              0.4392156862745098,
              "rgb(177,22,88)"
             ],
             [
              0.5019607843137255,
              "rgb(203,26,79)"
             ],
             [
              0.5647058823529412,
              "rgb(223,47,67)"
             ],
             [
              0.6274509803921569,
              "rgb(236,76,61)"
             ],
             [
              0.6901960784313725,
              "rgb(242,107,73)"
             ],
             [
              0.7529411764705882,
              "rgb(244,135,95)"
             ],
             [
              0.8156862745098039,
              "rgb(245,162,122)"
             ],
             [
              0.8784313725490196,
              "rgb(246,188,153)"
             ],
             [
              0.9411764705882353,
              "rgb(247,212,187)"
             ],
             [
              1,
              "rgb(250,234,220)"
             ]
            ],
            "type": "heatmapgl"
           }
          ],
          "histogram": [
           {
            "marker": {
             "pattern": {
              "fillmode": "overlay",
              "size": 10,
              "solidity": 0.2
             }
            },
            "type": "histogram"
           }
          ],
          "histogram2d": [
           {
            "colorbar": {
             "outlinewidth": 0,
             "tickcolor": "rgb(36,36,36)",
             "ticklen": 8,
             "ticks": "outside",
             "tickwidth": 2
            },
            "colorscale": [
             [
              0,
              "rgb(2,4,25)"
             ],
             [
              0.06274509803921569,
              "rgb(24,15,41)"
             ],
             [
              0.12549019607843137,
              "rgb(47,23,57)"
             ],
             [
              0.18823529411764706,
              "rgb(71,28,72)"
             ],
             [
              0.25098039215686274,
              "rgb(97,30,82)"
             ],
             [
              0.3137254901960784,
              "rgb(123,30,89)"
             ],
             [
              0.3764705882352941,
              "rgb(150,27,91)"
             ],
             [
              0.4392156862745098,
              "rgb(177,22,88)"
             ],
             [
              0.5019607843137255,
              "rgb(203,26,79)"
             ],
             [
              0.5647058823529412,
              "rgb(223,47,67)"
             ],
             [
              0.6274509803921569,
              "rgb(236,76,61)"
             ],
             [
              0.6901960784313725,
              "rgb(242,107,73)"
             ],
             [
              0.7529411764705882,
              "rgb(244,135,95)"
             ],
             [
              0.8156862745098039,
              "rgb(245,162,122)"
             ],
             [
              0.8784313725490196,
              "rgb(246,188,153)"
             ],
             [
              0.9411764705882353,
              "rgb(247,212,187)"
             ],
             [
              1,
              "rgb(250,234,220)"
             ]
            ],
            "type": "histogram2d"
           }
          ],
          "histogram2dcontour": [
           {
            "colorbar": {
             "outlinewidth": 0,
             "tickcolor": "rgb(36,36,36)",
             "ticklen": 8,
             "ticks": "outside",
             "tickwidth": 2
            },
            "colorscale": [
             [
              0,
              "rgb(2,4,25)"
             ],
             [
              0.06274509803921569,
              "rgb(24,15,41)"
             ],
             [
              0.12549019607843137,
              "rgb(47,23,57)"
             ],
             [
              0.18823529411764706,
              "rgb(71,28,72)"
             ],
             [
              0.25098039215686274,
              "rgb(97,30,82)"
             ],
             [
              0.3137254901960784,
              "rgb(123,30,89)"
             ],
             [
              0.3764705882352941,
              "rgb(150,27,91)"
             ],
             [
              0.4392156862745098,
              "rgb(177,22,88)"
             ],
             [
              0.5019607843137255,
              "rgb(203,26,79)"
             ],
             [
              0.5647058823529412,
              "rgb(223,47,67)"
             ],
             [
              0.6274509803921569,
              "rgb(236,76,61)"
             ],
             [
              0.6901960784313725,
              "rgb(242,107,73)"
             ],
             [
              0.7529411764705882,
              "rgb(244,135,95)"
             ],
             [
              0.8156862745098039,
              "rgb(245,162,122)"
             ],
             [
              0.8784313725490196,
              "rgb(246,188,153)"
             ],
             [
              0.9411764705882353,
              "rgb(247,212,187)"
             ],
             [
              1,
              "rgb(250,234,220)"
             ]
            ],
            "type": "histogram2dcontour"
           }
          ],
          "mesh3d": [
           {
            "colorbar": {
             "outlinewidth": 0,
             "tickcolor": "rgb(36,36,36)",
             "ticklen": 8,
             "ticks": "outside",
             "tickwidth": 2
            },
            "type": "mesh3d"
           }
          ],
          "parcoords": [
           {
            "line": {
             "colorbar": {
              "outlinewidth": 0,
              "tickcolor": "rgb(36,36,36)",
              "ticklen": 8,
              "ticks": "outside",
              "tickwidth": 2
             }
            },
            "type": "parcoords"
           }
          ],
          "pie": [
           {
            "automargin": true,
            "type": "pie"
           }
          ],
          "scatter": [
           {
            "fillpattern": {
             "fillmode": "overlay",
             "size": 10,
             "solidity": 0.2
            },
            "type": "scatter"
           }
          ],
          "scatter3d": [
           {
            "line": {
             "colorbar": {
              "outlinewidth": 0,
              "tickcolor": "rgb(36,36,36)",
              "ticklen": 8,
              "ticks": "outside",
              "tickwidth": 2
             }
            },
            "marker": {
             "colorbar": {
              "outlinewidth": 0,
              "tickcolor": "rgb(36,36,36)",
              "ticklen": 8,
              "ticks": "outside",
              "tickwidth": 2
             }
            },
            "type": "scatter3d"
           }
          ],
          "scattercarpet": [
           {
            "marker": {
             "colorbar": {
              "outlinewidth": 0,
              "tickcolor": "rgb(36,36,36)",
              "ticklen": 8,
              "ticks": "outside",
              "tickwidth": 2
             }
            },
            "type": "scattercarpet"
           }
          ],
          "scattergeo": [
           {
            "marker": {
             "colorbar": {
              "outlinewidth": 0,
              "tickcolor": "rgb(36,36,36)",
              "ticklen": 8,
              "ticks": "outside",
              "tickwidth": 2
             }
            },
            "type": "scattergeo"
           }
          ],
          "scattergl": [
           {
            "marker": {
             "colorbar": {
              "outlinewidth": 0,
              "tickcolor": "rgb(36,36,36)",
              "ticklen": 8,
              "ticks": "outside",
              "tickwidth": 2
             }
            },
            "type": "scattergl"
           }
          ],
          "scattermapbox": [
           {
            "marker": {
             "colorbar": {
              "outlinewidth": 0,
              "tickcolor": "rgb(36,36,36)",
              "ticklen": 8,
              "ticks": "outside",
              "tickwidth": 2
             }
            },
            "type": "scattermapbox"
           }
          ],
          "scatterpolar": [
           {
            "marker": {
             "colorbar": {
              "outlinewidth": 0,
              "tickcolor": "rgb(36,36,36)",
              "ticklen": 8,
              "ticks": "outside",
              "tickwidth": 2
             }
            },
            "type": "scatterpolar"
           }
          ],
          "scatterpolargl": [
           {
            "marker": {
             "colorbar": {
              "outlinewidth": 0,
              "tickcolor": "rgb(36,36,36)",
              "ticklen": 8,
              "ticks": "outside",
              "tickwidth": 2
             }
            },
            "type": "scatterpolargl"
           }
          ],
          "scatterternary": [
           {
            "marker": {
             "colorbar": {
              "outlinewidth": 0,
              "tickcolor": "rgb(36,36,36)",
              "ticklen": 8,
              "ticks": "outside",
              "tickwidth": 2
             }
            },
            "type": "scatterternary"
           }
          ],
          "surface": [
           {
            "colorbar": {
             "outlinewidth": 0,
             "tickcolor": "rgb(36,36,36)",
             "ticklen": 8,
             "ticks": "outside",
             "tickwidth": 2
            },
            "colorscale": [
             [
              0,
              "rgb(2,4,25)"
             ],
             [
              0.06274509803921569,
              "rgb(24,15,41)"
             ],
             [
              0.12549019607843137,
              "rgb(47,23,57)"
             ],
             [
              0.18823529411764706,
              "rgb(71,28,72)"
             ],
             [
              0.25098039215686274,
              "rgb(97,30,82)"
             ],
             [
              0.3137254901960784,
              "rgb(123,30,89)"
             ],
             [
              0.3764705882352941,
              "rgb(150,27,91)"
             ],
             [
              0.4392156862745098,
              "rgb(177,22,88)"
             ],
             [
              0.5019607843137255,
              "rgb(203,26,79)"
             ],
             [
              0.5647058823529412,
              "rgb(223,47,67)"
             ],
             [
              0.6274509803921569,
              "rgb(236,76,61)"
             ],
             [
              0.6901960784313725,
              "rgb(242,107,73)"
             ],
             [
              0.7529411764705882,
              "rgb(244,135,95)"
             ],
             [
              0.8156862745098039,
              "rgb(245,162,122)"
             ],
             [
              0.8784313725490196,
              "rgb(246,188,153)"
             ],
             [
              0.9411764705882353,
              "rgb(247,212,187)"
             ],
             [
              1,
              "rgb(250,234,220)"
             ]
            ],
            "type": "surface"
           }
          ],
          "table": [
           {
            "cells": {
             "fill": {
              "color": "rgb(231,231,240)"
             },
             "line": {
              "color": "white"
             }
            },
            "header": {
             "fill": {
              "color": "rgb(183,183,191)"
             },
             "line": {
              "color": "white"
             }
            },
            "type": "table"
           }
          ]
         },
         "layout": {
          "annotationdefaults": {
           "arrowcolor": "rgb(67,103,167)"
          },
          "autotypenumbers": "strict",
          "coloraxis": {
           "colorbar": {
            "outlinewidth": 0,
            "tickcolor": "rgb(36,36,36)",
            "ticklen": 8,
            "ticks": "outside",
            "tickwidth": 2
           }
          },
          "colorscale": {
           "sequential": [
            [
             0,
             "rgb(2,4,25)"
            ],
            [
             0.06274509803921569,
             "rgb(24,15,41)"
            ],
            [
             0.12549019607843137,
             "rgb(47,23,57)"
            ],
            [
             0.18823529411764706,
             "rgb(71,28,72)"
            ],
            [
             0.25098039215686274,
             "rgb(97,30,82)"
            ],
            [
             0.3137254901960784,
             "rgb(123,30,89)"
            ],
            [
             0.3764705882352941,
             "rgb(150,27,91)"
            ],
            [
             0.4392156862745098,
             "rgb(177,22,88)"
            ],
            [
             0.5019607843137255,
             "rgb(203,26,79)"
            ],
            [
             0.5647058823529412,
             "rgb(223,47,67)"
            ],
            [
             0.6274509803921569,
             "rgb(236,76,61)"
            ],
            [
             0.6901960784313725,
             "rgb(242,107,73)"
            ],
            [
             0.7529411764705882,
             "rgb(244,135,95)"
            ],
            [
             0.8156862745098039,
             "rgb(245,162,122)"
            ],
            [
             0.8784313725490196,
             "rgb(246,188,153)"
            ],
            [
             0.9411764705882353,
             "rgb(247,212,187)"
            ],
            [
             1,
             "rgb(250,234,220)"
            ]
           ],
           "sequentialminus": [
            [
             0,
             "rgb(2,4,25)"
            ],
            [
             0.06274509803921569,
             "rgb(24,15,41)"
            ],
            [
             0.12549019607843137,
             "rgb(47,23,57)"
            ],
            [
             0.18823529411764706,
             "rgb(71,28,72)"
            ],
            [
             0.25098039215686274,
             "rgb(97,30,82)"
            ],
            [
             0.3137254901960784,
             "rgb(123,30,89)"
            ],
            [
             0.3764705882352941,
             "rgb(150,27,91)"
            ],
            [
             0.4392156862745098,
             "rgb(177,22,88)"
            ],
            [
             0.5019607843137255,
             "rgb(203,26,79)"
            ],
            [
             0.5647058823529412,
             "rgb(223,47,67)"
            ],
            [
             0.6274509803921569,
             "rgb(236,76,61)"
            ],
            [
             0.6901960784313725,
             "rgb(242,107,73)"
            ],
            [
             0.7529411764705882,
             "rgb(244,135,95)"
            ],
            [
             0.8156862745098039,
             "rgb(245,162,122)"
            ],
            [
             0.8784313725490196,
             "rgb(246,188,153)"
            ],
            [
             0.9411764705882353,
             "rgb(247,212,187)"
            ],
            [
             1,
             "rgb(250,234,220)"
            ]
           ]
          },
          "colorway": [
           "rgb(76,114,176)",
           "rgb(221,132,82)",
           "rgb(85,168,104)",
           "rgb(196,78,82)",
           "rgb(129,114,179)",
           "rgb(147,120,96)",
           "rgb(218,139,195)",
           "rgb(140,140,140)",
           "rgb(204,185,116)",
           "rgb(100,181,205)"
          ],
          "font": {
           "color": "rgb(36,36,36)"
          },
          "geo": {
           "bgcolor": "white",
           "lakecolor": "white",
           "landcolor": "rgb(234,234,242)",
           "showlakes": true,
           "showland": true,
           "subunitcolor": "white"
          },
          "hoverlabel": {
           "align": "left"
          },
          "hovermode": "closest",
          "paper_bgcolor": "white",
          "plot_bgcolor": "rgb(234,234,242)",
          "polar": {
           "angularaxis": {
            "gridcolor": "white",
            "linecolor": "white",
            "showgrid": true,
            "ticks": ""
           },
           "bgcolor": "rgb(234,234,242)",
           "radialaxis": {
            "gridcolor": "white",
            "linecolor": "white",
            "showgrid": true,
            "ticks": ""
           }
          },
          "scene": {
           "xaxis": {
            "backgroundcolor": "rgb(234,234,242)",
            "gridcolor": "white",
            "gridwidth": 2,
            "linecolor": "white",
            "showbackground": true,
            "showgrid": true,
            "ticks": "",
            "zerolinecolor": "white"
           },
           "yaxis": {
            "backgroundcolor": "rgb(234,234,242)",
            "gridcolor": "white",
            "gridwidth": 2,
            "linecolor": "white",
            "showbackground": true,
            "showgrid": true,
            "ticks": "",
            "zerolinecolor": "white"
           },
           "zaxis": {
            "backgroundcolor": "rgb(234,234,242)",
            "gridcolor": "white",
            "gridwidth": 2,
            "linecolor": "white",
            "showbackground": true,
            "showgrid": true,
            "ticks": "",
            "zerolinecolor": "white"
           }
          },
          "shapedefaults": {
           "fillcolor": "rgb(67,103,167)",
           "line": {
            "width": 0
           },
           "opacity": 0.5
          },
          "ternary": {
           "aaxis": {
            "gridcolor": "white",
            "linecolor": "white",
            "showgrid": true,
            "ticks": ""
           },
           "baxis": {
            "gridcolor": "white",
            "linecolor": "white",
            "showgrid": true,
            "ticks": ""
           },
           "bgcolor": "rgb(234,234,242)",
           "caxis": {
            "gridcolor": "white",
            "linecolor": "white",
            "showgrid": true,
            "ticks": ""
           }
          },
          "xaxis": {
           "automargin": true,
           "gridcolor": "white",
           "linecolor": "white",
           "showgrid": true,
           "ticks": "",
           "title": {
            "standoff": 15
           },
           "zerolinecolor": "white"
          },
          "yaxis": {
           "automargin": true,
           "gridcolor": "white",
           "linecolor": "white",
           "showgrid": true,
           "ticks": "",
           "title": {
            "standoff": 15
           },
           "zerolinecolor": "white"
          }
         }
        },
        "title": {
         "text": "Nº de artículos en los últimos 15 años"
        },
        "xaxis": {
         "anchor": "y",
         "domain": [
          0,
          1
         ],
         "range": [
          2007.5,
          2022.5
         ],
         "title": {
          "text": "Año"
         }
        },
        "yaxis": {
         "anchor": "x",
         "domain": [
          0,
          1
         ],
         "title": {
          "text": "Nº de artículos"
         }
        }
       }
      },
      "text/html": [
       "<div>                            <div id=\"70962b29-7a56-430f-9be7-840eb2a4145d\" class=\"plotly-graph-div\" style=\"height:525px; width:100%;\"></div>            <script type=\"text/javascript\">                require([\"plotly\"], function(Plotly) {                    window.PLOTLYENV=window.PLOTLYENV || {};                                    if (document.getElementById(\"70962b29-7a56-430f-9be7-840eb2a4145d\")) {                    Plotly.newPlot(                        \"70962b29-7a56-430f-9be7-840eb2a4145d\",                        [{\"alignmentgroup\":\"True\",\"hovertemplate\":\"Year=%{x}<br>EID=%{y}<extra></extra>\",\"legendgroup\":\"\",\"marker\":{\"color\":\"rgb(76,114,176)\",\"pattern\":{\"shape\":\"\"}},\"name\":\"\",\"offsetgroup\":\"\",\"orientation\":\"v\",\"showlegend\":false,\"textposition\":\"auto\",\"x\":[1968,1969,1970,1971,1972,1973,1974,1975,1976,1977,1978,1979,1980,1981,1982,1983,1984,1985,1986,1987,1988,1989,1990,1991,1992,1993,1994,1995,1996,1997,1998,1999,2000,2001,2002,2003,2004,2005,2006,2007,2008,2009,2010,2011,2012,2013,2014,2015,2016,2017,2018,2019,2020,2021,2022,2023],\"xaxis\":\"x\",\"y\":[22,54,52,73,58,61,145,76,96,87,75,107,137,161,153,172,160,196,184,213,208,219,241,282,242,253,285,249,249,301,271,287,330,341,353,344,319,395,402,466,571,558,599,701,749,862,894,915,930,1285,1225,1221,1227,1355,1671,12],\"yaxis\":\"y\",\"type\":\"bar\"}],                        {\"template\":{\"data\":{\"barpolar\":[{\"marker\":{\"line\":{\"color\":\"rgb(234,234,242)\",\"width\":0.5},\"pattern\":{\"fillmode\":\"overlay\",\"size\":10,\"solidity\":0.2}},\"type\":\"barpolar\"}],\"bar\":[{\"error_x\":{\"color\":\"rgb(36,36,36)\"},\"error_y\":{\"color\":\"rgb(36,36,36)\"},\"marker\":{\"line\":{\"color\":\"rgb(234,234,242)\",\"width\":0.5},\"pattern\":{\"fillmode\":\"overlay\",\"size\":10,\"solidity\":0.2}},\"type\":\"bar\"}],\"carpet\":[{\"aaxis\":{\"endlinecolor\":\"rgb(36,36,36)\",\"gridcolor\":\"white\",\"linecolor\":\"white\",\"minorgridcolor\":\"white\",\"startlinecolor\":\"rgb(36,36,36)\"},\"baxis\":{\"endlinecolor\":\"rgb(36,36,36)\",\"gridcolor\":\"white\",\"linecolor\":\"white\",\"minorgridcolor\":\"white\",\"startlinecolor\":\"rgb(36,36,36)\"},\"type\":\"carpet\"}],\"choropleth\":[{\"colorbar\":{\"outlinewidth\":0,\"tickcolor\":\"rgb(36,36,36)\",\"ticklen\":8,\"ticks\":\"outside\",\"tickwidth\":2},\"type\":\"choropleth\"}],\"contourcarpet\":[{\"colorbar\":{\"outlinewidth\":0,\"tickcolor\":\"rgb(36,36,36)\",\"ticklen\":8,\"ticks\":\"outside\",\"tickwidth\":2},\"type\":\"contourcarpet\"}],\"contour\":[{\"colorbar\":{\"outlinewidth\":0,\"tickcolor\":\"rgb(36,36,36)\",\"ticklen\":8,\"ticks\":\"outside\",\"tickwidth\":2},\"colorscale\":[[0.0,\"rgb(2,4,25)\"],[0.06274509803921569,\"rgb(24,15,41)\"],[0.12549019607843137,\"rgb(47,23,57)\"],[0.18823529411764706,\"rgb(71,28,72)\"],[0.25098039215686274,\"rgb(97,30,82)\"],[0.3137254901960784,\"rgb(123,30,89)\"],[0.3764705882352941,\"rgb(150,27,91)\"],[0.4392156862745098,\"rgb(177,22,88)\"],[0.5019607843137255,\"rgb(203,26,79)\"],[0.5647058823529412,\"rgb(223,47,67)\"],[0.6274509803921569,\"rgb(236,76,61)\"],[0.6901960784313725,\"rgb(242,107,73)\"],[0.7529411764705882,\"rgb(244,135,95)\"],[0.8156862745098039,\"rgb(245,162,122)\"],[0.8784313725490196,\"rgb(246,188,153)\"],[0.9411764705882353,\"rgb(247,212,187)\"],[1.0,\"rgb(250,234,220)\"]],\"type\":\"contour\"}],\"heatmapgl\":[{\"colorbar\":{\"outlinewidth\":0,\"tickcolor\":\"rgb(36,36,36)\",\"ticklen\":8,\"ticks\":\"outside\",\"tickwidth\":2},\"colorscale\":[[0.0,\"rgb(2,4,25)\"],[0.06274509803921569,\"rgb(24,15,41)\"],[0.12549019607843137,\"rgb(47,23,57)\"],[0.18823529411764706,\"rgb(71,28,72)\"],[0.25098039215686274,\"rgb(97,30,82)\"],[0.3137254901960784,\"rgb(123,30,89)\"],[0.3764705882352941,\"rgb(150,27,91)\"],[0.4392156862745098,\"rgb(177,22,88)\"],[0.5019607843137255,\"rgb(203,26,79)\"],[0.5647058823529412,\"rgb(223,47,67)\"],[0.6274509803921569,\"rgb(236,76,61)\"],[0.6901960784313725,\"rgb(242,107,73)\"],[0.7529411764705882,\"rgb(244,135,95)\"],[0.8156862745098039,\"rgb(245,162,122)\"],[0.8784313725490196,\"rgb(246,188,153)\"],[0.9411764705882353,\"rgb(247,212,187)\"],[1.0,\"rgb(250,234,220)\"]],\"type\":\"heatmapgl\"}],\"heatmap\":[{\"colorbar\":{\"outlinewidth\":0,\"tickcolor\":\"rgb(36,36,36)\",\"ticklen\":8,\"ticks\":\"outside\",\"tickwidth\":2},\"colorscale\":[[0.0,\"rgb(2,4,25)\"],[0.06274509803921569,\"rgb(24,15,41)\"],[0.12549019607843137,\"rgb(47,23,57)\"],[0.18823529411764706,\"rgb(71,28,72)\"],[0.25098039215686274,\"rgb(97,30,82)\"],[0.3137254901960784,\"rgb(123,30,89)\"],[0.3764705882352941,\"rgb(150,27,91)\"],[0.4392156862745098,\"rgb(177,22,88)\"],[0.5019607843137255,\"rgb(203,26,79)\"],[0.5647058823529412,\"rgb(223,47,67)\"],[0.6274509803921569,\"rgb(236,76,61)\"],[0.6901960784313725,\"rgb(242,107,73)\"],[0.7529411764705882,\"rgb(244,135,95)\"],[0.8156862745098039,\"rgb(245,162,122)\"],[0.8784313725490196,\"rgb(246,188,153)\"],[0.9411764705882353,\"rgb(247,212,187)\"],[1.0,\"rgb(250,234,220)\"]],\"type\":\"heatmap\"}],\"histogram2dcontour\":[{\"colorbar\":{\"outlinewidth\":0,\"tickcolor\":\"rgb(36,36,36)\",\"ticklen\":8,\"ticks\":\"outside\",\"tickwidth\":2},\"colorscale\":[[0.0,\"rgb(2,4,25)\"],[0.06274509803921569,\"rgb(24,15,41)\"],[0.12549019607843137,\"rgb(47,23,57)\"],[0.18823529411764706,\"rgb(71,28,72)\"],[0.25098039215686274,\"rgb(97,30,82)\"],[0.3137254901960784,\"rgb(123,30,89)\"],[0.3764705882352941,\"rgb(150,27,91)\"],[0.4392156862745098,\"rgb(177,22,88)\"],[0.5019607843137255,\"rgb(203,26,79)\"],[0.5647058823529412,\"rgb(223,47,67)\"],[0.6274509803921569,\"rgb(236,76,61)\"],[0.6901960784313725,\"rgb(242,107,73)\"],[0.7529411764705882,\"rgb(244,135,95)\"],[0.8156862745098039,\"rgb(245,162,122)\"],[0.8784313725490196,\"rgb(246,188,153)\"],[0.9411764705882353,\"rgb(247,212,187)\"],[1.0,\"rgb(250,234,220)\"]],\"type\":\"histogram2dcontour\"}],\"histogram2d\":[{\"colorbar\":{\"outlinewidth\":0,\"tickcolor\":\"rgb(36,36,36)\",\"ticklen\":8,\"ticks\":\"outside\",\"tickwidth\":2},\"colorscale\":[[0.0,\"rgb(2,4,25)\"],[0.06274509803921569,\"rgb(24,15,41)\"],[0.12549019607843137,\"rgb(47,23,57)\"],[0.18823529411764706,\"rgb(71,28,72)\"],[0.25098039215686274,\"rgb(97,30,82)\"],[0.3137254901960784,\"rgb(123,30,89)\"],[0.3764705882352941,\"rgb(150,27,91)\"],[0.4392156862745098,\"rgb(177,22,88)\"],[0.5019607843137255,\"rgb(203,26,79)\"],[0.5647058823529412,\"rgb(223,47,67)\"],[0.6274509803921569,\"rgb(236,76,61)\"],[0.6901960784313725,\"rgb(242,107,73)\"],[0.7529411764705882,\"rgb(244,135,95)\"],[0.8156862745098039,\"rgb(245,162,122)\"],[0.8784313725490196,\"rgb(246,188,153)\"],[0.9411764705882353,\"rgb(247,212,187)\"],[1.0,\"rgb(250,234,220)\"]],\"type\":\"histogram2d\"}],\"histogram\":[{\"marker\":{\"pattern\":{\"fillmode\":\"overlay\",\"size\":10,\"solidity\":0.2}},\"type\":\"histogram\"}],\"mesh3d\":[{\"colorbar\":{\"outlinewidth\":0,\"tickcolor\":\"rgb(36,36,36)\",\"ticklen\":8,\"ticks\":\"outside\",\"tickwidth\":2},\"type\":\"mesh3d\"}],\"parcoords\":[{\"line\":{\"colorbar\":{\"outlinewidth\":0,\"tickcolor\":\"rgb(36,36,36)\",\"ticklen\":8,\"ticks\":\"outside\",\"tickwidth\":2}},\"type\":\"parcoords\"}],\"pie\":[{\"automargin\":true,\"type\":\"pie\"}],\"scatter3d\":[{\"line\":{\"colorbar\":{\"outlinewidth\":0,\"tickcolor\":\"rgb(36,36,36)\",\"ticklen\":8,\"ticks\":\"outside\",\"tickwidth\":2}},\"marker\":{\"colorbar\":{\"outlinewidth\":0,\"tickcolor\":\"rgb(36,36,36)\",\"ticklen\":8,\"ticks\":\"outside\",\"tickwidth\":2}},\"type\":\"scatter3d\"}],\"scattercarpet\":[{\"marker\":{\"colorbar\":{\"outlinewidth\":0,\"tickcolor\":\"rgb(36,36,36)\",\"ticklen\":8,\"ticks\":\"outside\",\"tickwidth\":2}},\"type\":\"scattercarpet\"}],\"scattergeo\":[{\"marker\":{\"colorbar\":{\"outlinewidth\":0,\"tickcolor\":\"rgb(36,36,36)\",\"ticklen\":8,\"ticks\":\"outside\",\"tickwidth\":2}},\"type\":\"scattergeo\"}],\"scattergl\":[{\"marker\":{\"colorbar\":{\"outlinewidth\":0,\"tickcolor\":\"rgb(36,36,36)\",\"ticklen\":8,\"ticks\":\"outside\",\"tickwidth\":2}},\"type\":\"scattergl\"}],\"scattermapbox\":[{\"marker\":{\"colorbar\":{\"outlinewidth\":0,\"tickcolor\":\"rgb(36,36,36)\",\"ticklen\":8,\"ticks\":\"outside\",\"tickwidth\":2}},\"type\":\"scattermapbox\"}],\"scatterpolargl\":[{\"marker\":{\"colorbar\":{\"outlinewidth\":0,\"tickcolor\":\"rgb(36,36,36)\",\"ticklen\":8,\"ticks\":\"outside\",\"tickwidth\":2}},\"type\":\"scatterpolargl\"}],\"scatterpolar\":[{\"marker\":{\"colorbar\":{\"outlinewidth\":0,\"tickcolor\":\"rgb(36,36,36)\",\"ticklen\":8,\"ticks\":\"outside\",\"tickwidth\":2}},\"type\":\"scatterpolar\"}],\"scatter\":[{\"fillpattern\":{\"fillmode\":\"overlay\",\"size\":10,\"solidity\":0.2},\"type\":\"scatter\"}],\"scatterternary\":[{\"marker\":{\"colorbar\":{\"outlinewidth\":0,\"tickcolor\":\"rgb(36,36,36)\",\"ticklen\":8,\"ticks\":\"outside\",\"tickwidth\":2}},\"type\":\"scatterternary\"}],\"surface\":[{\"colorbar\":{\"outlinewidth\":0,\"tickcolor\":\"rgb(36,36,36)\",\"ticklen\":8,\"ticks\":\"outside\",\"tickwidth\":2},\"colorscale\":[[0.0,\"rgb(2,4,25)\"],[0.06274509803921569,\"rgb(24,15,41)\"],[0.12549019607843137,\"rgb(47,23,57)\"],[0.18823529411764706,\"rgb(71,28,72)\"],[0.25098039215686274,\"rgb(97,30,82)\"],[0.3137254901960784,\"rgb(123,30,89)\"],[0.3764705882352941,\"rgb(150,27,91)\"],[0.4392156862745098,\"rgb(177,22,88)\"],[0.5019607843137255,\"rgb(203,26,79)\"],[0.5647058823529412,\"rgb(223,47,67)\"],[0.6274509803921569,\"rgb(236,76,61)\"],[0.6901960784313725,\"rgb(242,107,73)\"],[0.7529411764705882,\"rgb(244,135,95)\"],[0.8156862745098039,\"rgb(245,162,122)\"],[0.8784313725490196,\"rgb(246,188,153)\"],[0.9411764705882353,\"rgb(247,212,187)\"],[1.0,\"rgb(250,234,220)\"]],\"type\":\"surface\"}],\"table\":[{\"cells\":{\"fill\":{\"color\":\"rgb(231,231,240)\"},\"line\":{\"color\":\"white\"}},\"header\":{\"fill\":{\"color\":\"rgb(183,183,191)\"},\"line\":{\"color\":\"white\"}},\"type\":\"table\"}]},\"layout\":{\"annotationdefaults\":{\"arrowcolor\":\"rgb(67,103,167)\"},\"autotypenumbers\":\"strict\",\"coloraxis\":{\"colorbar\":{\"outlinewidth\":0,\"tickcolor\":\"rgb(36,36,36)\",\"ticklen\":8,\"ticks\":\"outside\",\"tickwidth\":2}},\"colorscale\":{\"sequential\":[[0.0,\"rgb(2,4,25)\"],[0.06274509803921569,\"rgb(24,15,41)\"],[0.12549019607843137,\"rgb(47,23,57)\"],[0.18823529411764706,\"rgb(71,28,72)\"],[0.25098039215686274,\"rgb(97,30,82)\"],[0.3137254901960784,\"rgb(123,30,89)\"],[0.3764705882352941,\"rgb(150,27,91)\"],[0.4392156862745098,\"rgb(177,22,88)\"],[0.5019607843137255,\"rgb(203,26,79)\"],[0.5647058823529412,\"rgb(223,47,67)\"],[0.6274509803921569,\"rgb(236,76,61)\"],[0.6901960784313725,\"rgb(242,107,73)\"],[0.7529411764705882,\"rgb(244,135,95)\"],[0.8156862745098039,\"rgb(245,162,122)\"],[0.8784313725490196,\"rgb(246,188,153)\"],[0.9411764705882353,\"rgb(247,212,187)\"],[1.0,\"rgb(250,234,220)\"]],\"sequentialminus\":[[0.0,\"rgb(2,4,25)\"],[0.06274509803921569,\"rgb(24,15,41)\"],[0.12549019607843137,\"rgb(47,23,57)\"],[0.18823529411764706,\"rgb(71,28,72)\"],[0.25098039215686274,\"rgb(97,30,82)\"],[0.3137254901960784,\"rgb(123,30,89)\"],[0.3764705882352941,\"rgb(150,27,91)\"],[0.4392156862745098,\"rgb(177,22,88)\"],[0.5019607843137255,\"rgb(203,26,79)\"],[0.5647058823529412,\"rgb(223,47,67)\"],[0.6274509803921569,\"rgb(236,76,61)\"],[0.6901960784313725,\"rgb(242,107,73)\"],[0.7529411764705882,\"rgb(244,135,95)\"],[0.8156862745098039,\"rgb(245,162,122)\"],[0.8784313725490196,\"rgb(246,188,153)\"],[0.9411764705882353,\"rgb(247,212,187)\"],[1.0,\"rgb(250,234,220)\"]]},\"colorway\":[\"rgb(76,114,176)\",\"rgb(221,132,82)\",\"rgb(85,168,104)\",\"rgb(196,78,82)\",\"rgb(129,114,179)\",\"rgb(147,120,96)\",\"rgb(218,139,195)\",\"rgb(140,140,140)\",\"rgb(204,185,116)\",\"rgb(100,181,205)\"],\"font\":{\"color\":\"rgb(36,36,36)\"},\"geo\":{\"bgcolor\":\"white\",\"lakecolor\":\"white\",\"landcolor\":\"rgb(234,234,242)\",\"showlakes\":true,\"showland\":true,\"subunitcolor\":\"white\"},\"hoverlabel\":{\"align\":\"left\"},\"hovermode\":\"closest\",\"paper_bgcolor\":\"white\",\"plot_bgcolor\":\"rgb(234,234,242)\",\"polar\":{\"angularaxis\":{\"gridcolor\":\"white\",\"linecolor\":\"white\",\"showgrid\":true,\"ticks\":\"\"},\"bgcolor\":\"rgb(234,234,242)\",\"radialaxis\":{\"gridcolor\":\"white\",\"linecolor\":\"white\",\"showgrid\":true,\"ticks\":\"\"}},\"scene\":{\"xaxis\":{\"backgroundcolor\":\"rgb(234,234,242)\",\"gridcolor\":\"white\",\"gridwidth\":2,\"linecolor\":\"white\",\"showbackground\":true,\"showgrid\":true,\"ticks\":\"\",\"zerolinecolor\":\"white\"},\"yaxis\":{\"backgroundcolor\":\"rgb(234,234,242)\",\"gridcolor\":\"white\",\"gridwidth\":2,\"linecolor\":\"white\",\"showbackground\":true,\"showgrid\":true,\"ticks\":\"\",\"zerolinecolor\":\"white\"},\"zaxis\":{\"backgroundcolor\":\"rgb(234,234,242)\",\"gridcolor\":\"white\",\"gridwidth\":2,\"linecolor\":\"white\",\"showbackground\":true,\"showgrid\":true,\"ticks\":\"\",\"zerolinecolor\":\"white\"}},\"shapedefaults\":{\"fillcolor\":\"rgb(67,103,167)\",\"line\":{\"width\":0},\"opacity\":0.5},\"ternary\":{\"aaxis\":{\"gridcolor\":\"white\",\"linecolor\":\"white\",\"showgrid\":true,\"ticks\":\"\"},\"baxis\":{\"gridcolor\":\"white\",\"linecolor\":\"white\",\"showgrid\":true,\"ticks\":\"\"},\"bgcolor\":\"rgb(234,234,242)\",\"caxis\":{\"gridcolor\":\"white\",\"linecolor\":\"white\",\"showgrid\":true,\"ticks\":\"\"}},\"xaxis\":{\"automargin\":true,\"gridcolor\":\"white\",\"linecolor\":\"white\",\"showgrid\":true,\"ticks\":\"\",\"title\":{\"standoff\":15},\"zerolinecolor\":\"white\"},\"yaxis\":{\"automargin\":true,\"gridcolor\":\"white\",\"linecolor\":\"white\",\"showgrid\":true,\"ticks\":\"\",\"title\":{\"standoff\":15},\"zerolinecolor\":\"white\"}}},\"xaxis\":{\"anchor\":\"y\",\"domain\":[0.0,1.0],\"title\":{\"text\":\"A\\u00f1o\"},\"range\":[2007.5,2022.5]},\"yaxis\":{\"anchor\":\"x\",\"domain\":[0.0,1.0],\"title\":{\"text\":\"N\\u00ba de art\\u00edculos\"}},\"legend\":{\"tracegroupgap\":0},\"margin\":{\"t\":60},\"barmode\":\"relative\",\"title\":{\"text\":\"N\\u00ba de art\\u00edculos en los \\u00faltimos 15 a\\u00f1os\"}},                        {\"responsive\": true}                    ).then(function(){\n",
       "                            \n",
       "var gd = document.getElementById('70962b29-7a56-430f-9be7-840eb2a4145d');\n",
       "var x = new MutationObserver(function (mutations, observer) {{\n",
       "        var display = window.getComputedStyle(gd).display;\n",
       "        if (!display || display === 'none') {{\n",
       "            console.log([gd, 'removed!']);\n",
       "            Plotly.purge(gd);\n",
       "            observer.disconnect();\n",
       "        }}\n",
       "}});\n",
       "\n",
       "// Listen for the removal of the full notebook cells\n",
       "var notebookContainer = gd.closest('#notebook-container');\n",
       "if (notebookContainer) {{\n",
       "    x.observe(notebookContainer, {childList: true});\n",
       "}}\n",
       "\n",
       "// Listen for the clearing of the current output cell\n",
       "var outputEl = gd.closest('.output');\n",
       "if (outputEl) {{\n",
       "    x.observe(outputEl, {childList: true});\n",
       "}}\n",
       "\n",
       "                        })                };                });            </script>        </div>"
      ]
     },
     "metadata": {},
     "output_type": "display_data"
    },
    {
     "name": "stdout",
     "output_type": "stream",
     "text": [
      "De los  23094  documentos analizados en este informe,  14775  fueron realizados en los últimos  15  años, es decir, el 64.0 \\% del total. Su distribución se muestra en la figura \\ref{fig:V4_algoritmo_2__n_23094articulos_ultimos_15_anos_2023_4_27_23_54}.\n"
     ]
    },
    {
     "data": {
      "application/vnd.plotly.v1+json": {
       "config": {
        "plotlyServerURL": "https://plot.ly"
       },
       "data": [
        {
         "alignmentgroup": "True",
         "hovertemplate": "Year=%{x}<br>Cited by=%{y}<extra></extra>",
         "legendgroup": "",
         "marker": {
          "color": "rgb(76,114,176)",
          "pattern": {
           "shape": ""
          }
         },
         "name": "",
         "offsetgroup": "",
         "orientation": "v",
         "showlegend": false,
         "textposition": "auto",
         "type": "bar",
         "x": [
          1968,
          1969,
          1970,
          1971,
          1972,
          1973,
          1974,
          1975,
          1976,
          1977,
          1978,
          1979,
          1980,
          1981,
          1982,
          1983,
          1984,
          1985,
          1986,
          1987,
          1988,
          1989,
          1990,
          1991,
          1992,
          1993,
          1994,
          1995,
          1996,
          1997,
          1998,
          1999,
          2000,
          2001,
          2002,
          2003,
          2004,
          2005,
          2006,
          2007,
          2008,
          2009,
          2010,
          2011,
          2012,
          2013,
          2014,
          2015,
          2016,
          2017,
          2018,
          2019,
          2020,
          2021,
          2022,
          2023
         ],
         "xaxis": "x",
         "y": [
          159,
          122,
          125,
          251,
          285,
          175,
          255,
          311,
          307,
          258,
          183,
          398,
          764,
          1803,
          407,
          1115,
          918,
          598,
          728,
          809,
          672,
          868,
          964,
          1907,
          1223,
          1888,
          2674,
          1569,
          4927,
          5451,
          4188,
          4995,
          5626,
          5267,
          4726,
          4521,
          4316,
          5597,
          6878,
          7922,
          9753,
          9351,
          8315,
          8505,
          8798,
          10766,
          9335,
          10794,
          9650,
          12277,
          9143,
          6095,
          5658,
          3152,
          1291,
          20
         ],
         "yaxis": "y"
        }
       ],
       "layout": {
        "barmode": "relative",
        "legend": {
         "tracegroupgap": 0
        },
        "margin": {
         "t": 60
        },
        "template": {
         "data": {
          "bar": [
           {
            "error_x": {
             "color": "rgb(36,36,36)"
            },
            "error_y": {
             "color": "rgb(36,36,36)"
            },
            "marker": {
             "line": {
              "color": "rgb(234,234,242)",
              "width": 0.5
             },
             "pattern": {
              "fillmode": "overlay",
              "size": 10,
              "solidity": 0.2
             }
            },
            "type": "bar"
           }
          ],
          "barpolar": [
           {
            "marker": {
             "line": {
              "color": "rgb(234,234,242)",
              "width": 0.5
             },
             "pattern": {
              "fillmode": "overlay",
              "size": 10,
              "solidity": 0.2
             }
            },
            "type": "barpolar"
           }
          ],
          "carpet": [
           {
            "aaxis": {
             "endlinecolor": "rgb(36,36,36)",
             "gridcolor": "white",
             "linecolor": "white",
             "minorgridcolor": "white",
             "startlinecolor": "rgb(36,36,36)"
            },
            "baxis": {
             "endlinecolor": "rgb(36,36,36)",
             "gridcolor": "white",
             "linecolor": "white",
             "minorgridcolor": "white",
             "startlinecolor": "rgb(36,36,36)"
            },
            "type": "carpet"
           }
          ],
          "choropleth": [
           {
            "colorbar": {
             "outlinewidth": 0,
             "tickcolor": "rgb(36,36,36)",
             "ticklen": 8,
             "ticks": "outside",
             "tickwidth": 2
            },
            "type": "choropleth"
           }
          ],
          "contour": [
           {
            "colorbar": {
             "outlinewidth": 0,
             "tickcolor": "rgb(36,36,36)",
             "ticklen": 8,
             "ticks": "outside",
             "tickwidth": 2
            },
            "colorscale": [
             [
              0,
              "rgb(2,4,25)"
             ],
             [
              0.06274509803921569,
              "rgb(24,15,41)"
             ],
             [
              0.12549019607843137,
              "rgb(47,23,57)"
             ],
             [
              0.18823529411764706,
              "rgb(71,28,72)"
             ],
             [
              0.25098039215686274,
              "rgb(97,30,82)"
             ],
             [
              0.3137254901960784,
              "rgb(123,30,89)"
             ],
             [
              0.3764705882352941,
              "rgb(150,27,91)"
             ],
             [
              0.4392156862745098,
              "rgb(177,22,88)"
             ],
             [
              0.5019607843137255,
              "rgb(203,26,79)"
             ],
             [
              0.5647058823529412,
              "rgb(223,47,67)"
             ],
             [
              0.6274509803921569,
              "rgb(236,76,61)"
             ],
             [
              0.6901960784313725,
              "rgb(242,107,73)"
             ],
             [
              0.7529411764705882,
              "rgb(244,135,95)"
             ],
             [
              0.8156862745098039,
              "rgb(245,162,122)"
             ],
             [
              0.8784313725490196,
              "rgb(246,188,153)"
             ],
             [
              0.9411764705882353,
              "rgb(247,212,187)"
             ],
             [
              1,
              "rgb(250,234,220)"
             ]
            ],
            "type": "contour"
           }
          ],
          "contourcarpet": [
           {
            "colorbar": {
             "outlinewidth": 0,
             "tickcolor": "rgb(36,36,36)",
             "ticklen": 8,
             "ticks": "outside",
             "tickwidth": 2
            },
            "type": "contourcarpet"
           }
          ],
          "heatmap": [
           {
            "colorbar": {
             "outlinewidth": 0,
             "tickcolor": "rgb(36,36,36)",
             "ticklen": 8,
             "ticks": "outside",
             "tickwidth": 2
            },
            "colorscale": [
             [
              0,
              "rgb(2,4,25)"
             ],
             [
              0.06274509803921569,
              "rgb(24,15,41)"
             ],
             [
              0.12549019607843137,
              "rgb(47,23,57)"
             ],
             [
              0.18823529411764706,
              "rgb(71,28,72)"
             ],
             [
              0.25098039215686274,
              "rgb(97,30,82)"
             ],
             [
              0.3137254901960784,
              "rgb(123,30,89)"
             ],
             [
              0.3764705882352941,
              "rgb(150,27,91)"
             ],
             [
              0.4392156862745098,
              "rgb(177,22,88)"
             ],
             [
              0.5019607843137255,
              "rgb(203,26,79)"
             ],
             [
              0.5647058823529412,
              "rgb(223,47,67)"
             ],
             [
              0.6274509803921569,
              "rgb(236,76,61)"
             ],
             [
              0.6901960784313725,
              "rgb(242,107,73)"
             ],
             [
              0.7529411764705882,
              "rgb(244,135,95)"
             ],
             [
              0.8156862745098039,
              "rgb(245,162,122)"
             ],
             [
              0.8784313725490196,
              "rgb(246,188,153)"
             ],
             [
              0.9411764705882353,
              "rgb(247,212,187)"
             ],
             [
              1,
              "rgb(250,234,220)"
             ]
            ],
            "type": "heatmap"
           }
          ],
          "heatmapgl": [
           {
            "colorbar": {
             "outlinewidth": 0,
             "tickcolor": "rgb(36,36,36)",
             "ticklen": 8,
             "ticks": "outside",
             "tickwidth": 2
            },
            "colorscale": [
             [
              0,
              "rgb(2,4,25)"
             ],
             [
              0.06274509803921569,
              "rgb(24,15,41)"
             ],
             [
              0.12549019607843137,
              "rgb(47,23,57)"
             ],
             [
              0.18823529411764706,
              "rgb(71,28,72)"
             ],
             [
              0.25098039215686274,
              "rgb(97,30,82)"
             ],
             [
              0.3137254901960784,
              "rgb(123,30,89)"
             ],
             [
              0.3764705882352941,
              "rgb(150,27,91)"
             ],
             [
              0.4392156862745098,
              "rgb(177,22,88)"
             ],
             [
              0.5019607843137255,
              "rgb(203,26,79)"
             ],
             [
              0.5647058823529412,
              "rgb(223,47,67)"
             ],
             [
              0.6274509803921569,
              "rgb(236,76,61)"
             ],
             [
              0.6901960784313725,
              "rgb(242,107,73)"
             ],
             [
              0.7529411764705882,
              "rgb(244,135,95)"
             ],
             [
              0.8156862745098039,
              "rgb(245,162,122)"
             ],
             [
              0.8784313725490196,
              "rgb(246,188,153)"
             ],
             [
              0.9411764705882353,
              "rgb(247,212,187)"
             ],
             [
              1,
              "rgb(250,234,220)"
             ]
            ],
            "type": "heatmapgl"
           }
          ],
          "histogram": [
           {
            "marker": {
             "pattern": {
              "fillmode": "overlay",
              "size": 10,
              "solidity": 0.2
             }
            },
            "type": "histogram"
           }
          ],
          "histogram2d": [
           {
            "colorbar": {
             "outlinewidth": 0,
             "tickcolor": "rgb(36,36,36)",
             "ticklen": 8,
             "ticks": "outside",
             "tickwidth": 2
            },
            "colorscale": [
             [
              0,
              "rgb(2,4,25)"
             ],
             [
              0.06274509803921569,
              "rgb(24,15,41)"
             ],
             [
              0.12549019607843137,
              "rgb(47,23,57)"
             ],
             [
              0.18823529411764706,
              "rgb(71,28,72)"
             ],
             [
              0.25098039215686274,
              "rgb(97,30,82)"
             ],
             [
              0.3137254901960784,
              "rgb(123,30,89)"
             ],
             [
              0.3764705882352941,
              "rgb(150,27,91)"
             ],
             [
              0.4392156862745098,
              "rgb(177,22,88)"
             ],
             [
              0.5019607843137255,
              "rgb(203,26,79)"
             ],
             [
              0.5647058823529412,
              "rgb(223,47,67)"
             ],
             [
              0.6274509803921569,
              "rgb(236,76,61)"
             ],
             [
              0.6901960784313725,
              "rgb(242,107,73)"
             ],
             [
              0.7529411764705882,
              "rgb(244,135,95)"
             ],
             [
              0.8156862745098039,
              "rgb(245,162,122)"
             ],
             [
              0.8784313725490196,
              "rgb(246,188,153)"
             ],
             [
              0.9411764705882353,
              "rgb(247,212,187)"
             ],
             [
              1,
              "rgb(250,234,220)"
             ]
            ],
            "type": "histogram2d"
           }
          ],
          "histogram2dcontour": [
           {
            "colorbar": {
             "outlinewidth": 0,
             "tickcolor": "rgb(36,36,36)",
             "ticklen": 8,
             "ticks": "outside",
             "tickwidth": 2
            },
            "colorscale": [
             [
              0,
              "rgb(2,4,25)"
             ],
             [
              0.06274509803921569,
              "rgb(24,15,41)"
             ],
             [
              0.12549019607843137,
              "rgb(47,23,57)"
             ],
             [
              0.18823529411764706,
              "rgb(71,28,72)"
             ],
             [
              0.25098039215686274,
              "rgb(97,30,82)"
             ],
             [
              0.3137254901960784,
              "rgb(123,30,89)"
             ],
             [
              0.3764705882352941,
              "rgb(150,27,91)"
             ],
             [
              0.4392156862745098,
              "rgb(177,22,88)"
             ],
             [
              0.5019607843137255,
              "rgb(203,26,79)"
             ],
             [
              0.5647058823529412,
              "rgb(223,47,67)"
             ],
             [
              0.6274509803921569,
              "rgb(236,76,61)"
             ],
             [
              0.6901960784313725,
              "rgb(242,107,73)"
             ],
             [
              0.7529411764705882,
              "rgb(244,135,95)"
             ],
             [
              0.8156862745098039,
              "rgb(245,162,122)"
             ],
             [
              0.8784313725490196,
              "rgb(246,188,153)"
             ],
             [
              0.9411764705882353,
              "rgb(247,212,187)"
             ],
             [
              1,
              "rgb(250,234,220)"
             ]
            ],
            "type": "histogram2dcontour"
           }
          ],
          "mesh3d": [
           {
            "colorbar": {
             "outlinewidth": 0,
             "tickcolor": "rgb(36,36,36)",
             "ticklen": 8,
             "ticks": "outside",
             "tickwidth": 2
            },
            "type": "mesh3d"
           }
          ],
          "parcoords": [
           {
            "line": {
             "colorbar": {
              "outlinewidth": 0,
              "tickcolor": "rgb(36,36,36)",
              "ticklen": 8,
              "ticks": "outside",
              "tickwidth": 2
             }
            },
            "type": "parcoords"
           }
          ],
          "pie": [
           {
            "automargin": true,
            "type": "pie"
           }
          ],
          "scatter": [
           {
            "fillpattern": {
             "fillmode": "overlay",
             "size": 10,
             "solidity": 0.2
            },
            "type": "scatter"
           }
          ],
          "scatter3d": [
           {
            "line": {
             "colorbar": {
              "outlinewidth": 0,
              "tickcolor": "rgb(36,36,36)",
              "ticklen": 8,
              "ticks": "outside",
              "tickwidth": 2
             }
            },
            "marker": {
             "colorbar": {
              "outlinewidth": 0,
              "tickcolor": "rgb(36,36,36)",
              "ticklen": 8,
              "ticks": "outside",
              "tickwidth": 2
             }
            },
            "type": "scatter3d"
           }
          ],
          "scattercarpet": [
           {
            "marker": {
             "colorbar": {
              "outlinewidth": 0,
              "tickcolor": "rgb(36,36,36)",
              "ticklen": 8,
              "ticks": "outside",
              "tickwidth": 2
             }
            },
            "type": "scattercarpet"
           }
          ],
          "scattergeo": [
           {
            "marker": {
             "colorbar": {
              "outlinewidth": 0,
              "tickcolor": "rgb(36,36,36)",
              "ticklen": 8,
              "ticks": "outside",
              "tickwidth": 2
             }
            },
            "type": "scattergeo"
           }
          ],
          "scattergl": [
           {
            "marker": {
             "colorbar": {
              "outlinewidth": 0,
              "tickcolor": "rgb(36,36,36)",
              "ticklen": 8,
              "ticks": "outside",
              "tickwidth": 2
             }
            },
            "type": "scattergl"
           }
          ],
          "scattermapbox": [
           {
            "marker": {
             "colorbar": {
              "outlinewidth": 0,
              "tickcolor": "rgb(36,36,36)",
              "ticklen": 8,
              "ticks": "outside",
              "tickwidth": 2
             }
            },
            "type": "scattermapbox"
           }
          ],
          "scatterpolar": [
           {
            "marker": {
             "colorbar": {
              "outlinewidth": 0,
              "tickcolor": "rgb(36,36,36)",
              "ticklen": 8,
              "ticks": "outside",
              "tickwidth": 2
             }
            },
            "type": "scatterpolar"
           }
          ],
          "scatterpolargl": [
           {
            "marker": {
             "colorbar": {
              "outlinewidth": 0,
              "tickcolor": "rgb(36,36,36)",
              "ticklen": 8,
              "ticks": "outside",
              "tickwidth": 2
             }
            },
            "type": "scatterpolargl"
           }
          ],
          "scatterternary": [
           {
            "marker": {
             "colorbar": {
              "outlinewidth": 0,
              "tickcolor": "rgb(36,36,36)",
              "ticklen": 8,
              "ticks": "outside",
              "tickwidth": 2
             }
            },
            "type": "scatterternary"
           }
          ],
          "surface": [
           {
            "colorbar": {
             "outlinewidth": 0,
             "tickcolor": "rgb(36,36,36)",
             "ticklen": 8,
             "ticks": "outside",
             "tickwidth": 2
            },
            "colorscale": [
             [
              0,
              "rgb(2,4,25)"
             ],
             [
              0.06274509803921569,
              "rgb(24,15,41)"
             ],
             [
              0.12549019607843137,
              "rgb(47,23,57)"
             ],
             [
              0.18823529411764706,
              "rgb(71,28,72)"
             ],
             [
              0.25098039215686274,
              "rgb(97,30,82)"
             ],
             [
              0.3137254901960784,
              "rgb(123,30,89)"
             ],
             [
              0.3764705882352941,
              "rgb(150,27,91)"
             ],
             [
              0.4392156862745098,
              "rgb(177,22,88)"
             ],
             [
              0.5019607843137255,
              "rgb(203,26,79)"
             ],
             [
              0.5647058823529412,
              "rgb(223,47,67)"
             ],
             [
              0.6274509803921569,
              "rgb(236,76,61)"
             ],
             [
              0.6901960784313725,
              "rgb(242,107,73)"
             ],
             [
              0.7529411764705882,
              "rgb(244,135,95)"
             ],
             [
              0.8156862745098039,
              "rgb(245,162,122)"
             ],
             [
              0.8784313725490196,
              "rgb(246,188,153)"
             ],
             [
              0.9411764705882353,
              "rgb(247,212,187)"
             ],
             [
              1,
              "rgb(250,234,220)"
             ]
            ],
            "type": "surface"
           }
          ],
          "table": [
           {
            "cells": {
             "fill": {
              "color": "rgb(231,231,240)"
             },
             "line": {
              "color": "white"
             }
            },
            "header": {
             "fill": {
              "color": "rgb(183,183,191)"
             },
             "line": {
              "color": "white"
             }
            },
            "type": "table"
           }
          ]
         },
         "layout": {
          "annotationdefaults": {
           "arrowcolor": "rgb(67,103,167)"
          },
          "autotypenumbers": "strict",
          "coloraxis": {
           "colorbar": {
            "outlinewidth": 0,
            "tickcolor": "rgb(36,36,36)",
            "ticklen": 8,
            "ticks": "outside",
            "tickwidth": 2
           }
          },
          "colorscale": {
           "sequential": [
            [
             0,
             "rgb(2,4,25)"
            ],
            [
             0.06274509803921569,
             "rgb(24,15,41)"
            ],
            [
             0.12549019607843137,
             "rgb(47,23,57)"
            ],
            [
             0.18823529411764706,
             "rgb(71,28,72)"
            ],
            [
             0.25098039215686274,
             "rgb(97,30,82)"
            ],
            [
             0.3137254901960784,
             "rgb(123,30,89)"
            ],
            [
             0.3764705882352941,
             "rgb(150,27,91)"
            ],
            [
             0.4392156862745098,
             "rgb(177,22,88)"
            ],
            [
             0.5019607843137255,
             "rgb(203,26,79)"
            ],
            [
             0.5647058823529412,
             "rgb(223,47,67)"
            ],
            [
             0.6274509803921569,
             "rgb(236,76,61)"
            ],
            [
             0.6901960784313725,
             "rgb(242,107,73)"
            ],
            [
             0.7529411764705882,
             "rgb(244,135,95)"
            ],
            [
             0.8156862745098039,
             "rgb(245,162,122)"
            ],
            [
             0.8784313725490196,
             "rgb(246,188,153)"
            ],
            [
             0.9411764705882353,
             "rgb(247,212,187)"
            ],
            [
             1,
             "rgb(250,234,220)"
            ]
           ],
           "sequentialminus": [
            [
             0,
             "rgb(2,4,25)"
            ],
            [
             0.06274509803921569,
             "rgb(24,15,41)"
            ],
            [
             0.12549019607843137,
             "rgb(47,23,57)"
            ],
            [
             0.18823529411764706,
             "rgb(71,28,72)"
            ],
            [
             0.25098039215686274,
             "rgb(97,30,82)"
            ],
            [
             0.3137254901960784,
             "rgb(123,30,89)"
            ],
            [
             0.3764705882352941,
             "rgb(150,27,91)"
            ],
            [
             0.4392156862745098,
             "rgb(177,22,88)"
            ],
            [
             0.5019607843137255,
             "rgb(203,26,79)"
            ],
            [
             0.5647058823529412,
             "rgb(223,47,67)"
            ],
            [
             0.6274509803921569,
             "rgb(236,76,61)"
            ],
            [
             0.6901960784313725,
             "rgb(242,107,73)"
            ],
            [
             0.7529411764705882,
             "rgb(244,135,95)"
            ],
            [
             0.8156862745098039,
             "rgb(245,162,122)"
            ],
            [
             0.8784313725490196,
             "rgb(246,188,153)"
            ],
            [
             0.9411764705882353,
             "rgb(247,212,187)"
            ],
            [
             1,
             "rgb(250,234,220)"
            ]
           ]
          },
          "colorway": [
           "rgb(76,114,176)",
           "rgb(221,132,82)",
           "rgb(85,168,104)",
           "rgb(196,78,82)",
           "rgb(129,114,179)",
           "rgb(147,120,96)",
           "rgb(218,139,195)",
           "rgb(140,140,140)",
           "rgb(204,185,116)",
           "rgb(100,181,205)"
          ],
          "font": {
           "color": "rgb(36,36,36)"
          },
          "geo": {
           "bgcolor": "white",
           "lakecolor": "white",
           "landcolor": "rgb(234,234,242)",
           "showlakes": true,
           "showland": true,
           "subunitcolor": "white"
          },
          "hoverlabel": {
           "align": "left"
          },
          "hovermode": "closest",
          "paper_bgcolor": "white",
          "plot_bgcolor": "rgb(234,234,242)",
          "polar": {
           "angularaxis": {
            "gridcolor": "white",
            "linecolor": "white",
            "showgrid": true,
            "ticks": ""
           },
           "bgcolor": "rgb(234,234,242)",
           "radialaxis": {
            "gridcolor": "white",
            "linecolor": "white",
            "showgrid": true,
            "ticks": ""
           }
          },
          "scene": {
           "xaxis": {
            "backgroundcolor": "rgb(234,234,242)",
            "gridcolor": "white",
            "gridwidth": 2,
            "linecolor": "white",
            "showbackground": true,
            "showgrid": true,
            "ticks": "",
            "zerolinecolor": "white"
           },
           "yaxis": {
            "backgroundcolor": "rgb(234,234,242)",
            "gridcolor": "white",
            "gridwidth": 2,
            "linecolor": "white",
            "showbackground": true,
            "showgrid": true,
            "ticks": "",
            "zerolinecolor": "white"
           },
           "zaxis": {
            "backgroundcolor": "rgb(234,234,242)",
            "gridcolor": "white",
            "gridwidth": 2,
            "linecolor": "white",
            "showbackground": true,
            "showgrid": true,
            "ticks": "",
            "zerolinecolor": "white"
           }
          },
          "shapedefaults": {
           "fillcolor": "rgb(67,103,167)",
           "line": {
            "width": 0
           },
           "opacity": 0.5
          },
          "ternary": {
           "aaxis": {
            "gridcolor": "white",
            "linecolor": "white",
            "showgrid": true,
            "ticks": ""
           },
           "baxis": {
            "gridcolor": "white",
            "linecolor": "white",
            "showgrid": true,
            "ticks": ""
           },
           "bgcolor": "rgb(234,234,242)",
           "caxis": {
            "gridcolor": "white",
            "linecolor": "white",
            "showgrid": true,
            "ticks": ""
           }
          },
          "xaxis": {
           "automargin": true,
           "gridcolor": "white",
           "linecolor": "white",
           "showgrid": true,
           "ticks": "",
           "title": {
            "standoff": 15
           },
           "zerolinecolor": "white"
          },
          "yaxis": {
           "automargin": true,
           "gridcolor": "white",
           "linecolor": "white",
           "showgrid": true,
           "ticks": "",
           "title": {
            "standoff": 15
           },
           "zerolinecolor": "white"
          }
         }
        },
        "title": {
         "text": "Nº de citas en los últimos 15 años"
        },
        "xaxis": {
         "anchor": "y",
         "domain": [
          0,
          1
         ],
         "range": [
          2007.5,
          2023.5
         ],
         "title": {
          "text": "Año"
         }
        },
        "yaxis": {
         "anchor": "x",
         "domain": [
          0,
          1
         ],
         "title": {
          "text": "Nº de citas"
         }
        }
       }
      },
      "text/html": [
       "<div>                            <div id=\"6e1d6c4d-34bf-4396-bc66-13e6fbc8fe69\" class=\"plotly-graph-div\" style=\"height:525px; width:100%;\"></div>            <script type=\"text/javascript\">                require([\"plotly\"], function(Plotly) {                    window.PLOTLYENV=window.PLOTLYENV || {};                                    if (document.getElementById(\"6e1d6c4d-34bf-4396-bc66-13e6fbc8fe69\")) {                    Plotly.newPlot(                        \"6e1d6c4d-34bf-4396-bc66-13e6fbc8fe69\",                        [{\"alignmentgroup\":\"True\",\"hovertemplate\":\"Year=%{x}<br>Cited by=%{y}<extra></extra>\",\"legendgroup\":\"\",\"marker\":{\"color\":\"rgb(76,114,176)\",\"pattern\":{\"shape\":\"\"}},\"name\":\"\",\"offsetgroup\":\"\",\"orientation\":\"v\",\"showlegend\":false,\"textposition\":\"auto\",\"x\":[1968,1969,1970,1971,1972,1973,1974,1975,1976,1977,1978,1979,1980,1981,1982,1983,1984,1985,1986,1987,1988,1989,1990,1991,1992,1993,1994,1995,1996,1997,1998,1999,2000,2001,2002,2003,2004,2005,2006,2007,2008,2009,2010,2011,2012,2013,2014,2015,2016,2017,2018,2019,2020,2021,2022,2023],\"xaxis\":\"x\",\"y\":[159.0,122.0,125.0,251.0,285.0,175.0,255.0,311.0,307.0,258.0,183.0,398.0,764.0,1803.0,407.0,1115.0,918.0,598.0,728.0,809.0,672.0,868.0,964.0,1907.0,1223.0,1888.0,2674.0,1569.0,4927.0,5451.0,4188.0,4995.0,5626.0,5267.0,4726.0,4521.0,4316.0,5597.0,6878.0,7922.0,9753.0,9351.0,8315.0,8505.0,8798.0,10766.0,9335.0,10794.0,9650.0,12277.0,9143.0,6095.0,5658.0,3152.0,1291.0,20.0],\"yaxis\":\"y\",\"type\":\"bar\"}],                        {\"template\":{\"data\":{\"barpolar\":[{\"marker\":{\"line\":{\"color\":\"rgb(234,234,242)\",\"width\":0.5},\"pattern\":{\"fillmode\":\"overlay\",\"size\":10,\"solidity\":0.2}},\"type\":\"barpolar\"}],\"bar\":[{\"error_x\":{\"color\":\"rgb(36,36,36)\"},\"error_y\":{\"color\":\"rgb(36,36,36)\"},\"marker\":{\"line\":{\"color\":\"rgb(234,234,242)\",\"width\":0.5},\"pattern\":{\"fillmode\":\"overlay\",\"size\":10,\"solidity\":0.2}},\"type\":\"bar\"}],\"carpet\":[{\"aaxis\":{\"endlinecolor\":\"rgb(36,36,36)\",\"gridcolor\":\"white\",\"linecolor\":\"white\",\"minorgridcolor\":\"white\",\"startlinecolor\":\"rgb(36,36,36)\"},\"baxis\":{\"endlinecolor\":\"rgb(36,36,36)\",\"gridcolor\":\"white\",\"linecolor\":\"white\",\"minorgridcolor\":\"white\",\"startlinecolor\":\"rgb(36,36,36)\"},\"type\":\"carpet\"}],\"choropleth\":[{\"colorbar\":{\"outlinewidth\":0,\"tickcolor\":\"rgb(36,36,36)\",\"ticklen\":8,\"ticks\":\"outside\",\"tickwidth\":2},\"type\":\"choropleth\"}],\"contourcarpet\":[{\"colorbar\":{\"outlinewidth\":0,\"tickcolor\":\"rgb(36,36,36)\",\"ticklen\":8,\"ticks\":\"outside\",\"tickwidth\":2},\"type\":\"contourcarpet\"}],\"contour\":[{\"colorbar\":{\"outlinewidth\":0,\"tickcolor\":\"rgb(36,36,36)\",\"ticklen\":8,\"ticks\":\"outside\",\"tickwidth\":2},\"colorscale\":[[0.0,\"rgb(2,4,25)\"],[0.06274509803921569,\"rgb(24,15,41)\"],[0.12549019607843137,\"rgb(47,23,57)\"],[0.18823529411764706,\"rgb(71,28,72)\"],[0.25098039215686274,\"rgb(97,30,82)\"],[0.3137254901960784,\"rgb(123,30,89)\"],[0.3764705882352941,\"rgb(150,27,91)\"],[0.4392156862745098,\"rgb(177,22,88)\"],[0.5019607843137255,\"rgb(203,26,79)\"],[0.5647058823529412,\"rgb(223,47,67)\"],[0.6274509803921569,\"rgb(236,76,61)\"],[0.6901960784313725,\"rgb(242,107,73)\"],[0.7529411764705882,\"rgb(244,135,95)\"],[0.8156862745098039,\"rgb(245,162,122)\"],[0.8784313725490196,\"rgb(246,188,153)\"],[0.9411764705882353,\"rgb(247,212,187)\"],[1.0,\"rgb(250,234,220)\"]],\"type\":\"contour\"}],\"heatmapgl\":[{\"colorbar\":{\"outlinewidth\":0,\"tickcolor\":\"rgb(36,36,36)\",\"ticklen\":8,\"ticks\":\"outside\",\"tickwidth\":2},\"colorscale\":[[0.0,\"rgb(2,4,25)\"],[0.06274509803921569,\"rgb(24,15,41)\"],[0.12549019607843137,\"rgb(47,23,57)\"],[0.18823529411764706,\"rgb(71,28,72)\"],[0.25098039215686274,\"rgb(97,30,82)\"],[0.3137254901960784,\"rgb(123,30,89)\"],[0.3764705882352941,\"rgb(150,27,91)\"],[0.4392156862745098,\"rgb(177,22,88)\"],[0.5019607843137255,\"rgb(203,26,79)\"],[0.5647058823529412,\"rgb(223,47,67)\"],[0.6274509803921569,\"rgb(236,76,61)\"],[0.6901960784313725,\"rgb(242,107,73)\"],[0.7529411764705882,\"rgb(244,135,95)\"],[0.8156862745098039,\"rgb(245,162,122)\"],[0.8784313725490196,\"rgb(246,188,153)\"],[0.9411764705882353,\"rgb(247,212,187)\"],[1.0,\"rgb(250,234,220)\"]],\"type\":\"heatmapgl\"}],\"heatmap\":[{\"colorbar\":{\"outlinewidth\":0,\"tickcolor\":\"rgb(36,36,36)\",\"ticklen\":8,\"ticks\":\"outside\",\"tickwidth\":2},\"colorscale\":[[0.0,\"rgb(2,4,25)\"],[0.06274509803921569,\"rgb(24,15,41)\"],[0.12549019607843137,\"rgb(47,23,57)\"],[0.18823529411764706,\"rgb(71,28,72)\"],[0.25098039215686274,\"rgb(97,30,82)\"],[0.3137254901960784,\"rgb(123,30,89)\"],[0.3764705882352941,\"rgb(150,27,91)\"],[0.4392156862745098,\"rgb(177,22,88)\"],[0.5019607843137255,\"rgb(203,26,79)\"],[0.5647058823529412,\"rgb(223,47,67)\"],[0.6274509803921569,\"rgb(236,76,61)\"],[0.6901960784313725,\"rgb(242,107,73)\"],[0.7529411764705882,\"rgb(244,135,95)\"],[0.8156862745098039,\"rgb(245,162,122)\"],[0.8784313725490196,\"rgb(246,188,153)\"],[0.9411764705882353,\"rgb(247,212,187)\"],[1.0,\"rgb(250,234,220)\"]],\"type\":\"heatmap\"}],\"histogram2dcontour\":[{\"colorbar\":{\"outlinewidth\":0,\"tickcolor\":\"rgb(36,36,36)\",\"ticklen\":8,\"ticks\":\"outside\",\"tickwidth\":2},\"colorscale\":[[0.0,\"rgb(2,4,25)\"],[0.06274509803921569,\"rgb(24,15,41)\"],[0.12549019607843137,\"rgb(47,23,57)\"],[0.18823529411764706,\"rgb(71,28,72)\"],[0.25098039215686274,\"rgb(97,30,82)\"],[0.3137254901960784,\"rgb(123,30,89)\"],[0.3764705882352941,\"rgb(150,27,91)\"],[0.4392156862745098,\"rgb(177,22,88)\"],[0.5019607843137255,\"rgb(203,26,79)\"],[0.5647058823529412,\"rgb(223,47,67)\"],[0.6274509803921569,\"rgb(236,76,61)\"],[0.6901960784313725,\"rgb(242,107,73)\"],[0.7529411764705882,\"rgb(244,135,95)\"],[0.8156862745098039,\"rgb(245,162,122)\"],[0.8784313725490196,\"rgb(246,188,153)\"],[0.9411764705882353,\"rgb(247,212,187)\"],[1.0,\"rgb(250,234,220)\"]],\"type\":\"histogram2dcontour\"}],\"histogram2d\":[{\"colorbar\":{\"outlinewidth\":0,\"tickcolor\":\"rgb(36,36,36)\",\"ticklen\":8,\"ticks\":\"outside\",\"tickwidth\":2},\"colorscale\":[[0.0,\"rgb(2,4,25)\"],[0.06274509803921569,\"rgb(24,15,41)\"],[0.12549019607843137,\"rgb(47,23,57)\"],[0.18823529411764706,\"rgb(71,28,72)\"],[0.25098039215686274,\"rgb(97,30,82)\"],[0.3137254901960784,\"rgb(123,30,89)\"],[0.3764705882352941,\"rgb(150,27,91)\"],[0.4392156862745098,\"rgb(177,22,88)\"],[0.5019607843137255,\"rgb(203,26,79)\"],[0.5647058823529412,\"rgb(223,47,67)\"],[0.6274509803921569,\"rgb(236,76,61)\"],[0.6901960784313725,\"rgb(242,107,73)\"],[0.7529411764705882,\"rgb(244,135,95)\"],[0.8156862745098039,\"rgb(245,162,122)\"],[0.8784313725490196,\"rgb(246,188,153)\"],[0.9411764705882353,\"rgb(247,212,187)\"],[1.0,\"rgb(250,234,220)\"]],\"type\":\"histogram2d\"}],\"histogram\":[{\"marker\":{\"pattern\":{\"fillmode\":\"overlay\",\"size\":10,\"solidity\":0.2}},\"type\":\"histogram\"}],\"mesh3d\":[{\"colorbar\":{\"outlinewidth\":0,\"tickcolor\":\"rgb(36,36,36)\",\"ticklen\":8,\"ticks\":\"outside\",\"tickwidth\":2},\"type\":\"mesh3d\"}],\"parcoords\":[{\"line\":{\"colorbar\":{\"outlinewidth\":0,\"tickcolor\":\"rgb(36,36,36)\",\"ticklen\":8,\"ticks\":\"outside\",\"tickwidth\":2}},\"type\":\"parcoords\"}],\"pie\":[{\"automargin\":true,\"type\":\"pie\"}],\"scatter3d\":[{\"line\":{\"colorbar\":{\"outlinewidth\":0,\"tickcolor\":\"rgb(36,36,36)\",\"ticklen\":8,\"ticks\":\"outside\",\"tickwidth\":2}},\"marker\":{\"colorbar\":{\"outlinewidth\":0,\"tickcolor\":\"rgb(36,36,36)\",\"ticklen\":8,\"ticks\":\"outside\",\"tickwidth\":2}},\"type\":\"scatter3d\"}],\"scattercarpet\":[{\"marker\":{\"colorbar\":{\"outlinewidth\":0,\"tickcolor\":\"rgb(36,36,36)\",\"ticklen\":8,\"ticks\":\"outside\",\"tickwidth\":2}},\"type\":\"scattercarpet\"}],\"scattergeo\":[{\"marker\":{\"colorbar\":{\"outlinewidth\":0,\"tickcolor\":\"rgb(36,36,36)\",\"ticklen\":8,\"ticks\":\"outside\",\"tickwidth\":2}},\"type\":\"scattergeo\"}],\"scattergl\":[{\"marker\":{\"colorbar\":{\"outlinewidth\":0,\"tickcolor\":\"rgb(36,36,36)\",\"ticklen\":8,\"ticks\":\"outside\",\"tickwidth\":2}},\"type\":\"scattergl\"}],\"scattermapbox\":[{\"marker\":{\"colorbar\":{\"outlinewidth\":0,\"tickcolor\":\"rgb(36,36,36)\",\"ticklen\":8,\"ticks\":\"outside\",\"tickwidth\":2}},\"type\":\"scattermapbox\"}],\"scatterpolargl\":[{\"marker\":{\"colorbar\":{\"outlinewidth\":0,\"tickcolor\":\"rgb(36,36,36)\",\"ticklen\":8,\"ticks\":\"outside\",\"tickwidth\":2}},\"type\":\"scatterpolargl\"}],\"scatterpolar\":[{\"marker\":{\"colorbar\":{\"outlinewidth\":0,\"tickcolor\":\"rgb(36,36,36)\",\"ticklen\":8,\"ticks\":\"outside\",\"tickwidth\":2}},\"type\":\"scatterpolar\"}],\"scatter\":[{\"fillpattern\":{\"fillmode\":\"overlay\",\"size\":10,\"solidity\":0.2},\"type\":\"scatter\"}],\"scatterternary\":[{\"marker\":{\"colorbar\":{\"outlinewidth\":0,\"tickcolor\":\"rgb(36,36,36)\",\"ticklen\":8,\"ticks\":\"outside\",\"tickwidth\":2}},\"type\":\"scatterternary\"}],\"surface\":[{\"colorbar\":{\"outlinewidth\":0,\"tickcolor\":\"rgb(36,36,36)\",\"ticklen\":8,\"ticks\":\"outside\",\"tickwidth\":2},\"colorscale\":[[0.0,\"rgb(2,4,25)\"],[0.06274509803921569,\"rgb(24,15,41)\"],[0.12549019607843137,\"rgb(47,23,57)\"],[0.18823529411764706,\"rgb(71,28,72)\"],[0.25098039215686274,\"rgb(97,30,82)\"],[0.3137254901960784,\"rgb(123,30,89)\"],[0.3764705882352941,\"rgb(150,27,91)\"],[0.4392156862745098,\"rgb(177,22,88)\"],[0.5019607843137255,\"rgb(203,26,79)\"],[0.5647058823529412,\"rgb(223,47,67)\"],[0.6274509803921569,\"rgb(236,76,61)\"],[0.6901960784313725,\"rgb(242,107,73)\"],[0.7529411764705882,\"rgb(244,135,95)\"],[0.8156862745098039,\"rgb(245,162,122)\"],[0.8784313725490196,\"rgb(246,188,153)\"],[0.9411764705882353,\"rgb(247,212,187)\"],[1.0,\"rgb(250,234,220)\"]],\"type\":\"surface\"}],\"table\":[{\"cells\":{\"fill\":{\"color\":\"rgb(231,231,240)\"},\"line\":{\"color\":\"white\"}},\"header\":{\"fill\":{\"color\":\"rgb(183,183,191)\"},\"line\":{\"color\":\"white\"}},\"type\":\"table\"}]},\"layout\":{\"annotationdefaults\":{\"arrowcolor\":\"rgb(67,103,167)\"},\"autotypenumbers\":\"strict\",\"coloraxis\":{\"colorbar\":{\"outlinewidth\":0,\"tickcolor\":\"rgb(36,36,36)\",\"ticklen\":8,\"ticks\":\"outside\",\"tickwidth\":2}},\"colorscale\":{\"sequential\":[[0.0,\"rgb(2,4,25)\"],[0.06274509803921569,\"rgb(24,15,41)\"],[0.12549019607843137,\"rgb(47,23,57)\"],[0.18823529411764706,\"rgb(71,28,72)\"],[0.25098039215686274,\"rgb(97,30,82)\"],[0.3137254901960784,\"rgb(123,30,89)\"],[0.3764705882352941,\"rgb(150,27,91)\"],[0.4392156862745098,\"rgb(177,22,88)\"],[0.5019607843137255,\"rgb(203,26,79)\"],[0.5647058823529412,\"rgb(223,47,67)\"],[0.6274509803921569,\"rgb(236,76,61)\"],[0.6901960784313725,\"rgb(242,107,73)\"],[0.7529411764705882,\"rgb(244,135,95)\"],[0.8156862745098039,\"rgb(245,162,122)\"],[0.8784313725490196,\"rgb(246,188,153)\"],[0.9411764705882353,\"rgb(247,212,187)\"],[1.0,\"rgb(250,234,220)\"]],\"sequentialminus\":[[0.0,\"rgb(2,4,25)\"],[0.06274509803921569,\"rgb(24,15,41)\"],[0.12549019607843137,\"rgb(47,23,57)\"],[0.18823529411764706,\"rgb(71,28,72)\"],[0.25098039215686274,\"rgb(97,30,82)\"],[0.3137254901960784,\"rgb(123,30,89)\"],[0.3764705882352941,\"rgb(150,27,91)\"],[0.4392156862745098,\"rgb(177,22,88)\"],[0.5019607843137255,\"rgb(203,26,79)\"],[0.5647058823529412,\"rgb(223,47,67)\"],[0.6274509803921569,\"rgb(236,76,61)\"],[0.6901960784313725,\"rgb(242,107,73)\"],[0.7529411764705882,\"rgb(244,135,95)\"],[0.8156862745098039,\"rgb(245,162,122)\"],[0.8784313725490196,\"rgb(246,188,153)\"],[0.9411764705882353,\"rgb(247,212,187)\"],[1.0,\"rgb(250,234,220)\"]]},\"colorway\":[\"rgb(76,114,176)\",\"rgb(221,132,82)\",\"rgb(85,168,104)\",\"rgb(196,78,82)\",\"rgb(129,114,179)\",\"rgb(147,120,96)\",\"rgb(218,139,195)\",\"rgb(140,140,140)\",\"rgb(204,185,116)\",\"rgb(100,181,205)\"],\"font\":{\"color\":\"rgb(36,36,36)\"},\"geo\":{\"bgcolor\":\"white\",\"lakecolor\":\"white\",\"landcolor\":\"rgb(234,234,242)\",\"showlakes\":true,\"showland\":true,\"subunitcolor\":\"white\"},\"hoverlabel\":{\"align\":\"left\"},\"hovermode\":\"closest\",\"paper_bgcolor\":\"white\",\"plot_bgcolor\":\"rgb(234,234,242)\",\"polar\":{\"angularaxis\":{\"gridcolor\":\"white\",\"linecolor\":\"white\",\"showgrid\":true,\"ticks\":\"\"},\"bgcolor\":\"rgb(234,234,242)\",\"radialaxis\":{\"gridcolor\":\"white\",\"linecolor\":\"white\",\"showgrid\":true,\"ticks\":\"\"}},\"scene\":{\"xaxis\":{\"backgroundcolor\":\"rgb(234,234,242)\",\"gridcolor\":\"white\",\"gridwidth\":2,\"linecolor\":\"white\",\"showbackground\":true,\"showgrid\":true,\"ticks\":\"\",\"zerolinecolor\":\"white\"},\"yaxis\":{\"backgroundcolor\":\"rgb(234,234,242)\",\"gridcolor\":\"white\",\"gridwidth\":2,\"linecolor\":\"white\",\"showbackground\":true,\"showgrid\":true,\"ticks\":\"\",\"zerolinecolor\":\"white\"},\"zaxis\":{\"backgroundcolor\":\"rgb(234,234,242)\",\"gridcolor\":\"white\",\"gridwidth\":2,\"linecolor\":\"white\",\"showbackground\":true,\"showgrid\":true,\"ticks\":\"\",\"zerolinecolor\":\"white\"}},\"shapedefaults\":{\"fillcolor\":\"rgb(67,103,167)\",\"line\":{\"width\":0},\"opacity\":0.5},\"ternary\":{\"aaxis\":{\"gridcolor\":\"white\",\"linecolor\":\"white\",\"showgrid\":true,\"ticks\":\"\"},\"baxis\":{\"gridcolor\":\"white\",\"linecolor\":\"white\",\"showgrid\":true,\"ticks\":\"\"},\"bgcolor\":\"rgb(234,234,242)\",\"caxis\":{\"gridcolor\":\"white\",\"linecolor\":\"white\",\"showgrid\":true,\"ticks\":\"\"}},\"xaxis\":{\"automargin\":true,\"gridcolor\":\"white\",\"linecolor\":\"white\",\"showgrid\":true,\"ticks\":\"\",\"title\":{\"standoff\":15},\"zerolinecolor\":\"white\"},\"yaxis\":{\"automargin\":true,\"gridcolor\":\"white\",\"linecolor\":\"white\",\"showgrid\":true,\"ticks\":\"\",\"title\":{\"standoff\":15},\"zerolinecolor\":\"white\"}}},\"xaxis\":{\"anchor\":\"y\",\"domain\":[0.0,1.0],\"title\":{\"text\":\"A\\u00f1o\"},\"range\":[2007.5,2023.5]},\"yaxis\":{\"anchor\":\"x\",\"domain\":[0.0,1.0],\"title\":{\"text\":\"N\\u00ba de citas\"}},\"legend\":{\"tracegroupgap\":0},\"margin\":{\"t\":60},\"barmode\":\"relative\",\"title\":{\"text\":\"N\\u00ba de citas en los \\u00faltimos 15 a\\u00f1os\"}},                        {\"responsive\": true}                    ).then(function(){\n",
       "                            \n",
       "var gd = document.getElementById('6e1d6c4d-34bf-4396-bc66-13e6fbc8fe69');\n",
       "var x = new MutationObserver(function (mutations, observer) {{\n",
       "        var display = window.getComputedStyle(gd).display;\n",
       "        if (!display || display === 'none') {{\n",
       "            console.log([gd, 'removed!']);\n",
       "            Plotly.purge(gd);\n",
       "            observer.disconnect();\n",
       "        }}\n",
       "}});\n",
       "\n",
       "// Listen for the removal of the full notebook cells\n",
       "var notebookContainer = gd.closest('#notebook-container');\n",
       "if (notebookContainer) {{\n",
       "    x.observe(notebookContainer, {childList: true});\n",
       "}}\n",
       "\n",
       "// Listen for the clearing of the current output cell\n",
       "var outputEl = gd.closest('.output');\n",
       "if (outputEl) {{\n",
       "    x.observe(outputEl, {childList: true});\n",
       "}}\n",
       "\n",
       "                        })                };                });            </script>        </div>"
      ]
     },
     "metadata": {},
     "output_type": "display_data"
    },
    {
     "name": "stdout",
     "output_type": "stream",
     "text": [
      "Los documentos tienen en total   209053  citas. De las cuales,   122903  fueron realizados en los últimos  15  años. Su distribución se muestra en la figura \\ref{fig:V4_algoritmo_2__n_23094citas_ultimos_15_anos_2023_4_27_23_54}.\n",
      "Citas de artículos publicados en Scopus de 37 revistas de Educación  Matemática . Fuente: Scopus.\n"
     ]
    }
   ],
   "source": [
    "import plotly.express as px\n",
    "\n",
    "\n",
    "######## Gráfico de nº de artículos ############\n",
    "\n",
    "# Agrupar el DataFrame por año y contar el número de EID en cada grupo\n",
    "dfA_plot = dfA.groupby('Year')['EID'].count().reset_index()\n",
    "\n",
    "# Crear un gráfico de barras usando Plotly Express\n",
    "fig = px.bar(dfA_plot, x='Year', y='EID', template=template_elegido)\n",
    "\n",
    "# Personalizar el título, los ejes x e y del gráfico\n",
    "fig.update_layout(title='Nº de artículos en los últimos ' + str(años_a_mostrar) + ' años')\n",
    "fig.update_xaxes(range=[dfA['Year'].max() - años_a_mostrar - 0.5, dfA['Year'].max() + 0.5-1])\n",
    "fig.update_yaxes(title='Nº de artículos')\n",
    "fig.update_xaxes(title='Año')\n",
    "\n",
    "# Mostrar el gráfico\n",
    "fig.show()\n",
    "\n",
    "# Crear un nombre de archivo para guardar el gráfico\n",
    "nombre_archivo = abrev + '_' + \"_n_\" + str(len(dfA)) + 'articulos_ultimos_' + str(años_a_mostrar) + '_anos_' + str(\n",
    "    now.year) + '_' + str(now.month) + '_' + str(now.day) + '_' + str(now.hour) + '_' + str(now.minute)\n",
    "\n",
    "# Crear un párrafo con información sobre el gráfico\n",
    "lista_párrafo2 = ['De los ', str(len(dfA)), ' documentos analizados en este informe, ',\n",
    "                  str(len(dfA[dfA['Year'] >= dfA['Year'].max() - años_a_mostrar])),\n",
    "                  ' fueron realizados en los últimos ', str(años_a_mostrar), ' años, es decir, el',\n",
    "                  str(round(100 * len(dfA[dfA['Year'] >= dfA['Year'].max() - años_a_mostrar]) / len(dfA), 1)),\n",
    "                  '\\\\% del total. Su distribución se muestra en la figura \\\\ref{fig:' + nombre_archivo + '}.']\n",
    "\n",
    "párrafo2 = ' '.join(lista_párrafo2)\n",
    "print(párrafo2)\n",
    "\n",
    "# Agregar el párrafo al archivo informe.tex\n",
    "parrafo_tex(ruta_archivo, nombre_archivo_tex, párrafo2)\n",
    "\n",
    "# Guardar el gráfico como un archivo HTML y PDF\n",
    "fig.write_html(abrev + '/' + nombre_archivo + \".html\")\n",
    "fig.write_image(abrev + '/' + nombre_archivo + \".pdf\", width=600, height=300)\n",
    "\n",
    "# Agregar la figura al archivo informe.tex\n",
    "nombre_archivo_figura = nombre_archivo\n",
    "leyenda = 'Artículos publicados en ' + fuente_articulos + ' de ' + nombre_largo + '. Fuente: ' + fuente_articulos + '.'\n",
    "entorno_figura_tex(ruta_archivo, nombre_archivo_tex, nombre_archivo_figura, leyenda)\n",
    "\n",
    "\n",
    "\n",
    "\n",
    "\n",
    "\n",
    "\n",
    "######## Gráfico de citas############\n",
    "\n",
    "# Agrupar los datos por año y calcular la suma de las citas para cada año\n",
    "dfA_plot = dfA.groupby('Year')['Cited by'].sum().reset_index()\n",
    "\n",
    "# Crear un gráfico de barras usando Plotly Express\n",
    "fig = px.bar(dfA_plot, x='Year', y='Cited by', template=template_elegido)\n",
    "\n",
    "# Actualizar el título del gráfico\n",
    "fig.update_layout(title='Nº de citas en los últimos ' + str(años_a_mostrar) + ' años')\n",
    "\n",
    "# Ajustar el rango del eje x y agregar un margen adicional para evitar recortes en las barras extremas\n",
    "fig.update_xaxes(range=[dfA['Year'].max() - años_a_mostrar - 0.5, dfA['Year'].max() + 0.5])\n",
    "\n",
    "# Actualizar el título del eje y\n",
    "fig.update_yaxes(title='Nº de citas')\n",
    "\n",
    "# Actualizar el título del eje x\n",
    "fig.update_xaxes(title='Año')\n",
    "\n",
    "# Mostrar el gráfico\n",
    "fig.show()\n",
    "\n",
    "# Crear el nombre del archivo\n",
    "nombre_archivo = abrev + '_' + \"_n_\" + str(len(dfA)) + 'citas_ultimos_' + str(años_a_mostrar) + '_anos_' + str(now.year) + '_' + str(now.month) + '_' + str(now.day) + '_' + str(now.hour) + '_' + str(now.minute)\n",
    "\n",
    "# Crear el párrafo para el informe\n",
    "lista_párrafo3 = ['Los documentos tienen en total  ', str(dfA['Cited by'].sum().astype(int)), ' citas. De las cuales,  ',\n",
    "                  str((dfA[dfA['Year'] >= dfA['Year'].max() - años_a_mostrar]['Cited by'].sum()).astype(int)),\n",
    "                  ' fueron realizados en los últimos ', str(años_a_mostrar), ' años.',\n",
    "                  'Su distribución se muestra en la figura \\\\ref{fig:' + nombre_archivo + '}.']\n",
    "\n",
    "párrafo3 = ' '.join(lista_párrafo3)\n",
    "print(párrafo3)\n",
    "\n",
    "# Agregar el párrafo al archivo LaTeX\n",
    "parrafo_tex(ruta_archivo, nombre_archivo_tex, párrafo3)\n",
    "\n",
    "# Guardar el gráfico como archivo HTML y PDF\n",
    "fig.write_html(abrev + '/' + nombre_archivo + \".html\")\n",
    "fig.write_image(abrev + '/' + nombre_archivo + \".pdf\", width=600, height=300)\n",
    "\n",
    "# Crear la leyenda de la figura\n",
    "nombre_archivo_figura = nombre_archivo\n",
    "leyenda = 'Citas de artículos publicados en ' + fuente_articulos + ' de ' + nombre_largo + '. Fuente: ' + fuente_articulos + '.'\n",
    "\n",
    "# Agregar la figura y su leyenda al archivo LaTeX\n",
    "entorno_figura_tex(ruta_archivo, nombre_archivo_tex, nombre_archivo_figura, leyenda)\n",
    "\n",
    "# Imprimir la leyenda\n",
    "print(leyenda)\n",
    "\n"
   ]
  },
  {
   "cell_type": "markdown",
   "id": "92c9697c",
   "metadata": {},
   "source": [
    "# 9 Conteo de todos los campos antes de tratar la información"
   ]
  },
  {
   "cell_type": "code",
   "execution_count": 10,
   "id": "97fd7f56",
   "metadata": {},
   "outputs": [
    {
     "data": {
      "application/vnd.plotly.v1+json": {
       "config": {
        "plotlyServerURL": "https://plot.ly"
       },
       "data": [
        {
         "alignmentgroup": "True",
         "hovertemplate": "x=%{x}<br>y=%{y}<br>text=%{text}<extra></extra>",
         "legendgroup": "",
         "marker": {
          "color": "rgb(76,114,176)",
          "pattern": {
           "shape": ""
          }
         },
         "name": "",
         "offsetgroup": "",
         "orientation": "h",
         "showlegend": false,
         "text": [
          "729 (3.2%)",
          "588 (2.5%)",
          "396 (1.7%)",
          "390 (1.7%)",
          "339 (1.5%)",
          "303 (1.3%)",
          "240 (1.0%)",
          "238 (1.0%)",
          "215 (0.9%)",
          "213 (0.9%)",
          "213 (0.9%)",
          "202 (0.9%)",
          "191 (0.8%)",
          "188 (0.8%)",
          "145 (0.6%)",
          "143 (0.6%)",
          "137 (0.6%)",
          "133 (0.6%)",
          "131 (0.6%)",
          "131 (0.6%)",
          "130 (0.6%)",
          "130 (0.6%)",
          "119 (0.5%)",
          "119 (0.5%)",
          "118 (0.5%)",
          "117 (0.5%)",
          "115 (0.5%)",
          "113 (0.5%)",
          "111 (0.5%)",
          "108 (0.5%)",
          "107 (0.5%)",
          "107 (0.5%)",
          "106 (0.5%)",
          "104 (0.5%)"
         ],
         "textfont": {
          "size": 14
         },
         "textposition": "outside",
         "type": "bar",
         "x": [
          729,
          588,
          396,
          390,
          339,
          303,
          240,
          238,
          215,
          213,
          213,
          202,
          191,
          188,
          145,
          143,
          137,
          133,
          131,
          131,
          130,
          130,
          119,
          119,
          118,
          117,
          115,
          113,
          111,
          108,
          107,
          107,
          106,
          104
         ],
         "xaxis": "x",
         "y": [
          "mathematics education",
          "mathematics",
          "problem solving",
          "calculus",
          "teacher education",
          "professional development",
          "science education",
          "assessment",
          "geometry",
          "proof",
          "technology",
          "curriculum",
          "algebra",
          "teacher knowledge",
          "teaching",
          "mathematical modeling",
          "motivation",
          "fractions",
          "learning",
          "active learning",
          "pre-service teachers",
          "mathematics teaching",
          "reasoning",
          "higher education",
          "gender",
          "pedagogical content knowledge",
          "self-efficacy",
          "stem",
          "beliefs",
          "science",
          "modeling",
          "inquiry-based learning",
          "linear algebra",
          "problem-solving"
         ],
         "yaxis": "y"
        }
       ],
       "layout": {
        "barmode": "relative",
        "font": {
         "size": 8
        },
        "legend": {
         "tracegroupgap": 0
        },
        "margin": {
         "t": 60
        },
        "template": {
         "data": {
          "bar": [
           {
            "error_x": {
             "color": "rgb(36,36,36)"
            },
            "error_y": {
             "color": "rgb(36,36,36)"
            },
            "marker": {
             "line": {
              "color": "rgb(234,234,242)",
              "width": 0.5
             },
             "pattern": {
              "fillmode": "overlay",
              "size": 10,
              "solidity": 0.2
             }
            },
            "type": "bar"
           }
          ],
          "barpolar": [
           {
            "marker": {
             "line": {
              "color": "rgb(234,234,242)",
              "width": 0.5
             },
             "pattern": {
              "fillmode": "overlay",
              "size": 10,
              "solidity": 0.2
             }
            },
            "type": "barpolar"
           }
          ],
          "carpet": [
           {
            "aaxis": {
             "endlinecolor": "rgb(36,36,36)",
             "gridcolor": "white",
             "linecolor": "white",
             "minorgridcolor": "white",
             "startlinecolor": "rgb(36,36,36)"
            },
            "baxis": {
             "endlinecolor": "rgb(36,36,36)",
             "gridcolor": "white",
             "linecolor": "white",
             "minorgridcolor": "white",
             "startlinecolor": "rgb(36,36,36)"
            },
            "type": "carpet"
           }
          ],
          "choropleth": [
           {
            "colorbar": {
             "outlinewidth": 0,
             "tickcolor": "rgb(36,36,36)",
             "ticklen": 8,
             "ticks": "outside",
             "tickwidth": 2
            },
            "type": "choropleth"
           }
          ],
          "contour": [
           {
            "colorbar": {
             "outlinewidth": 0,
             "tickcolor": "rgb(36,36,36)",
             "ticklen": 8,
             "ticks": "outside",
             "tickwidth": 2
            },
            "colorscale": [
             [
              0,
              "rgb(2,4,25)"
             ],
             [
              0.06274509803921569,
              "rgb(24,15,41)"
             ],
             [
              0.12549019607843137,
              "rgb(47,23,57)"
             ],
             [
              0.18823529411764706,
              "rgb(71,28,72)"
             ],
             [
              0.25098039215686274,
              "rgb(97,30,82)"
             ],
             [
              0.3137254901960784,
              "rgb(123,30,89)"
             ],
             [
              0.3764705882352941,
              "rgb(150,27,91)"
             ],
             [
              0.4392156862745098,
              "rgb(177,22,88)"
             ],
             [
              0.5019607843137255,
              "rgb(203,26,79)"
             ],
             [
              0.5647058823529412,
              "rgb(223,47,67)"
             ],
             [
              0.6274509803921569,
              "rgb(236,76,61)"
             ],
             [
              0.6901960784313725,
              "rgb(242,107,73)"
             ],
             [
              0.7529411764705882,
              "rgb(244,135,95)"
             ],
             [
              0.8156862745098039,
              "rgb(245,162,122)"
             ],
             [
              0.8784313725490196,
              "rgb(246,188,153)"
             ],
             [
              0.9411764705882353,
              "rgb(247,212,187)"
             ],
             [
              1,
              "rgb(250,234,220)"
             ]
            ],
            "type": "contour"
           }
          ],
          "contourcarpet": [
           {
            "colorbar": {
             "outlinewidth": 0,
             "tickcolor": "rgb(36,36,36)",
             "ticklen": 8,
             "ticks": "outside",
             "tickwidth": 2
            },
            "type": "contourcarpet"
           }
          ],
          "heatmap": [
           {
            "colorbar": {
             "outlinewidth": 0,
             "tickcolor": "rgb(36,36,36)",
             "ticklen": 8,
             "ticks": "outside",
             "tickwidth": 2
            },
            "colorscale": [
             [
              0,
              "rgb(2,4,25)"
             ],
             [
              0.06274509803921569,
              "rgb(24,15,41)"
             ],
             [
              0.12549019607843137,
              "rgb(47,23,57)"
             ],
             [
              0.18823529411764706,
              "rgb(71,28,72)"
             ],
             [
              0.25098039215686274,
              "rgb(97,30,82)"
             ],
             [
              0.3137254901960784,
              "rgb(123,30,89)"
             ],
             [
              0.3764705882352941,
              "rgb(150,27,91)"
             ],
             [
              0.4392156862745098,
              "rgb(177,22,88)"
             ],
             [
              0.5019607843137255,
              "rgb(203,26,79)"
             ],
             [
              0.5647058823529412,
              "rgb(223,47,67)"
             ],
             [
              0.6274509803921569,
              "rgb(236,76,61)"
             ],
             [
              0.6901960784313725,
              "rgb(242,107,73)"
             ],
             [
              0.7529411764705882,
              "rgb(244,135,95)"
             ],
             [
              0.8156862745098039,
              "rgb(245,162,122)"
             ],
             [
              0.8784313725490196,
              "rgb(246,188,153)"
             ],
             [
              0.9411764705882353,
              "rgb(247,212,187)"
             ],
             [
              1,
              "rgb(250,234,220)"
             ]
            ],
            "type": "heatmap"
           }
          ],
          "heatmapgl": [
           {
            "colorbar": {
             "outlinewidth": 0,
             "tickcolor": "rgb(36,36,36)",
             "ticklen": 8,
             "ticks": "outside",
             "tickwidth": 2
            },
            "colorscale": [
             [
              0,
              "rgb(2,4,25)"
             ],
             [
              0.06274509803921569,
              "rgb(24,15,41)"
             ],
             [
              0.12549019607843137,
              "rgb(47,23,57)"
             ],
             [
              0.18823529411764706,
              "rgb(71,28,72)"
             ],
             [
              0.25098039215686274,
              "rgb(97,30,82)"
             ],
             [
              0.3137254901960784,
              "rgb(123,30,89)"
             ],
             [
              0.3764705882352941,
              "rgb(150,27,91)"
             ],
             [
              0.4392156862745098,
              "rgb(177,22,88)"
             ],
             [
              0.5019607843137255,
              "rgb(203,26,79)"
             ],
             [
              0.5647058823529412,
              "rgb(223,47,67)"
             ],
             [
              0.6274509803921569,
              "rgb(236,76,61)"
             ],
             [
              0.6901960784313725,
              "rgb(242,107,73)"
             ],
             [
              0.7529411764705882,
              "rgb(244,135,95)"
             ],
             [
              0.8156862745098039,
              "rgb(245,162,122)"
             ],
             [
              0.8784313725490196,
              "rgb(246,188,153)"
             ],
             [
              0.9411764705882353,
              "rgb(247,212,187)"
             ],
             [
              1,
              "rgb(250,234,220)"
             ]
            ],
            "type": "heatmapgl"
           }
          ],
          "histogram": [
           {
            "marker": {
             "pattern": {
              "fillmode": "overlay",
              "size": 10,
              "solidity": 0.2
             }
            },
            "type": "histogram"
           }
          ],
          "histogram2d": [
           {
            "colorbar": {
             "outlinewidth": 0,
             "tickcolor": "rgb(36,36,36)",
             "ticklen": 8,
             "ticks": "outside",
             "tickwidth": 2
            },
            "colorscale": [
             [
              0,
              "rgb(2,4,25)"
             ],
             [
              0.06274509803921569,
              "rgb(24,15,41)"
             ],
             [
              0.12549019607843137,
              "rgb(47,23,57)"
             ],
             [
              0.18823529411764706,
              "rgb(71,28,72)"
             ],
             [
              0.25098039215686274,
              "rgb(97,30,82)"
             ],
             [
              0.3137254901960784,
              "rgb(123,30,89)"
             ],
             [
              0.3764705882352941,
              "rgb(150,27,91)"
             ],
             [
              0.4392156862745098,
              "rgb(177,22,88)"
             ],
             [
              0.5019607843137255,
              "rgb(203,26,79)"
             ],
             [
              0.5647058823529412,
              "rgb(223,47,67)"
             ],
             [
              0.6274509803921569,
              "rgb(236,76,61)"
             ],
             [
              0.6901960784313725,
              "rgb(242,107,73)"
             ],
             [
              0.7529411764705882,
              "rgb(244,135,95)"
             ],
             [
              0.8156862745098039,
              "rgb(245,162,122)"
             ],
             [
              0.8784313725490196,
              "rgb(246,188,153)"
             ],
             [
              0.9411764705882353,
              "rgb(247,212,187)"
             ],
             [
              1,
              "rgb(250,234,220)"
             ]
            ],
            "type": "histogram2d"
           }
          ],
          "histogram2dcontour": [
           {
            "colorbar": {
             "outlinewidth": 0,
             "tickcolor": "rgb(36,36,36)",
             "ticklen": 8,
             "ticks": "outside",
             "tickwidth": 2
            },
            "colorscale": [
             [
              0,
              "rgb(2,4,25)"
             ],
             [
              0.06274509803921569,
              "rgb(24,15,41)"
             ],
             [
              0.12549019607843137,
              "rgb(47,23,57)"
             ],
             [
              0.18823529411764706,
              "rgb(71,28,72)"
             ],
             [
              0.25098039215686274,
              "rgb(97,30,82)"
             ],
             [
              0.3137254901960784,
              "rgb(123,30,89)"
             ],
             [
              0.3764705882352941,
              "rgb(150,27,91)"
             ],
             [
              0.4392156862745098,
              "rgb(177,22,88)"
             ],
             [
              0.5019607843137255,
              "rgb(203,26,79)"
             ],
             [
              0.5647058823529412,
              "rgb(223,47,67)"
             ],
             [
              0.6274509803921569,
              "rgb(236,76,61)"
             ],
             [
              0.6901960784313725,
              "rgb(242,107,73)"
             ],
             [
              0.7529411764705882,
              "rgb(244,135,95)"
             ],
             [
              0.8156862745098039,
              "rgb(245,162,122)"
             ],
             [
              0.8784313725490196,
              "rgb(246,188,153)"
             ],
             [
              0.9411764705882353,
              "rgb(247,212,187)"
             ],
             [
              1,
              "rgb(250,234,220)"
             ]
            ],
            "type": "histogram2dcontour"
           }
          ],
          "mesh3d": [
           {
            "colorbar": {
             "outlinewidth": 0,
             "tickcolor": "rgb(36,36,36)",
             "ticklen": 8,
             "ticks": "outside",
             "tickwidth": 2
            },
            "type": "mesh3d"
           }
          ],
          "parcoords": [
           {
            "line": {
             "colorbar": {
              "outlinewidth": 0,
              "tickcolor": "rgb(36,36,36)",
              "ticklen": 8,
              "ticks": "outside",
              "tickwidth": 2
             }
            },
            "type": "parcoords"
           }
          ],
          "pie": [
           {
            "automargin": true,
            "type": "pie"
           }
          ],
          "scatter": [
           {
            "fillpattern": {
             "fillmode": "overlay",
             "size": 10,
             "solidity": 0.2
            },
            "type": "scatter"
           }
          ],
          "scatter3d": [
           {
            "line": {
             "colorbar": {
              "outlinewidth": 0,
              "tickcolor": "rgb(36,36,36)",
              "ticklen": 8,
              "ticks": "outside",
              "tickwidth": 2
             }
            },
            "marker": {
             "colorbar": {
              "outlinewidth": 0,
              "tickcolor": "rgb(36,36,36)",
              "ticklen": 8,
              "ticks": "outside",
              "tickwidth": 2
             }
            },
            "type": "scatter3d"
           }
          ],
          "scattercarpet": [
           {
            "marker": {
             "colorbar": {
              "outlinewidth": 0,
              "tickcolor": "rgb(36,36,36)",
              "ticklen": 8,
              "ticks": "outside",
              "tickwidth": 2
             }
            },
            "type": "scattercarpet"
           }
          ],
          "scattergeo": [
           {
            "marker": {
             "colorbar": {
              "outlinewidth": 0,
              "tickcolor": "rgb(36,36,36)",
              "ticklen": 8,
              "ticks": "outside",
              "tickwidth": 2
             }
            },
            "type": "scattergeo"
           }
          ],
          "scattergl": [
           {
            "marker": {
             "colorbar": {
              "outlinewidth": 0,
              "tickcolor": "rgb(36,36,36)",
              "ticklen": 8,
              "ticks": "outside",
              "tickwidth": 2
             }
            },
            "type": "scattergl"
           }
          ],
          "scattermapbox": [
           {
            "marker": {
             "colorbar": {
              "outlinewidth": 0,
              "tickcolor": "rgb(36,36,36)",
              "ticklen": 8,
              "ticks": "outside",
              "tickwidth": 2
             }
            },
            "type": "scattermapbox"
           }
          ],
          "scatterpolar": [
           {
            "marker": {
             "colorbar": {
              "outlinewidth": 0,
              "tickcolor": "rgb(36,36,36)",
              "ticklen": 8,
              "ticks": "outside",
              "tickwidth": 2
             }
            },
            "type": "scatterpolar"
           }
          ],
          "scatterpolargl": [
           {
            "marker": {
             "colorbar": {
              "outlinewidth": 0,
              "tickcolor": "rgb(36,36,36)",
              "ticklen": 8,
              "ticks": "outside",
              "tickwidth": 2
             }
            },
            "type": "scatterpolargl"
           }
          ],
          "scatterternary": [
           {
            "marker": {
             "colorbar": {
              "outlinewidth": 0,
              "tickcolor": "rgb(36,36,36)",
              "ticklen": 8,
              "ticks": "outside",
              "tickwidth": 2
             }
            },
            "type": "scatterternary"
           }
          ],
          "surface": [
           {
            "colorbar": {
             "outlinewidth": 0,
             "tickcolor": "rgb(36,36,36)",
             "ticklen": 8,
             "ticks": "outside",
             "tickwidth": 2
            },
            "colorscale": [
             [
              0,
              "rgb(2,4,25)"
             ],
             [
              0.06274509803921569,
              "rgb(24,15,41)"
             ],
             [
              0.12549019607843137,
              "rgb(47,23,57)"
             ],
             [
              0.18823529411764706,
              "rgb(71,28,72)"
             ],
             [
              0.25098039215686274,
              "rgb(97,30,82)"
             ],
             [
              0.3137254901960784,
              "rgb(123,30,89)"
             ],
             [
              0.3764705882352941,
              "rgb(150,27,91)"
             ],
             [
              0.4392156862745098,
              "rgb(177,22,88)"
             ],
             [
              0.5019607843137255,
              "rgb(203,26,79)"
             ],
             [
              0.5647058823529412,
              "rgb(223,47,67)"
             ],
             [
              0.6274509803921569,
              "rgb(236,76,61)"
             ],
             [
              0.6901960784313725,
              "rgb(242,107,73)"
             ],
             [
              0.7529411764705882,
              "rgb(244,135,95)"
             ],
             [
              0.8156862745098039,
              "rgb(245,162,122)"
             ],
             [
              0.8784313725490196,
              "rgb(246,188,153)"
             ],
             [
              0.9411764705882353,
              "rgb(247,212,187)"
             ],
             [
              1,
              "rgb(250,234,220)"
             ]
            ],
            "type": "surface"
           }
          ],
          "table": [
           {
            "cells": {
             "fill": {
              "color": "rgb(231,231,240)"
             },
             "line": {
              "color": "white"
             }
            },
            "header": {
             "fill": {
              "color": "rgb(183,183,191)"
             },
             "line": {
              "color": "white"
             }
            },
            "type": "table"
           }
          ]
         },
         "layout": {
          "annotationdefaults": {
           "arrowcolor": "rgb(67,103,167)"
          },
          "autotypenumbers": "strict",
          "coloraxis": {
           "colorbar": {
            "outlinewidth": 0,
            "tickcolor": "rgb(36,36,36)",
            "ticklen": 8,
            "ticks": "outside",
            "tickwidth": 2
           }
          },
          "colorscale": {
           "sequential": [
            [
             0,
             "rgb(2,4,25)"
            ],
            [
             0.06274509803921569,
             "rgb(24,15,41)"
            ],
            [
             0.12549019607843137,
             "rgb(47,23,57)"
            ],
            [
             0.18823529411764706,
             "rgb(71,28,72)"
            ],
            [
             0.25098039215686274,
             "rgb(97,30,82)"
            ],
            [
             0.3137254901960784,
             "rgb(123,30,89)"
            ],
            [
             0.3764705882352941,
             "rgb(150,27,91)"
            ],
            [
             0.4392156862745098,
             "rgb(177,22,88)"
            ],
            [
             0.5019607843137255,
             "rgb(203,26,79)"
            ],
            [
             0.5647058823529412,
             "rgb(223,47,67)"
            ],
            [
             0.6274509803921569,
             "rgb(236,76,61)"
            ],
            [
             0.6901960784313725,
             "rgb(242,107,73)"
            ],
            [
             0.7529411764705882,
             "rgb(244,135,95)"
            ],
            [
             0.8156862745098039,
             "rgb(245,162,122)"
            ],
            [
             0.8784313725490196,
             "rgb(246,188,153)"
            ],
            [
             0.9411764705882353,
             "rgb(247,212,187)"
            ],
            [
             1,
             "rgb(250,234,220)"
            ]
           ],
           "sequentialminus": [
            [
             0,
             "rgb(2,4,25)"
            ],
            [
             0.06274509803921569,
             "rgb(24,15,41)"
            ],
            [
             0.12549019607843137,
             "rgb(47,23,57)"
            ],
            [
             0.18823529411764706,
             "rgb(71,28,72)"
            ],
            [
             0.25098039215686274,
             "rgb(97,30,82)"
            ],
            [
             0.3137254901960784,
             "rgb(123,30,89)"
            ],
            [
             0.3764705882352941,
             "rgb(150,27,91)"
            ],
            [
             0.4392156862745098,
             "rgb(177,22,88)"
            ],
            [
             0.5019607843137255,
             "rgb(203,26,79)"
            ],
            [
             0.5647058823529412,
             "rgb(223,47,67)"
            ],
            [
             0.6274509803921569,
             "rgb(236,76,61)"
            ],
            [
             0.6901960784313725,
             "rgb(242,107,73)"
            ],
            [
             0.7529411764705882,
             "rgb(244,135,95)"
            ],
            [
             0.8156862745098039,
             "rgb(245,162,122)"
            ],
            [
             0.8784313725490196,
             "rgb(246,188,153)"
            ],
            [
             0.9411764705882353,
             "rgb(247,212,187)"
            ],
            [
             1,
             "rgb(250,234,220)"
            ]
           ]
          },
          "colorway": [
           "rgb(76,114,176)",
           "rgb(221,132,82)",
           "rgb(85,168,104)",
           "rgb(196,78,82)",
           "rgb(129,114,179)",
           "rgb(147,120,96)",
           "rgb(218,139,195)",
           "rgb(140,140,140)",
           "rgb(204,185,116)",
           "rgb(100,181,205)"
          ],
          "font": {
           "color": "rgb(36,36,36)"
          },
          "geo": {
           "bgcolor": "white",
           "lakecolor": "white",
           "landcolor": "rgb(234,234,242)",
           "showlakes": true,
           "showland": true,
           "subunitcolor": "white"
          },
          "hoverlabel": {
           "align": "left"
          },
          "hovermode": "closest",
          "paper_bgcolor": "white",
          "plot_bgcolor": "rgb(234,234,242)",
          "polar": {
           "angularaxis": {
            "gridcolor": "white",
            "linecolor": "white",
            "showgrid": true,
            "ticks": ""
           },
           "bgcolor": "rgb(234,234,242)",
           "radialaxis": {
            "gridcolor": "white",
            "linecolor": "white",
            "showgrid": true,
            "ticks": ""
           }
          },
          "scene": {
           "xaxis": {
            "backgroundcolor": "rgb(234,234,242)",
            "gridcolor": "white",
            "gridwidth": 2,
            "linecolor": "white",
            "showbackground": true,
            "showgrid": true,
            "ticks": "",
            "zerolinecolor": "white"
           },
           "yaxis": {
            "backgroundcolor": "rgb(234,234,242)",
            "gridcolor": "white",
            "gridwidth": 2,
            "linecolor": "white",
            "showbackground": true,
            "showgrid": true,
            "ticks": "",
            "zerolinecolor": "white"
           },
           "zaxis": {
            "backgroundcolor": "rgb(234,234,242)",
            "gridcolor": "white",
            "gridwidth": 2,
            "linecolor": "white",
            "showbackground": true,
            "showgrid": true,
            "ticks": "",
            "zerolinecolor": "white"
           }
          },
          "shapedefaults": {
           "fillcolor": "rgb(67,103,167)",
           "line": {
            "width": 0
           },
           "opacity": 0.5
          },
          "ternary": {
           "aaxis": {
            "gridcolor": "white",
            "linecolor": "white",
            "showgrid": true,
            "ticks": ""
           },
           "baxis": {
            "gridcolor": "white",
            "linecolor": "white",
            "showgrid": true,
            "ticks": ""
           },
           "bgcolor": "rgb(234,234,242)",
           "caxis": {
            "gridcolor": "white",
            "linecolor": "white",
            "showgrid": true,
            "ticks": ""
           }
          },
          "xaxis": {
           "automargin": true,
           "gridcolor": "white",
           "linecolor": "white",
           "showgrid": true,
           "ticks": "",
           "title": {
            "standoff": 15
           },
           "zerolinecolor": "white"
          },
          "yaxis": {
           "automargin": true,
           "gridcolor": "white",
           "linecolor": "white",
           "showgrid": true,
           "ticks": "",
           "title": {
            "standoff": 15
           },
           "zerolinecolor": "white"
          }
         }
        },
        "title": {
         "text": "35 palabras clave más frecuentes de 37 revistas de Educación  Matemática "
        },
        "xaxis": {
         "anchor": "y",
         "domain": [
          0,
          1
         ],
         "range": [
          0,
          911.25
         ],
         "tickangle": 35,
         "title": {
          "text": "frecuencia"
         }
        },
        "yaxis": {
         "anchor": "x",
         "domain": [
          0,
          1
         ],
         "title": {
          "text": "palabras clave"
         }
        }
       }
      },
      "text/html": [
       "<div>                            <div id=\"8a3f0e43-5cc5-4a7b-a1e2-80a61c746b19\" class=\"plotly-graph-div\" style=\"height:525px; width:100%;\"></div>            <script type=\"text/javascript\">                require([\"plotly\"], function(Plotly) {                    window.PLOTLYENV=window.PLOTLYENV || {};                                    if (document.getElementById(\"8a3f0e43-5cc5-4a7b-a1e2-80a61c746b19\")) {                    Plotly.newPlot(                        \"8a3f0e43-5cc5-4a7b-a1e2-80a61c746b19\",                        [{\"alignmentgroup\":\"True\",\"hovertemplate\":\"x=%{x}<br>y=%{y}<br>text=%{text}<extra></extra>\",\"legendgroup\":\"\",\"marker\":{\"color\":\"rgb(76,114,176)\",\"pattern\":{\"shape\":\"\"}},\"name\":\"\",\"offsetgroup\":\"\",\"orientation\":\"h\",\"showlegend\":false,\"text\":[\"729 (3.2%)\",\"588 (2.5%)\",\"396 (1.7%)\",\"390 (1.7%)\",\"339 (1.5%)\",\"303 (1.3%)\",\"240 (1.0%)\",\"238 (1.0%)\",\"215 (0.9%)\",\"213 (0.9%)\",\"213 (0.9%)\",\"202 (0.9%)\",\"191 (0.8%)\",\"188 (0.8%)\",\"145 (0.6%)\",\"143 (0.6%)\",\"137 (0.6%)\",\"133 (0.6%)\",\"131 (0.6%)\",\"131 (0.6%)\",\"130 (0.6%)\",\"130 (0.6%)\",\"119 (0.5%)\",\"119 (0.5%)\",\"118 (0.5%)\",\"117 (0.5%)\",\"115 (0.5%)\",\"113 (0.5%)\",\"111 (0.5%)\",\"108 (0.5%)\",\"107 (0.5%)\",\"107 (0.5%)\",\"106 (0.5%)\",\"104 (0.5%)\"],\"textposition\":\"outside\",\"x\":[729,588,396,390,339,303,240,238,215,213,213,202,191,188,145,143,137,133,131,131,130,130,119,119,118,117,115,113,111,108,107,107,106,104],\"xaxis\":\"x\",\"y\":[\"mathematics education\",\"mathematics\",\"problem solving\",\"calculus\",\"teacher education\",\"professional development\",\"science education\",\"assessment\",\"geometry\",\"proof\",\"technology\",\"curriculum\",\"algebra\",\"teacher knowledge\",\"teaching\",\"mathematical modeling\",\"motivation\",\"fractions\",\"learning\",\"active learning\",\"pre-service teachers\",\"mathematics teaching\",\"reasoning\",\"higher education\",\"gender\",\"pedagogical content knowledge\",\"self-efficacy\",\"stem\",\"beliefs\",\"science\",\"modeling\",\"inquiry-based learning\",\"linear algebra\",\"problem-solving\"],\"yaxis\":\"y\",\"type\":\"bar\",\"textfont\":{\"size\":14}}],                        {\"template\":{\"data\":{\"barpolar\":[{\"marker\":{\"line\":{\"color\":\"rgb(234,234,242)\",\"width\":0.5},\"pattern\":{\"fillmode\":\"overlay\",\"size\":10,\"solidity\":0.2}},\"type\":\"barpolar\"}],\"bar\":[{\"error_x\":{\"color\":\"rgb(36,36,36)\"},\"error_y\":{\"color\":\"rgb(36,36,36)\"},\"marker\":{\"line\":{\"color\":\"rgb(234,234,242)\",\"width\":0.5},\"pattern\":{\"fillmode\":\"overlay\",\"size\":10,\"solidity\":0.2}},\"type\":\"bar\"}],\"carpet\":[{\"aaxis\":{\"endlinecolor\":\"rgb(36,36,36)\",\"gridcolor\":\"white\",\"linecolor\":\"white\",\"minorgridcolor\":\"white\",\"startlinecolor\":\"rgb(36,36,36)\"},\"baxis\":{\"endlinecolor\":\"rgb(36,36,36)\",\"gridcolor\":\"white\",\"linecolor\":\"white\",\"minorgridcolor\":\"white\",\"startlinecolor\":\"rgb(36,36,36)\"},\"type\":\"carpet\"}],\"choropleth\":[{\"colorbar\":{\"outlinewidth\":0,\"tickcolor\":\"rgb(36,36,36)\",\"ticklen\":8,\"ticks\":\"outside\",\"tickwidth\":2},\"type\":\"choropleth\"}],\"contourcarpet\":[{\"colorbar\":{\"outlinewidth\":0,\"tickcolor\":\"rgb(36,36,36)\",\"ticklen\":8,\"ticks\":\"outside\",\"tickwidth\":2},\"type\":\"contourcarpet\"}],\"contour\":[{\"colorbar\":{\"outlinewidth\":0,\"tickcolor\":\"rgb(36,36,36)\",\"ticklen\":8,\"ticks\":\"outside\",\"tickwidth\":2},\"colorscale\":[[0.0,\"rgb(2,4,25)\"],[0.06274509803921569,\"rgb(24,15,41)\"],[0.12549019607843137,\"rgb(47,23,57)\"],[0.18823529411764706,\"rgb(71,28,72)\"],[0.25098039215686274,\"rgb(97,30,82)\"],[0.3137254901960784,\"rgb(123,30,89)\"],[0.3764705882352941,\"rgb(150,27,91)\"],[0.4392156862745098,\"rgb(177,22,88)\"],[0.5019607843137255,\"rgb(203,26,79)\"],[0.5647058823529412,\"rgb(223,47,67)\"],[0.6274509803921569,\"rgb(236,76,61)\"],[0.6901960784313725,\"rgb(242,107,73)\"],[0.7529411764705882,\"rgb(244,135,95)\"],[0.8156862745098039,\"rgb(245,162,122)\"],[0.8784313725490196,\"rgb(246,188,153)\"],[0.9411764705882353,\"rgb(247,212,187)\"],[1.0,\"rgb(250,234,220)\"]],\"type\":\"contour\"}],\"heatmapgl\":[{\"colorbar\":{\"outlinewidth\":0,\"tickcolor\":\"rgb(36,36,36)\",\"ticklen\":8,\"ticks\":\"outside\",\"tickwidth\":2},\"colorscale\":[[0.0,\"rgb(2,4,25)\"],[0.06274509803921569,\"rgb(24,15,41)\"],[0.12549019607843137,\"rgb(47,23,57)\"],[0.18823529411764706,\"rgb(71,28,72)\"],[0.25098039215686274,\"rgb(97,30,82)\"],[0.3137254901960784,\"rgb(123,30,89)\"],[0.3764705882352941,\"rgb(150,27,91)\"],[0.4392156862745098,\"rgb(177,22,88)\"],[0.5019607843137255,\"rgb(203,26,79)\"],[0.5647058823529412,\"rgb(223,47,67)\"],[0.6274509803921569,\"rgb(236,76,61)\"],[0.6901960784313725,\"rgb(242,107,73)\"],[0.7529411764705882,\"rgb(244,135,95)\"],[0.8156862745098039,\"rgb(245,162,122)\"],[0.8784313725490196,\"rgb(246,188,153)\"],[0.9411764705882353,\"rgb(247,212,187)\"],[1.0,\"rgb(250,234,220)\"]],\"type\":\"heatmapgl\"}],\"heatmap\":[{\"colorbar\":{\"outlinewidth\":0,\"tickcolor\":\"rgb(36,36,36)\",\"ticklen\":8,\"ticks\":\"outside\",\"tickwidth\":2},\"colorscale\":[[0.0,\"rgb(2,4,25)\"],[0.06274509803921569,\"rgb(24,15,41)\"],[0.12549019607843137,\"rgb(47,23,57)\"],[0.18823529411764706,\"rgb(71,28,72)\"],[0.25098039215686274,\"rgb(97,30,82)\"],[0.3137254901960784,\"rgb(123,30,89)\"],[0.3764705882352941,\"rgb(150,27,91)\"],[0.4392156862745098,\"rgb(177,22,88)\"],[0.5019607843137255,\"rgb(203,26,79)\"],[0.5647058823529412,\"rgb(223,47,67)\"],[0.6274509803921569,\"rgb(236,76,61)\"],[0.6901960784313725,\"rgb(242,107,73)\"],[0.7529411764705882,\"rgb(244,135,95)\"],[0.8156862745098039,\"rgb(245,162,122)\"],[0.8784313725490196,\"rgb(246,188,153)\"],[0.9411764705882353,\"rgb(247,212,187)\"],[1.0,\"rgb(250,234,220)\"]],\"type\":\"heatmap\"}],\"histogram2dcontour\":[{\"colorbar\":{\"outlinewidth\":0,\"tickcolor\":\"rgb(36,36,36)\",\"ticklen\":8,\"ticks\":\"outside\",\"tickwidth\":2},\"colorscale\":[[0.0,\"rgb(2,4,25)\"],[0.06274509803921569,\"rgb(24,15,41)\"],[0.12549019607843137,\"rgb(47,23,57)\"],[0.18823529411764706,\"rgb(71,28,72)\"],[0.25098039215686274,\"rgb(97,30,82)\"],[0.3137254901960784,\"rgb(123,30,89)\"],[0.3764705882352941,\"rgb(150,27,91)\"],[0.4392156862745098,\"rgb(177,22,88)\"],[0.5019607843137255,\"rgb(203,26,79)\"],[0.5647058823529412,\"rgb(223,47,67)\"],[0.6274509803921569,\"rgb(236,76,61)\"],[0.6901960784313725,\"rgb(242,107,73)\"],[0.7529411764705882,\"rgb(244,135,95)\"],[0.8156862745098039,\"rgb(245,162,122)\"],[0.8784313725490196,\"rgb(246,188,153)\"],[0.9411764705882353,\"rgb(247,212,187)\"],[1.0,\"rgb(250,234,220)\"]],\"type\":\"histogram2dcontour\"}],\"histogram2d\":[{\"colorbar\":{\"outlinewidth\":0,\"tickcolor\":\"rgb(36,36,36)\",\"ticklen\":8,\"ticks\":\"outside\",\"tickwidth\":2},\"colorscale\":[[0.0,\"rgb(2,4,25)\"],[0.06274509803921569,\"rgb(24,15,41)\"],[0.12549019607843137,\"rgb(47,23,57)\"],[0.18823529411764706,\"rgb(71,28,72)\"],[0.25098039215686274,\"rgb(97,30,82)\"],[0.3137254901960784,\"rgb(123,30,89)\"],[0.3764705882352941,\"rgb(150,27,91)\"],[0.4392156862745098,\"rgb(177,22,88)\"],[0.5019607843137255,\"rgb(203,26,79)\"],[0.5647058823529412,\"rgb(223,47,67)\"],[0.6274509803921569,\"rgb(236,76,61)\"],[0.6901960784313725,\"rgb(242,107,73)\"],[0.7529411764705882,\"rgb(244,135,95)\"],[0.8156862745098039,\"rgb(245,162,122)\"],[0.8784313725490196,\"rgb(246,188,153)\"],[0.9411764705882353,\"rgb(247,212,187)\"],[1.0,\"rgb(250,234,220)\"]],\"type\":\"histogram2d\"}],\"histogram\":[{\"marker\":{\"pattern\":{\"fillmode\":\"overlay\",\"size\":10,\"solidity\":0.2}},\"type\":\"histogram\"}],\"mesh3d\":[{\"colorbar\":{\"outlinewidth\":0,\"tickcolor\":\"rgb(36,36,36)\",\"ticklen\":8,\"ticks\":\"outside\",\"tickwidth\":2},\"type\":\"mesh3d\"}],\"parcoords\":[{\"line\":{\"colorbar\":{\"outlinewidth\":0,\"tickcolor\":\"rgb(36,36,36)\",\"ticklen\":8,\"ticks\":\"outside\",\"tickwidth\":2}},\"type\":\"parcoords\"}],\"pie\":[{\"automargin\":true,\"type\":\"pie\"}],\"scatter3d\":[{\"line\":{\"colorbar\":{\"outlinewidth\":0,\"tickcolor\":\"rgb(36,36,36)\",\"ticklen\":8,\"ticks\":\"outside\",\"tickwidth\":2}},\"marker\":{\"colorbar\":{\"outlinewidth\":0,\"tickcolor\":\"rgb(36,36,36)\",\"ticklen\":8,\"ticks\":\"outside\",\"tickwidth\":2}},\"type\":\"scatter3d\"}],\"scattercarpet\":[{\"marker\":{\"colorbar\":{\"outlinewidth\":0,\"tickcolor\":\"rgb(36,36,36)\",\"ticklen\":8,\"ticks\":\"outside\",\"tickwidth\":2}},\"type\":\"scattercarpet\"}],\"scattergeo\":[{\"marker\":{\"colorbar\":{\"outlinewidth\":0,\"tickcolor\":\"rgb(36,36,36)\",\"ticklen\":8,\"ticks\":\"outside\",\"tickwidth\":2}},\"type\":\"scattergeo\"}],\"scattergl\":[{\"marker\":{\"colorbar\":{\"outlinewidth\":0,\"tickcolor\":\"rgb(36,36,36)\",\"ticklen\":8,\"ticks\":\"outside\",\"tickwidth\":2}},\"type\":\"scattergl\"}],\"scattermapbox\":[{\"marker\":{\"colorbar\":{\"outlinewidth\":0,\"tickcolor\":\"rgb(36,36,36)\",\"ticklen\":8,\"ticks\":\"outside\",\"tickwidth\":2}},\"type\":\"scattermapbox\"}],\"scatterpolargl\":[{\"marker\":{\"colorbar\":{\"outlinewidth\":0,\"tickcolor\":\"rgb(36,36,36)\",\"ticklen\":8,\"ticks\":\"outside\",\"tickwidth\":2}},\"type\":\"scatterpolargl\"}],\"scatterpolar\":[{\"marker\":{\"colorbar\":{\"outlinewidth\":0,\"tickcolor\":\"rgb(36,36,36)\",\"ticklen\":8,\"ticks\":\"outside\",\"tickwidth\":2}},\"type\":\"scatterpolar\"}],\"scatter\":[{\"fillpattern\":{\"fillmode\":\"overlay\",\"size\":10,\"solidity\":0.2},\"type\":\"scatter\"}],\"scatterternary\":[{\"marker\":{\"colorbar\":{\"outlinewidth\":0,\"tickcolor\":\"rgb(36,36,36)\",\"ticklen\":8,\"ticks\":\"outside\",\"tickwidth\":2}},\"type\":\"scatterternary\"}],\"surface\":[{\"colorbar\":{\"outlinewidth\":0,\"tickcolor\":\"rgb(36,36,36)\",\"ticklen\":8,\"ticks\":\"outside\",\"tickwidth\":2},\"colorscale\":[[0.0,\"rgb(2,4,25)\"],[0.06274509803921569,\"rgb(24,15,41)\"],[0.12549019607843137,\"rgb(47,23,57)\"],[0.18823529411764706,\"rgb(71,28,72)\"],[0.25098039215686274,\"rgb(97,30,82)\"],[0.3137254901960784,\"rgb(123,30,89)\"],[0.3764705882352941,\"rgb(150,27,91)\"],[0.4392156862745098,\"rgb(177,22,88)\"],[0.5019607843137255,\"rgb(203,26,79)\"],[0.5647058823529412,\"rgb(223,47,67)\"],[0.6274509803921569,\"rgb(236,76,61)\"],[0.6901960784313725,\"rgb(242,107,73)\"],[0.7529411764705882,\"rgb(244,135,95)\"],[0.8156862745098039,\"rgb(245,162,122)\"],[0.8784313725490196,\"rgb(246,188,153)\"],[0.9411764705882353,\"rgb(247,212,187)\"],[1.0,\"rgb(250,234,220)\"]],\"type\":\"surface\"}],\"table\":[{\"cells\":{\"fill\":{\"color\":\"rgb(231,231,240)\"},\"line\":{\"color\":\"white\"}},\"header\":{\"fill\":{\"color\":\"rgb(183,183,191)\"},\"line\":{\"color\":\"white\"}},\"type\":\"table\"}]},\"layout\":{\"annotationdefaults\":{\"arrowcolor\":\"rgb(67,103,167)\"},\"autotypenumbers\":\"strict\",\"coloraxis\":{\"colorbar\":{\"outlinewidth\":0,\"tickcolor\":\"rgb(36,36,36)\",\"ticklen\":8,\"ticks\":\"outside\",\"tickwidth\":2}},\"colorscale\":{\"sequential\":[[0.0,\"rgb(2,4,25)\"],[0.06274509803921569,\"rgb(24,15,41)\"],[0.12549019607843137,\"rgb(47,23,57)\"],[0.18823529411764706,\"rgb(71,28,72)\"],[0.25098039215686274,\"rgb(97,30,82)\"],[0.3137254901960784,\"rgb(123,30,89)\"],[0.3764705882352941,\"rgb(150,27,91)\"],[0.4392156862745098,\"rgb(177,22,88)\"],[0.5019607843137255,\"rgb(203,26,79)\"],[0.5647058823529412,\"rgb(223,47,67)\"],[0.6274509803921569,\"rgb(236,76,61)\"],[0.6901960784313725,\"rgb(242,107,73)\"],[0.7529411764705882,\"rgb(244,135,95)\"],[0.8156862745098039,\"rgb(245,162,122)\"],[0.8784313725490196,\"rgb(246,188,153)\"],[0.9411764705882353,\"rgb(247,212,187)\"],[1.0,\"rgb(250,234,220)\"]],\"sequentialminus\":[[0.0,\"rgb(2,4,25)\"],[0.06274509803921569,\"rgb(24,15,41)\"],[0.12549019607843137,\"rgb(47,23,57)\"],[0.18823529411764706,\"rgb(71,28,72)\"],[0.25098039215686274,\"rgb(97,30,82)\"],[0.3137254901960784,\"rgb(123,30,89)\"],[0.3764705882352941,\"rgb(150,27,91)\"],[0.4392156862745098,\"rgb(177,22,88)\"],[0.5019607843137255,\"rgb(203,26,79)\"],[0.5647058823529412,\"rgb(223,47,67)\"],[0.6274509803921569,\"rgb(236,76,61)\"],[0.6901960784313725,\"rgb(242,107,73)\"],[0.7529411764705882,\"rgb(244,135,95)\"],[0.8156862745098039,\"rgb(245,162,122)\"],[0.8784313725490196,\"rgb(246,188,153)\"],[0.9411764705882353,\"rgb(247,212,187)\"],[1.0,\"rgb(250,234,220)\"]]},\"colorway\":[\"rgb(76,114,176)\",\"rgb(221,132,82)\",\"rgb(85,168,104)\",\"rgb(196,78,82)\",\"rgb(129,114,179)\",\"rgb(147,120,96)\",\"rgb(218,139,195)\",\"rgb(140,140,140)\",\"rgb(204,185,116)\",\"rgb(100,181,205)\"],\"font\":{\"color\":\"rgb(36,36,36)\"},\"geo\":{\"bgcolor\":\"white\",\"lakecolor\":\"white\",\"landcolor\":\"rgb(234,234,242)\",\"showlakes\":true,\"showland\":true,\"subunitcolor\":\"white\"},\"hoverlabel\":{\"align\":\"left\"},\"hovermode\":\"closest\",\"paper_bgcolor\":\"white\",\"plot_bgcolor\":\"rgb(234,234,242)\",\"polar\":{\"angularaxis\":{\"gridcolor\":\"white\",\"linecolor\":\"white\",\"showgrid\":true,\"ticks\":\"\"},\"bgcolor\":\"rgb(234,234,242)\",\"radialaxis\":{\"gridcolor\":\"white\",\"linecolor\":\"white\",\"showgrid\":true,\"ticks\":\"\"}},\"scene\":{\"xaxis\":{\"backgroundcolor\":\"rgb(234,234,242)\",\"gridcolor\":\"white\",\"gridwidth\":2,\"linecolor\":\"white\",\"showbackground\":true,\"showgrid\":true,\"ticks\":\"\",\"zerolinecolor\":\"white\"},\"yaxis\":{\"backgroundcolor\":\"rgb(234,234,242)\",\"gridcolor\":\"white\",\"gridwidth\":2,\"linecolor\":\"white\",\"showbackground\":true,\"showgrid\":true,\"ticks\":\"\",\"zerolinecolor\":\"white\"},\"zaxis\":{\"backgroundcolor\":\"rgb(234,234,242)\",\"gridcolor\":\"white\",\"gridwidth\":2,\"linecolor\":\"white\",\"showbackground\":true,\"showgrid\":true,\"ticks\":\"\",\"zerolinecolor\":\"white\"}},\"shapedefaults\":{\"fillcolor\":\"rgb(67,103,167)\",\"line\":{\"width\":0},\"opacity\":0.5},\"ternary\":{\"aaxis\":{\"gridcolor\":\"white\",\"linecolor\":\"white\",\"showgrid\":true,\"ticks\":\"\"},\"baxis\":{\"gridcolor\":\"white\",\"linecolor\":\"white\",\"showgrid\":true,\"ticks\":\"\"},\"bgcolor\":\"rgb(234,234,242)\",\"caxis\":{\"gridcolor\":\"white\",\"linecolor\":\"white\",\"showgrid\":true,\"ticks\":\"\"}},\"xaxis\":{\"automargin\":true,\"gridcolor\":\"white\",\"linecolor\":\"white\",\"showgrid\":true,\"ticks\":\"\",\"title\":{\"standoff\":15},\"zerolinecolor\":\"white\"},\"yaxis\":{\"automargin\":true,\"gridcolor\":\"white\",\"linecolor\":\"white\",\"showgrid\":true,\"ticks\":\"\",\"title\":{\"standoff\":15},\"zerolinecolor\":\"white\"}}},\"xaxis\":{\"anchor\":\"y\",\"domain\":[0.0,1.0],\"title\":{\"text\":\"frecuencia\"},\"range\":[0,911.25],\"tickangle\":35},\"yaxis\":{\"anchor\":\"x\",\"domain\":[0.0,1.0],\"title\":{\"text\":\"palabras clave\"}},\"legend\":{\"tracegroupgap\":0},\"margin\":{\"t\":60},\"barmode\":\"relative\",\"title\":{\"text\":\"35 palabras clave m\\u00e1s frecuentes de 37 revistas de Educaci\\u00f3n  Matem\\u00e1tica \"},\"font\":{\"size\":8}},                        {\"responsive\": true}                    ).then(function(){\n",
       "                            \n",
       "var gd = document.getElementById('8a3f0e43-5cc5-4a7b-a1e2-80a61c746b19');\n",
       "var x = new MutationObserver(function (mutations, observer) {{\n",
       "        var display = window.getComputedStyle(gd).display;\n",
       "        if (!display || display === 'none') {{\n",
       "            console.log([gd, 'removed!']);\n",
       "            Plotly.purge(gd);\n",
       "            observer.disconnect();\n",
       "        }}\n",
       "}});\n",
       "\n",
       "// Listen for the removal of the full notebook cells\n",
       "var notebookContainer = gd.closest('#notebook-container');\n",
       "if (notebookContainer) {{\n",
       "    x.observe(notebookContainer, {childList: true});\n",
       "}}\n",
       "\n",
       "// Listen for the clearing of the current output cell\n",
       "var outputEl = gd.closest('.output');\n",
       "if (outputEl) {{\n",
       "    x.observe(outputEl, {childList: true});\n",
       "}}\n",
       "\n",
       "                        })                };                });            </script>        </div>"
      ]
     },
     "metadata": {},
     "output_type": "display_data"
    },
    {
     "name": "stdout",
     "output_type": "stream",
     "text": [
      "Palabras clave proporcionadas por los autores en cada uno de los 23094 artículos analizados. Fuente: Scopus. Solo se muestran las palabras clave más frecuentes porque en el título y abstract el proceso implica transformarlos.\n"
     ]
    }
   ],
   "source": [
    "import plotly.express as px\n",
    "\n",
    "# Filtrar las filas con palabras clave de autor no nulas\n",
    "dfK = dfA[dfA['Author Keywords'].notnull()]\n",
    "\n",
    "# Crear una lista de palabras clave separadas por punto y coma\n",
    "dfK['key_words'] = dfK['Author Keywords'].apply(lambda x: x.split(';'))\n",
    "\n",
    "# Eliminar espacios en blanco de las palabras clave\n",
    "dfK['key_words'] = dfK['key_words'].apply(lambda x: [word.strip() for word in x])\n",
    "\n",
    "# Convertir todas las palabras clave a minúsculas\n",
    "def minus(lista):\n",
    "    return list(map(lambda x: x.lower(), lista))\n",
    "\n",
    "dfK['key_words'] = dfK['key_words'].transform(minus)\n",
    "\n",
    "# Crear una lista de palabras clave ordenadas alfabéticamente\n",
    "key_word_list0 = sorted(dfK['key_words'].tolist())\n",
    "\n",
    "# Contar la frecuencia de cada palabra clave\n",
    "from collections import Counter\n",
    "\n",
    "key_word_count0 = dict(Counter(i for sub in key_word_list0 for i in set(sub)))\n",
    "key_word_count0.pop('nan', None)\n",
    "\n",
    "# Ordenar las palabras clave por frecuencia\n",
    "key_word_list0_ordenado = sorted(key_word_count0.items(), key=lambda x: x[1], reverse=True)\n",
    "\n",
    "# Seleccionar las n palabras clave más frecuentes\n",
    "n = 35\n",
    "key_word_list0_ordenado_elegidos = key_word_list0_ordenado[:n]\n",
    "\n",
    "##### Gráfico de palabras clave más frecuentes ###\n",
    "\n",
    "\n",
    "# Calcular porcentajes\n",
    "porcentajes = [round((frecuencia / len(dfA)) * 100, 1) for palabra, frecuencia in key_word_list0_ordenado_elegidos]\n",
    "\n",
    "\n",
    "bar_texts = [f\"{frecuencia} ({porcentaje}%)\" for frecuencia, porcentaje in zip([key_word_list0_ordenado_elegidos[j][1] for j in range(0, n - 1)], porcentajes)]\n",
    "\n",
    "\n",
    "\n",
    "#Crear títulos y gráfico\n",
    "title = str(n) + ' palabras clave más frecuentes de ' + nombre_largo\n",
    "\n",
    "# Crear el gráfico de barras\n",
    "fig = px.bar(template=template_elegido, orientation='h',\n",
    "             y=[key_word_list0_ordenado_elegidos[j][0] for j in range(0, n - 1)],\n",
    "             x=[key_word_list0_ordenado_elegidos[j][1] for j in range(0, n - 1)], text=bar_texts,\n",
    "             )\n",
    "\n",
    "    \n",
    "\n",
    "# Actualizar el título, los títulos de los ejes y el ángulo de las etiquetas del eje x\n",
    "fig.update_layout(\n",
    "    title=title,\n",
    "    yaxis_title=\"palabras clave\",\n",
    "    xaxis_title=\"frecuencia\",\n",
    "    xaxis=dict(range=[0, max([key_word_list0_ordenado_elegidos[j][1] for j in range(0, n - 1)]) * 1.25]))  # Aumentar el rango del eje x en un 15%)\n",
    "fig.update_xaxes(tickangle=35)\n",
    "fig.update_layout(font_size=8)\n",
    "# Actualizar el tamaño de la fuente del texto de las barras\n",
    "fig.update_traces(textposition='outside', textfont=dict(size=14))  # Ajustar el tamaño y la posición del texto\n",
    "\n",
    "# Mostrar el gráfico\n",
    "fig.show()\n",
    "\n",
    "# Crear el nombre del archivo\n",
    "nombre_archivo = abrev + \"_\" + str(n) + '_palabras_claves_mas_frecuentes_' + str(now.year) + '_' + str(now.month) + '_' + str(now.day) + '_' + str(now.hour) + '_' + str(now.minute)\n",
    "\n",
    "# Guardar el gráfico como archivo HTML y PDF\n",
    "fig.write_html(abrev + '/' + nombre_archivo + \".html\")\n",
    "fig.write_image(abrev + '/' + nombre_archivo + \".pdf\", width=700, height=800)\n",
    "nombre_archivo_figura = nombre_archivo\n",
    "\n",
    "# Agregar una sección al archivo LaTeX\n",
    "entorno_section_tex(ruta_archivo, nombre_archivo_tex, 'Palabras clave de la base de datos')\n",
    "\n",
    "# Crear el párrafo para el informe\n",
    "lista_párrafo4 = ['En la figura \\\\ref{fig:' + nombre_archivo + '}',\n",
    "                  'se observan las ', str(n), 'palabras clave con mayor frecuencia en la',\n",
    "                  'base de datos analizada. La palabra que más aparece es <<', key_word_list0_ordenado_elegidos[0][0], '>>,',\n",
    "                  'la cual, se repite ', str(key_word_list0_ordenado_elegidos[0][1]), 'veces,',\n",
    "                  'es decir, en ', str(round(100 * key_word_list0_ordenado_elegidos[0][1] / len(dfA), 1)),\n",
    "                  '\\% de los documentos.']\n",
    "\n",
    "párrafo4 = ' '.join(lista_párrafo4)\n",
    "\n",
    "# Añadir el párrafo al archivo LaTeX\n",
    "parrafo_tex(ruta_archivo, nombre_archivo_tex, párrafo4)\n",
    "\n",
    "# Crear la leyenda para el gráfico\n",
    "leyenda = 'Palabras clave proporcionadas por los autores en cada uno de los '+str(len(dfA))+' artículos analizados. Fuente: ' + fuente_articulos + '. Solo se muestran las palabras clave más frecuentes porque en el título y abstract el proceso implica transformarlos.'\n",
    "\n",
    "# Añadir el entorno de figura al archivo LaTeX\n",
    "entorno_figura_tex(ruta_archivo, nombre_archivo_tex, nombre_archivo_figura, leyenda)\n",
    "print(leyenda)\n",
    "\n",
    "# Imprimir las palabras clave más frecuentes\n",
    "\n",
    "# Crear una lista de palabras clave y sus frecuencias\n",
    "lista_palabras_clave = [key_word_list0_ordenado_elegidos[j][0] + ': ' + str(key_word_list0_ordenado_elegidos[j][1]) for j in range(0, n - 1)]\n",
    "\n"
   ]
  },
  {
   "cell_type": "markdown",
   "id": "d4f4ecfa",
   "metadata": {},
   "source": [
    "# 10 Importar librerías sobre tratamiento del lenguaje natural"
   ]
  },
  {
   "cell_type": "code",
   "execution_count": 11,
   "id": "a5ac19b6",
   "metadata": {},
   "outputs": [],
   "source": [
    "# Importar la librería nltk\n",
    "import nltk\n",
    "\n",
    "# Descargar el paquete \"popular\" de nltk (si es necesario), esto incluye recursos como corpus y modelos para el procesamiento del lenguaje natural\n",
    "# nltk.download('popular')\n",
    "\n",
    "# Importar módulos adicionales\n",
    "import re\n",
    "import string\n",
    "\n",
    "# Inicializar el lematizador de WordNet y el stemmer de Porter\n",
    "wn = nltk.WordNetLemmatizer()\n",
    "ps = nltk.PorterStemmer()\n",
    "\n",
    "# Obtener la lista de palabras vacías (stopwords) en inglés de nltk\n",
    "stopwords = nltk.corpus.stopwords.words('english')\n",
    "\n",
    "# Agregar palabras adicionales a la lista de stopwords\n",
    "stopwords.append('The')\n",
    "stopwords.append('use')\n"
   ]
  },
  {
   "cell_type": "markdown",
   "id": "329337e9",
   "metadata": {},
   "source": [
    "# 11  Limpieza de conectores e ilativos"
   ]
  },
  {
   "cell_type": "code",
   "execution_count": 12,
   "id": "e0fd044d",
   "metadata": {},
   "outputs": [],
   "source": [
    "# Función para limpiar el texto, eliminando puntuación y palabras vacías (stopwords)\n",
    "def clean_text(txt):\n",
    "    # Eliminar puntuación\n",
    "    txt = \"\".join([c for c in txt if c not in string.punctuation])\n",
    "    # Tokenizar el texto utilizando expresiones regulares\n",
    "    tokens = re.split('\\W+', txt)\n",
    "    # Eliminar palabras vacías (stopwords)\n",
    "    txt = [word for word in tokens if word not in stopwords]\n",
    "    return txt\n",
    "\n",
    "# Lista de palabras adicionales a eliminar\n",
    "lista_eliminar = ['al', 'ano', 'año', 'com', 'commun', 'como', 'con', 'da', 'de', 'del', 'desd', 'do', 'e', 'el', 'em', 'en','et', 'entr', 'la','las', 'lo','los', 'na', 'para', 'por', 'que','sobre', 'sobr', 'su', 'sua', 'toward', 'two','um', 'uma', 'un', 'una', 'use', 'uso']\n",
    "\n",
    "# Función para eliminar palabras específicas de una lista\n",
    "def eliminar_palabras(lista):\n",
    "    for x in range(0, len(lista_eliminar)):\n",
    "        if lista_eliminar[x] in lista:\n",
    "            lista.remove(lista_eliminar[x])            \n",
    "    return lista\n",
    "\n",
    "# Aplicar la limpieza en la columna 'Author Keywords' si existe\n",
    "if 'Author Keywords' in dfA.columns:\n",
    "    dfA['Author Keywords'] = dfA['Author Keywords'].astype(str)\n",
    "    dfA['Author Keywords'] = dfA['Author Keywords'].str.lower()\n",
    "    dfA['key_words_non_spot'] = dfA['Author Keywords'].apply(lambda x: clean_text(x))\n",
    "\n",
    "# Aplicar la limpieza en la columna 'Title' si existe\n",
    "if 'Title' in dfA.columns:\n",
    "    dfA['Title'] = dfA['Title'].astype(str)\n",
    "    dfA['Title'] = dfA['Title'].str.lower()\n",
    "    dfA['title_non_spot'] = dfA['Title'].apply(lambda x: clean_text(x))\n",
    "\n",
    "# Aplicar la limpieza en la columna 'Abstract' si existe\n",
    "if 'Abstract' in dfA.columns:\n",
    "    dfA['Abstract'] = dfA['Abstract'].astype(str)\n",
    "    dfA['Abstract'] = dfA['Abstract'].str.lower()\n",
    "    dfA['abstract_non_spot'] = dfA['Abstract'].apply(lambda x: clean_text(x))\n"
   ]
  },
  {
   "cell_type": "markdown",
   "id": "3d01aa44",
   "metadata": {},
   "source": [
    "# 12 Aplicar método lemmatize o stemming"
   ]
  },
  {
   "cell_type": "code",
   "execution_count": 13,
   "id": "50cf4622",
   "metadata": {},
   "outputs": [],
   "source": [
    "# Función que lematiza las palabras en un texto tokenizado\n",
    "def lemmatization(token_txt):\n",
    "    text = [wn.lemmatize(word) for word in token_txt]\n",
    "    return text\n",
    "\n",
    "# Función que aplica stemming en un texto tokenizado\n",
    "def stemming(token_txt):\n",
    "    text = [ps.stem(word) for word in token_txt]\n",
    "    return text\n",
    "\n",
    "# Aplicar lematización o stemming en función del valor de 'metodo'\n",
    "if metodo == 1:\n",
    "    met = 'lemmatize'\n",
    "    # Aplicar lematización a las columnas 'key_words_non_spot', 'title_non_spot' y 'abstract_non_spot'\n",
    "    processing_function = lemmatization\n",
    "else:\n",
    "    met = 'stemming'\n",
    "    # Aplicar stemming a las columnas 'key_words_non_spot', 'title_non_spot' y 'abstract_non_spot'\n",
    "    processing_function = stemming\n",
    "\n",
    "# Crear columnas 'key_words_metodo', 'title_metodo' y 'abstract_metodo'\n",
    "for column in ['key_words_non_spot', 'title_non_spot', 'abstract_non_spot']:\n",
    "    dfA[f'{column[:-9]}_metodo'] = dfA[column].apply(processing_function)\n",
    "    dfA[f'{column[:-9]}_metodo'] = dfA[f'{column[:-9]}_metodo'].apply(lambda x: list(set(x)))\n",
    "    dfA[f'{column[:-9]}_metodo'] = dfA[f'{column[:-9]}_metodo'].apply(eliminar_palabras)\n",
    "\n",
    "# Funciones para combinar palabras de diferentes columnas\n",
    "def combinar_title_key(row):\n",
    "    return row['title_metodo'] + row['key_words_metodo']\n",
    "\n",
    "def combinar_title_abs(row):\n",
    "    return row['title_metodo'] + row['abstract_metodo']\n",
    "\n",
    "def combinar_key_abs(row):\n",
    "    return row['key_words_metodo'] + row['abstract_metodo']\n",
    "\n",
    "def combinar_title_abs_key(row):\n",
    "    return row['title_metodo'] + row['abstract_metodo'] + row['key_words_metodo']\n",
    "\n",
    "# Combinar palabras en nuevas columnas y eliminar duplicados\n",
    "combinations = {\n",
    "    'title_key_metodo': combinar_title_key,\n",
    "    'title_abs_metodo': combinar_title_abs,\n",
    "    'key_abs_metodo': combinar_key_abs,\n",
    "    'title_abs_key_metodo': combinar_title_abs_key\n",
    "}\n",
    "\n",
    "for column, comb_function in combinations.items():\n",
    "    dfA[column] = dfA.apply(comb_function, axis=1)\n",
    "    dfA[column] = dfA[column].apply(lambda x: list(set(x)))\n",
    "\n",
    "# Crear listas y diccionarios para mapear campos y nombres\n",
    "lista_campos = ['key_words_metodo', 'title_metodo', 'abstract_metodo', 'title_key_metodo', 'title_abs_metodo', 'key_abs_metodo', 'title_abs_key_metodo']\n",
    "nombre_campos = ['PALABRAS CLAVE', 'TÍTULOS', 'RESÚMENES', 'TÍTULO - PALABRAS CLAVE', 'TÍTULO - RESÚMENES', 'PALABRAS CLAVE - RESÚMENES', 'TÍTULO - PALABRAS CLAVE - RESÚMENES']\n",
    "dic_campo_a_contar_palabras = dict(zip(dic_campo_a_analizar.values(), lista_campos))\n",
    "dic_nombres_campo = dict(zip(dic_campo_a_analizar.values(), nombre_campos))\n",
    "\n",
    "# Imprimir mapeo de campos y nombres\n"
   ]
  },
  {
   "cell_type": "markdown",
   "id": "1d00f571",
   "metadata": {},
   "source": [
    "## 13 Cálculo de los promedios de los campos analizados"
   ]
  },
  {
   "cell_type": "code",
   "execution_count": 14,
   "id": "b19539f2",
   "metadata": {},
   "outputs": [
    {
     "name": "stdout",
     "output_type": "stream",
     "text": [
      "El promedio del largo de las listas en la columna 'title_key_metodo' es: 10.775959123581883\n",
      "El promedio del largo de las listas en la columna 'title_metodo' es: 7.554256516844202\n",
      "El promedio del largo de las listas en la columna 'abstract_metodo' es: 58.389581709534944\n",
      "El promedio del largo de las listas en la columna 'title_key_metodo' es: 10.775959123581883\n",
      "El promedio del largo de las listas en la columna 'title_abs_metodo' es: 60.85221269593834\n",
      "El promedio del largo de las listas en la columna 'key_abs_metodo' es: 60.11829912531393\n",
      "El promedio del largo de las listas en la columna 'title_abs_key_metodo' es: 62.42591149216246\n"
     ]
    }
   ],
   "source": [
    "import numpy as np\n",
    "\n",
    "# Convertir cada lista en su longitud correspondiente\n",
    "lengths_key = dfA['title_key_metodo'].map(lambda x: len(x))  # Longitudes de la columna 'title_key_metodo'\n",
    "lengths_title_metodo = dfA['title_metodo'].map(lambda x: len(x))  # Longitudes de la columna 'title_metodo'\n",
    "lengths_abstract_metodo = dfA['abstract_metodo'].map(lambda x: len(x))  # Longitudes de la columna 'abstract_metodo'\n",
    "lengths_title_key = dfA['title_key_metodo'].map(lambda x: len(x))  # Longitudes de la columna 'title_key_metodo'\n",
    "lengths_title_abs_metodo = dfA['title_abs_metodo'].map(lambda x: len(x))  # Longitudes de la columna 'title_abs_metodo'\n",
    "lengths_key_abs_metodo = dfA['key_abs_metodo'].map(lambda x: len(x))  # Longitudes de la columna 'key_abs_metodo'\n",
    "lengths_title_abs_key_metodo = dfA['title_abs_key_metodo'].map(lambda x: len(x))  # Longitudes de la columna 'title_abs_key_metodo'\n",
    "\n",
    "# Calcular el promedio de las longitudes\n",
    "avg_lengths_key = np.mean(lengths_key)\n",
    "avg_lengths_title_metodo = np.mean(lengths_title_metodo)\n",
    "avg_lengths_abstract_metodo = np.mean(lengths_abstract_metodo)\n",
    "avg_lengths_title_key = np.mean(lengths_title_key)\n",
    "avg_lengths_title_abs_metodo = np.mean(lengths_title_abs_metodo)\n",
    "avg_lengths_key_abs_metodo = np.mean(lengths_key_abs_metodo)\n",
    "avg_lengths_title_abs_key_metodo = np.mean(lengths_title_abs_key_metodo)\n",
    "\n",
    "# Imprimir promedios de las longitudes\n",
    "print(\"El promedio del largo de las listas en la columna 'title_key_metodo' es:\", avg_lengths_key)\n",
    "print(\"El promedio del largo de las listas en la columna 'title_metodo' es:\", avg_lengths_title_metodo)\n",
    "print(\"El promedio del largo de las listas en la columna 'abstract_metodo' es:\", avg_lengths_abstract_metodo)\n",
    "print(\"El promedio del largo de las listas en la columna 'title_key_metodo' es:\", avg_lengths_title_key)\n",
    "print(\"El promedio del largo de las listas en la columna 'title_abs_metodo' es:\", avg_lengths_title_abs_metodo)\n",
    "print(\"El promedio del largo de las listas en la columna 'key_abs_metodo' es:\", avg_lengths_key_abs_metodo)\n",
    "print(\"El promedio del largo de las listas en la columna 'title_abs_key_metodo' es:\", avg_lengths_title_abs_key_metodo)\n"
   ]
  },
  {
   "cell_type": "markdown",
   "id": "079bd281",
   "metadata": {},
   "source": [
    "# 14 Definir nombre de campos a analizar"
   ]
  },
  {
   "cell_type": "code",
   "execution_count": 15,
   "id": "bea8dee2",
   "metadata": {},
   "outputs": [
    {
     "name": "stdout",
     "output_type": "stream",
     "text": [
      "title_abs_key_metodo\n",
      "parejas_title_abs_key\n",
      "TÍTULOS, PALABRAS CLAVE y RESÚMENES\n"
     ]
    }
   ],
   "source": [
    "# Diccionario para mapear las variables en función de campo_a_analizar\n",
    "campo_a_analizar_dict = {\n",
    "    1: ('key_words_metodo', 'parejas_key_words', 'PALABRAS CLAVE'),\n",
    "    2: ('title_metodo', 'parejas_title', 'TÍTULOS'),\n",
    "    3: ('abstract_metodo', 'parejas_abstract', 'RESÚMENES'),\n",
    "    4: ('title_key_metodo', 'parejas_title_key', 'PALABRAS CLAVE y TÍTULOS'),\n",
    "    5: ('title_abs_metodo', 'parejas_title_abs', 'TÍTULOS y RESÚMENES'),\n",
    "    6: ('key_abs_metodo', 'parejas_key_abs', 'PALABRAS CLAVE y RESÚMENES'),\n",
    "    7: ('title_abs_key_metodo', 'parejas_title_abs_key', 'TÍTULOS, PALABRAS CLAVE y RESÚMENES')\n",
    "}\n",
    "\n",
    "# Asignar las variables usando el diccionario y campo_a_analizar\n",
    "campo_para_nodos_grafo, campo_para_aristas_grafo, nombre_de_campo_analizado = campo_a_analizar_dict.get(campo_a_analizar)\n",
    "\n",
    "# Imprimir las variables asignadas\n",
    "print(campo_para_nodos_grafo)\n",
    "print(campo_para_aristas_grafo)\n",
    "print(nombre_de_campo_analizado)\n"
   ]
  },
  {
   "cell_type": "markdown",
   "id": "99939356",
   "metadata": {},
   "source": [
    "# 15 Conteo y gráfica del método aplicado al campo elegido"
   ]
  },
  {
   "cell_type": "code",
   "execution_count": 16,
   "id": "dead94b5",
   "metadata": {},
   "outputs": [
    {
     "data": {
      "application/vnd.plotly.v1+json": {
       "config": {
        "plotlyServerURL": "https://plot.ly"
       },
       "data": [
        {
         "alignmentgroup": "True",
         "hovertemplate": "x=%{x}<br>y=%{y}<br>text=%{text}<extra></extra>",
         "legendgroup": "",
         "marker": {
          "color": "rgb(76,114,176)",
          "pattern": {
           "shape": ""
          }
         },
         "name": "",
         "offsetgroup": "",
         "orientation": "h",
         "showlegend": false,
         "text": [
          "12314 (53.3%)",
          "12020 (52.0%)",
          "10672 (46.2%)",
          "7949 (34.4%)",
          "7878 (34.1%)",
          "7735 (33.5%)",
          "7453 (32.3%)",
          "7236 (31.3%)",
          "7139 (30.9%)",
          "7017 (30.4%)",
          "6799 (29.4%)",
          "6329 (27.4%)",
          "6244 (27.0%)",
          "6242 (27.0%)",
          "6169 (26.7%)",
          "6138 (26.6%)",
          "5485 (23.8%)",
          "5189 (22.5%)",
          "4903 (21.2%)",
          "4639 (20.1%)",
          "4452 (19.3%)",
          "4352 (18.8%)",
          "4339 (18.8%)",
          "4250 (18.4%)",
          "4200 (18.2%)",
          "4193 (18.2%)",
          "4117 (17.8%)",
          "4058 (17.6%)",
          "3940 (17.1%)",
          "3925 (17.0%)",
          "3775 (16.3%)",
          "3709 (16.1%)",
          "3702 (16.0%)",
          "3621 (15.7%)"
         ],
         "textfont": {
          "size": 14
         },
         "textposition": "outside",
         "type": "bar",
         "x": [
          12314,
          12020,
          10672,
          7949,
          7878,
          7735,
          7453,
          7236,
          7139,
          7017,
          6799,
          6329,
          6244,
          6242,
          6169,
          6138,
          5485,
          5189,
          4903,
          4639,
          4452,
          4352,
          4339,
          4250,
          4200,
          4193,
          4117,
          4058,
          3940,
          3925,
          3775,
          3709,
          3702,
          3621
         ],
         "xaxis": "x",
         "y": [
          "student",
          "mathematics",
          "study",
          "group",
          "education",
          "learning",
          "research",
          "teacher",
          "teaching",
          "mathematical",
          "result",
          "paper",
          "taylor",
          "school",
          "francis",
          "analysis",
          "used",
          "using",
          "problem",
          "data",
          "llc",
          "development",
          "also",
          "science",
          "one",
          "knowledge",
          "understanding",
          "approach",
          "classroom",
          "article",
          "different",
          "course",
          "process",
          "author"
         ],
         "yaxis": "y"
        }
       ],
       "layout": {
        "barmode": "relative",
        "font": {
         "size": 9
        },
        "legend": {
         "tracegroupgap": 0
        },
        "margin": {
         "t": 60
        },
        "template": {
         "data": {
          "bar": [
           {
            "error_x": {
             "color": "rgb(36,36,36)"
            },
            "error_y": {
             "color": "rgb(36,36,36)"
            },
            "marker": {
             "line": {
              "color": "rgb(234,234,242)",
              "width": 0.5
             },
             "pattern": {
              "fillmode": "overlay",
              "size": 10,
              "solidity": 0.2
             }
            },
            "type": "bar"
           }
          ],
          "barpolar": [
           {
            "marker": {
             "line": {
              "color": "rgb(234,234,242)",
              "width": 0.5
             },
             "pattern": {
              "fillmode": "overlay",
              "size": 10,
              "solidity": 0.2
             }
            },
            "type": "barpolar"
           }
          ],
          "carpet": [
           {
            "aaxis": {
             "endlinecolor": "rgb(36,36,36)",
             "gridcolor": "white",
             "linecolor": "white",
             "minorgridcolor": "white",
             "startlinecolor": "rgb(36,36,36)"
            },
            "baxis": {
             "endlinecolor": "rgb(36,36,36)",
             "gridcolor": "white",
             "linecolor": "white",
             "minorgridcolor": "white",
             "startlinecolor": "rgb(36,36,36)"
            },
            "type": "carpet"
           }
          ],
          "choropleth": [
           {
            "colorbar": {
             "outlinewidth": 0,
             "tickcolor": "rgb(36,36,36)",
             "ticklen": 8,
             "ticks": "outside",
             "tickwidth": 2
            },
            "type": "choropleth"
           }
          ],
          "contour": [
           {
            "colorbar": {
             "outlinewidth": 0,
             "tickcolor": "rgb(36,36,36)",
             "ticklen": 8,
             "ticks": "outside",
             "tickwidth": 2
            },
            "colorscale": [
             [
              0,
              "rgb(2,4,25)"
             ],
             [
              0.06274509803921569,
              "rgb(24,15,41)"
             ],
             [
              0.12549019607843137,
              "rgb(47,23,57)"
             ],
             [
              0.18823529411764706,
              "rgb(71,28,72)"
             ],
             [
              0.25098039215686274,
              "rgb(97,30,82)"
             ],
             [
              0.3137254901960784,
              "rgb(123,30,89)"
             ],
             [
              0.3764705882352941,
              "rgb(150,27,91)"
             ],
             [
              0.4392156862745098,
              "rgb(177,22,88)"
             ],
             [
              0.5019607843137255,
              "rgb(203,26,79)"
             ],
             [
              0.5647058823529412,
              "rgb(223,47,67)"
             ],
             [
              0.6274509803921569,
              "rgb(236,76,61)"
             ],
             [
              0.6901960784313725,
              "rgb(242,107,73)"
             ],
             [
              0.7529411764705882,
              "rgb(244,135,95)"
             ],
             [
              0.8156862745098039,
              "rgb(245,162,122)"
             ],
             [
              0.8784313725490196,
              "rgb(246,188,153)"
             ],
             [
              0.9411764705882353,
              "rgb(247,212,187)"
             ],
             [
              1,
              "rgb(250,234,220)"
             ]
            ],
            "type": "contour"
           }
          ],
          "contourcarpet": [
           {
            "colorbar": {
             "outlinewidth": 0,
             "tickcolor": "rgb(36,36,36)",
             "ticklen": 8,
             "ticks": "outside",
             "tickwidth": 2
            },
            "type": "contourcarpet"
           }
          ],
          "heatmap": [
           {
            "colorbar": {
             "outlinewidth": 0,
             "tickcolor": "rgb(36,36,36)",
             "ticklen": 8,
             "ticks": "outside",
             "tickwidth": 2
            },
            "colorscale": [
             [
              0,
              "rgb(2,4,25)"
             ],
             [
              0.06274509803921569,
              "rgb(24,15,41)"
             ],
             [
              0.12549019607843137,
              "rgb(47,23,57)"
             ],
             [
              0.18823529411764706,
              "rgb(71,28,72)"
             ],
             [
              0.25098039215686274,
              "rgb(97,30,82)"
             ],
             [
              0.3137254901960784,
              "rgb(123,30,89)"
             ],
             [
              0.3764705882352941,
              "rgb(150,27,91)"
             ],
             [
              0.4392156862745098,
              "rgb(177,22,88)"
             ],
             [
              0.5019607843137255,
              "rgb(203,26,79)"
             ],
             [
              0.5647058823529412,
              "rgb(223,47,67)"
             ],
             [
              0.6274509803921569,
              "rgb(236,76,61)"
             ],
             [
              0.6901960784313725,
              "rgb(242,107,73)"
             ],
             [
              0.7529411764705882,
              "rgb(244,135,95)"
             ],
             [
              0.8156862745098039,
              "rgb(245,162,122)"
             ],
             [
              0.8784313725490196,
              "rgb(246,188,153)"
             ],
             [
              0.9411764705882353,
              "rgb(247,212,187)"
             ],
             [
              1,
              "rgb(250,234,220)"
             ]
            ],
            "type": "heatmap"
           }
          ],
          "heatmapgl": [
           {
            "colorbar": {
             "outlinewidth": 0,
             "tickcolor": "rgb(36,36,36)",
             "ticklen": 8,
             "ticks": "outside",
             "tickwidth": 2
            },
            "colorscale": [
             [
              0,
              "rgb(2,4,25)"
             ],
             [
              0.06274509803921569,
              "rgb(24,15,41)"
             ],
             [
              0.12549019607843137,
              "rgb(47,23,57)"
             ],
             [
              0.18823529411764706,
              "rgb(71,28,72)"
             ],
             [
              0.25098039215686274,
              "rgb(97,30,82)"
             ],
             [
              0.3137254901960784,
              "rgb(123,30,89)"
             ],
             [
              0.3764705882352941,
              "rgb(150,27,91)"
             ],
             [
              0.4392156862745098,
              "rgb(177,22,88)"
             ],
             [
              0.5019607843137255,
              "rgb(203,26,79)"
             ],
             [
              0.5647058823529412,
              "rgb(223,47,67)"
             ],
             [
              0.6274509803921569,
              "rgb(236,76,61)"
             ],
             [
              0.6901960784313725,
              "rgb(242,107,73)"
             ],
             [
              0.7529411764705882,
              "rgb(244,135,95)"
             ],
             [
              0.8156862745098039,
              "rgb(245,162,122)"
             ],
             [
              0.8784313725490196,
              "rgb(246,188,153)"
             ],
             [
              0.9411764705882353,
              "rgb(247,212,187)"
             ],
             [
              1,
              "rgb(250,234,220)"
             ]
            ],
            "type": "heatmapgl"
           }
          ],
          "histogram": [
           {
            "marker": {
             "pattern": {
              "fillmode": "overlay",
              "size": 10,
              "solidity": 0.2
             }
            },
            "type": "histogram"
           }
          ],
          "histogram2d": [
           {
            "colorbar": {
             "outlinewidth": 0,
             "tickcolor": "rgb(36,36,36)",
             "ticklen": 8,
             "ticks": "outside",
             "tickwidth": 2
            },
            "colorscale": [
             [
              0,
              "rgb(2,4,25)"
             ],
             [
              0.06274509803921569,
              "rgb(24,15,41)"
             ],
             [
              0.12549019607843137,
              "rgb(47,23,57)"
             ],
             [
              0.18823529411764706,
              "rgb(71,28,72)"
             ],
             [
              0.25098039215686274,
              "rgb(97,30,82)"
             ],
             [
              0.3137254901960784,
              "rgb(123,30,89)"
             ],
             [
              0.3764705882352941,
              "rgb(150,27,91)"
             ],
             [
              0.4392156862745098,
              "rgb(177,22,88)"
             ],
             [
              0.5019607843137255,
              "rgb(203,26,79)"
             ],
             [
              0.5647058823529412,
              "rgb(223,47,67)"
             ],
             [
              0.6274509803921569,
              "rgb(236,76,61)"
             ],
             [
              0.6901960784313725,
              "rgb(242,107,73)"
             ],
             [
              0.7529411764705882,
              "rgb(244,135,95)"
             ],
             [
              0.8156862745098039,
              "rgb(245,162,122)"
             ],
             [
              0.8784313725490196,
              "rgb(246,188,153)"
             ],
             [
              0.9411764705882353,
              "rgb(247,212,187)"
             ],
             [
              1,
              "rgb(250,234,220)"
             ]
            ],
            "type": "histogram2d"
           }
          ],
          "histogram2dcontour": [
           {
            "colorbar": {
             "outlinewidth": 0,
             "tickcolor": "rgb(36,36,36)",
             "ticklen": 8,
             "ticks": "outside",
             "tickwidth": 2
            },
            "colorscale": [
             [
              0,
              "rgb(2,4,25)"
             ],
             [
              0.06274509803921569,
              "rgb(24,15,41)"
             ],
             [
              0.12549019607843137,
              "rgb(47,23,57)"
             ],
             [
              0.18823529411764706,
              "rgb(71,28,72)"
             ],
             [
              0.25098039215686274,
              "rgb(97,30,82)"
             ],
             [
              0.3137254901960784,
              "rgb(123,30,89)"
             ],
             [
              0.3764705882352941,
              "rgb(150,27,91)"
             ],
             [
              0.4392156862745098,
              "rgb(177,22,88)"
             ],
             [
              0.5019607843137255,
              "rgb(203,26,79)"
             ],
             [
              0.5647058823529412,
              "rgb(223,47,67)"
             ],
             [
              0.6274509803921569,
              "rgb(236,76,61)"
             ],
             [
              0.6901960784313725,
              "rgb(242,107,73)"
             ],
             [
              0.7529411764705882,
              "rgb(244,135,95)"
             ],
             [
              0.8156862745098039,
              "rgb(245,162,122)"
             ],
             [
              0.8784313725490196,
              "rgb(246,188,153)"
             ],
             [
              0.9411764705882353,
              "rgb(247,212,187)"
             ],
             [
              1,
              "rgb(250,234,220)"
             ]
            ],
            "type": "histogram2dcontour"
           }
          ],
          "mesh3d": [
           {
            "colorbar": {
             "outlinewidth": 0,
             "tickcolor": "rgb(36,36,36)",
             "ticklen": 8,
             "ticks": "outside",
             "tickwidth": 2
            },
            "type": "mesh3d"
           }
          ],
          "parcoords": [
           {
            "line": {
             "colorbar": {
              "outlinewidth": 0,
              "tickcolor": "rgb(36,36,36)",
              "ticklen": 8,
              "ticks": "outside",
              "tickwidth": 2
             }
            },
            "type": "parcoords"
           }
          ],
          "pie": [
           {
            "automargin": true,
            "type": "pie"
           }
          ],
          "scatter": [
           {
            "fillpattern": {
             "fillmode": "overlay",
             "size": 10,
             "solidity": 0.2
            },
            "type": "scatter"
           }
          ],
          "scatter3d": [
           {
            "line": {
             "colorbar": {
              "outlinewidth": 0,
              "tickcolor": "rgb(36,36,36)",
              "ticklen": 8,
              "ticks": "outside",
              "tickwidth": 2
             }
            },
            "marker": {
             "colorbar": {
              "outlinewidth": 0,
              "tickcolor": "rgb(36,36,36)",
              "ticklen": 8,
              "ticks": "outside",
              "tickwidth": 2
             }
            },
            "type": "scatter3d"
           }
          ],
          "scattercarpet": [
           {
            "marker": {
             "colorbar": {
              "outlinewidth": 0,
              "tickcolor": "rgb(36,36,36)",
              "ticklen": 8,
              "ticks": "outside",
              "tickwidth": 2
             }
            },
            "type": "scattercarpet"
           }
          ],
          "scattergeo": [
           {
            "marker": {
             "colorbar": {
              "outlinewidth": 0,
              "tickcolor": "rgb(36,36,36)",
              "ticklen": 8,
              "ticks": "outside",
              "tickwidth": 2
             }
            },
            "type": "scattergeo"
           }
          ],
          "scattergl": [
           {
            "marker": {
             "colorbar": {
              "outlinewidth": 0,
              "tickcolor": "rgb(36,36,36)",
              "ticklen": 8,
              "ticks": "outside",
              "tickwidth": 2
             }
            },
            "type": "scattergl"
           }
          ],
          "scattermapbox": [
           {
            "marker": {
             "colorbar": {
              "outlinewidth": 0,
              "tickcolor": "rgb(36,36,36)",
              "ticklen": 8,
              "ticks": "outside",
              "tickwidth": 2
             }
            },
            "type": "scattermapbox"
           }
          ],
          "scatterpolar": [
           {
            "marker": {
             "colorbar": {
              "outlinewidth": 0,
              "tickcolor": "rgb(36,36,36)",
              "ticklen": 8,
              "ticks": "outside",
              "tickwidth": 2
             }
            },
            "type": "scatterpolar"
           }
          ],
          "scatterpolargl": [
           {
            "marker": {
             "colorbar": {
              "outlinewidth": 0,
              "tickcolor": "rgb(36,36,36)",
              "ticklen": 8,
              "ticks": "outside",
              "tickwidth": 2
             }
            },
            "type": "scatterpolargl"
           }
          ],
          "scatterternary": [
           {
            "marker": {
             "colorbar": {
              "outlinewidth": 0,
              "tickcolor": "rgb(36,36,36)",
              "ticklen": 8,
              "ticks": "outside",
              "tickwidth": 2
             }
            },
            "type": "scatterternary"
           }
          ],
          "surface": [
           {
            "colorbar": {
             "outlinewidth": 0,
             "tickcolor": "rgb(36,36,36)",
             "ticklen": 8,
             "ticks": "outside",
             "tickwidth": 2
            },
            "colorscale": [
             [
              0,
              "rgb(2,4,25)"
             ],
             [
              0.06274509803921569,
              "rgb(24,15,41)"
             ],
             [
              0.12549019607843137,
              "rgb(47,23,57)"
             ],
             [
              0.18823529411764706,
              "rgb(71,28,72)"
             ],
             [
              0.25098039215686274,
              "rgb(97,30,82)"
             ],
             [
              0.3137254901960784,
              "rgb(123,30,89)"
             ],
             [
              0.3764705882352941,
              "rgb(150,27,91)"
             ],
             [
              0.4392156862745098,
              "rgb(177,22,88)"
             ],
             [
              0.5019607843137255,
              "rgb(203,26,79)"
             ],
             [
              0.5647058823529412,
              "rgb(223,47,67)"
             ],
             [
              0.6274509803921569,
              "rgb(236,76,61)"
             ],
             [
              0.6901960784313725,
              "rgb(242,107,73)"
             ],
             [
              0.7529411764705882,
              "rgb(244,135,95)"
             ],
             [
              0.8156862745098039,
              "rgb(245,162,122)"
             ],
             [
              0.8784313725490196,
              "rgb(246,188,153)"
             ],
             [
              0.9411764705882353,
              "rgb(247,212,187)"
             ],
             [
              1,
              "rgb(250,234,220)"
             ]
            ],
            "type": "surface"
           }
          ],
          "table": [
           {
            "cells": {
             "fill": {
              "color": "rgb(231,231,240)"
             },
             "line": {
              "color": "white"
             }
            },
            "header": {
             "fill": {
              "color": "rgb(183,183,191)"
             },
             "line": {
              "color": "white"
             }
            },
            "type": "table"
           }
          ]
         },
         "layout": {
          "annotationdefaults": {
           "arrowcolor": "rgb(67,103,167)"
          },
          "autotypenumbers": "strict",
          "coloraxis": {
           "colorbar": {
            "outlinewidth": 0,
            "tickcolor": "rgb(36,36,36)",
            "ticklen": 8,
            "ticks": "outside",
            "tickwidth": 2
           }
          },
          "colorscale": {
           "sequential": [
            [
             0,
             "rgb(2,4,25)"
            ],
            [
             0.06274509803921569,
             "rgb(24,15,41)"
            ],
            [
             0.12549019607843137,
             "rgb(47,23,57)"
            ],
            [
             0.18823529411764706,
             "rgb(71,28,72)"
            ],
            [
             0.25098039215686274,
             "rgb(97,30,82)"
            ],
            [
             0.3137254901960784,
             "rgb(123,30,89)"
            ],
            [
             0.3764705882352941,
             "rgb(150,27,91)"
            ],
            [
             0.4392156862745098,
             "rgb(177,22,88)"
            ],
            [
             0.5019607843137255,
             "rgb(203,26,79)"
            ],
            [
             0.5647058823529412,
             "rgb(223,47,67)"
            ],
            [
             0.6274509803921569,
             "rgb(236,76,61)"
            ],
            [
             0.6901960784313725,
             "rgb(242,107,73)"
            ],
            [
             0.7529411764705882,
             "rgb(244,135,95)"
            ],
            [
             0.8156862745098039,
             "rgb(245,162,122)"
            ],
            [
             0.8784313725490196,
             "rgb(246,188,153)"
            ],
            [
             0.9411764705882353,
             "rgb(247,212,187)"
            ],
            [
             1,
             "rgb(250,234,220)"
            ]
           ],
           "sequentialminus": [
            [
             0,
             "rgb(2,4,25)"
            ],
            [
             0.06274509803921569,
             "rgb(24,15,41)"
            ],
            [
             0.12549019607843137,
             "rgb(47,23,57)"
            ],
            [
             0.18823529411764706,
             "rgb(71,28,72)"
            ],
            [
             0.25098039215686274,
             "rgb(97,30,82)"
            ],
            [
             0.3137254901960784,
             "rgb(123,30,89)"
            ],
            [
             0.3764705882352941,
             "rgb(150,27,91)"
            ],
            [
             0.4392156862745098,
             "rgb(177,22,88)"
            ],
            [
             0.5019607843137255,
             "rgb(203,26,79)"
            ],
            [
             0.5647058823529412,
             "rgb(223,47,67)"
            ],
            [
             0.6274509803921569,
             "rgb(236,76,61)"
            ],
            [
             0.6901960784313725,
             "rgb(242,107,73)"
            ],
            [
             0.7529411764705882,
             "rgb(244,135,95)"
            ],
            [
             0.8156862745098039,
             "rgb(245,162,122)"
            ],
            [
             0.8784313725490196,
             "rgb(246,188,153)"
            ],
            [
             0.9411764705882353,
             "rgb(247,212,187)"
            ],
            [
             1,
             "rgb(250,234,220)"
            ]
           ]
          },
          "colorway": [
           "rgb(76,114,176)",
           "rgb(221,132,82)",
           "rgb(85,168,104)",
           "rgb(196,78,82)",
           "rgb(129,114,179)",
           "rgb(147,120,96)",
           "rgb(218,139,195)",
           "rgb(140,140,140)",
           "rgb(204,185,116)",
           "rgb(100,181,205)"
          ],
          "font": {
           "color": "rgb(36,36,36)"
          },
          "geo": {
           "bgcolor": "white",
           "lakecolor": "white",
           "landcolor": "rgb(234,234,242)",
           "showlakes": true,
           "showland": true,
           "subunitcolor": "white"
          },
          "hoverlabel": {
           "align": "left"
          },
          "hovermode": "closest",
          "paper_bgcolor": "white",
          "plot_bgcolor": "rgb(234,234,242)",
          "polar": {
           "angularaxis": {
            "gridcolor": "white",
            "linecolor": "white",
            "showgrid": true,
            "ticks": ""
           },
           "bgcolor": "rgb(234,234,242)",
           "radialaxis": {
            "gridcolor": "white",
            "linecolor": "white",
            "showgrid": true,
            "ticks": ""
           }
          },
          "scene": {
           "xaxis": {
            "backgroundcolor": "rgb(234,234,242)",
            "gridcolor": "white",
            "gridwidth": 2,
            "linecolor": "white",
            "showbackground": true,
            "showgrid": true,
            "ticks": "",
            "zerolinecolor": "white"
           },
           "yaxis": {
            "backgroundcolor": "rgb(234,234,242)",
            "gridcolor": "white",
            "gridwidth": 2,
            "linecolor": "white",
            "showbackground": true,
            "showgrid": true,
            "ticks": "",
            "zerolinecolor": "white"
           },
           "zaxis": {
            "backgroundcolor": "rgb(234,234,242)",
            "gridcolor": "white",
            "gridwidth": 2,
            "linecolor": "white",
            "showbackground": true,
            "showgrid": true,
            "ticks": "",
            "zerolinecolor": "white"
           }
          },
          "shapedefaults": {
           "fillcolor": "rgb(67,103,167)",
           "line": {
            "width": 0
           },
           "opacity": 0.5
          },
          "ternary": {
           "aaxis": {
            "gridcolor": "white",
            "linecolor": "white",
            "showgrid": true,
            "ticks": ""
           },
           "baxis": {
            "gridcolor": "white",
            "linecolor": "white",
            "showgrid": true,
            "ticks": ""
           },
           "bgcolor": "rgb(234,234,242)",
           "caxis": {
            "gridcolor": "white",
            "linecolor": "white",
            "showgrid": true,
            "ticks": ""
           }
          },
          "xaxis": {
           "automargin": true,
           "gridcolor": "white",
           "linecolor": "white",
           "showgrid": true,
           "ticks": "",
           "title": {
            "standoff": 15
           },
           "zerolinecolor": "white"
          },
          "yaxis": {
           "automargin": true,
           "gridcolor": "white",
           "linecolor": "white",
           "showgrid": true,
           "ticks": "",
           "title": {
            "standoff": 15
           },
           "zerolinecolor": "white"
          }
         }
        },
        "title": {
         "text": "35 palabras clave más frecuentes de 37 revistas de Educación  Matemática "
        },
        "xaxis": {
         "anchor": "y",
         "domain": [
          0,
          1
         ],
         "range": [
          0,
          15392.5
         ],
         "tickangle": 35,
         "title": {
          "text": "frecuencia"
         }
        },
        "yaxis": {
         "anchor": "x",
         "domain": [
          0,
          1
         ],
         "title": {
          "text": "palabras más frecuentes"
         }
        }
       }
      },
      "text/html": [
       "<div>                            <div id=\"d5528cad-369b-4378-bdf4-096780db4d71\" class=\"plotly-graph-div\" style=\"height:525px; width:100%;\"></div>            <script type=\"text/javascript\">                require([\"plotly\"], function(Plotly) {                    window.PLOTLYENV=window.PLOTLYENV || {};                                    if (document.getElementById(\"d5528cad-369b-4378-bdf4-096780db4d71\")) {                    Plotly.newPlot(                        \"d5528cad-369b-4378-bdf4-096780db4d71\",                        [{\"alignmentgroup\":\"True\",\"hovertemplate\":\"x=%{x}<br>y=%{y}<br>text=%{text}<extra></extra>\",\"legendgroup\":\"\",\"marker\":{\"color\":\"rgb(76,114,176)\",\"pattern\":{\"shape\":\"\"}},\"name\":\"\",\"offsetgroup\":\"\",\"orientation\":\"h\",\"showlegend\":false,\"text\":[\"12314 (53.3%)\",\"12020 (52.0%)\",\"10672 (46.2%)\",\"7949 (34.4%)\",\"7878 (34.1%)\",\"7735 (33.5%)\",\"7453 (32.3%)\",\"7236 (31.3%)\",\"7139 (30.9%)\",\"7017 (30.4%)\",\"6799 (29.4%)\",\"6329 (27.4%)\",\"6244 (27.0%)\",\"6242 (27.0%)\",\"6169 (26.7%)\",\"6138 (26.6%)\",\"5485 (23.8%)\",\"5189 (22.5%)\",\"4903 (21.2%)\",\"4639 (20.1%)\",\"4452 (19.3%)\",\"4352 (18.8%)\",\"4339 (18.8%)\",\"4250 (18.4%)\",\"4200 (18.2%)\",\"4193 (18.2%)\",\"4117 (17.8%)\",\"4058 (17.6%)\",\"3940 (17.1%)\",\"3925 (17.0%)\",\"3775 (16.3%)\",\"3709 (16.1%)\",\"3702 (16.0%)\",\"3621 (15.7%)\"],\"textposition\":\"outside\",\"x\":[12314,12020,10672,7949,7878,7735,7453,7236,7139,7017,6799,6329,6244,6242,6169,6138,5485,5189,4903,4639,4452,4352,4339,4250,4200,4193,4117,4058,3940,3925,3775,3709,3702,3621],\"xaxis\":\"x\",\"y\":[\"student\",\"mathematics\",\"study\",\"group\",\"education\",\"learning\",\"research\",\"teacher\",\"teaching\",\"mathematical\",\"result\",\"paper\",\"taylor\",\"school\",\"francis\",\"analysis\",\"used\",\"using\",\"problem\",\"data\",\"llc\",\"development\",\"also\",\"science\",\"one\",\"knowledge\",\"understanding\",\"approach\",\"classroom\",\"article\",\"different\",\"course\",\"process\",\"author\"],\"yaxis\":\"y\",\"type\":\"bar\",\"textfont\":{\"size\":14}}],                        {\"template\":{\"data\":{\"barpolar\":[{\"marker\":{\"line\":{\"color\":\"rgb(234,234,242)\",\"width\":0.5},\"pattern\":{\"fillmode\":\"overlay\",\"size\":10,\"solidity\":0.2}},\"type\":\"barpolar\"}],\"bar\":[{\"error_x\":{\"color\":\"rgb(36,36,36)\"},\"error_y\":{\"color\":\"rgb(36,36,36)\"},\"marker\":{\"line\":{\"color\":\"rgb(234,234,242)\",\"width\":0.5},\"pattern\":{\"fillmode\":\"overlay\",\"size\":10,\"solidity\":0.2}},\"type\":\"bar\"}],\"carpet\":[{\"aaxis\":{\"endlinecolor\":\"rgb(36,36,36)\",\"gridcolor\":\"white\",\"linecolor\":\"white\",\"minorgridcolor\":\"white\",\"startlinecolor\":\"rgb(36,36,36)\"},\"baxis\":{\"endlinecolor\":\"rgb(36,36,36)\",\"gridcolor\":\"white\",\"linecolor\":\"white\",\"minorgridcolor\":\"white\",\"startlinecolor\":\"rgb(36,36,36)\"},\"type\":\"carpet\"}],\"choropleth\":[{\"colorbar\":{\"outlinewidth\":0,\"tickcolor\":\"rgb(36,36,36)\",\"ticklen\":8,\"ticks\":\"outside\",\"tickwidth\":2},\"type\":\"choropleth\"}],\"contourcarpet\":[{\"colorbar\":{\"outlinewidth\":0,\"tickcolor\":\"rgb(36,36,36)\",\"ticklen\":8,\"ticks\":\"outside\",\"tickwidth\":2},\"type\":\"contourcarpet\"}],\"contour\":[{\"colorbar\":{\"outlinewidth\":0,\"tickcolor\":\"rgb(36,36,36)\",\"ticklen\":8,\"ticks\":\"outside\",\"tickwidth\":2},\"colorscale\":[[0.0,\"rgb(2,4,25)\"],[0.06274509803921569,\"rgb(24,15,41)\"],[0.12549019607843137,\"rgb(47,23,57)\"],[0.18823529411764706,\"rgb(71,28,72)\"],[0.25098039215686274,\"rgb(97,30,82)\"],[0.3137254901960784,\"rgb(123,30,89)\"],[0.3764705882352941,\"rgb(150,27,91)\"],[0.4392156862745098,\"rgb(177,22,88)\"],[0.5019607843137255,\"rgb(203,26,79)\"],[0.5647058823529412,\"rgb(223,47,67)\"],[0.6274509803921569,\"rgb(236,76,61)\"],[0.6901960784313725,\"rgb(242,107,73)\"],[0.7529411764705882,\"rgb(244,135,95)\"],[0.8156862745098039,\"rgb(245,162,122)\"],[0.8784313725490196,\"rgb(246,188,153)\"],[0.9411764705882353,\"rgb(247,212,187)\"],[1.0,\"rgb(250,234,220)\"]],\"type\":\"contour\"}],\"heatmapgl\":[{\"colorbar\":{\"outlinewidth\":0,\"tickcolor\":\"rgb(36,36,36)\",\"ticklen\":8,\"ticks\":\"outside\",\"tickwidth\":2},\"colorscale\":[[0.0,\"rgb(2,4,25)\"],[0.06274509803921569,\"rgb(24,15,41)\"],[0.12549019607843137,\"rgb(47,23,57)\"],[0.18823529411764706,\"rgb(71,28,72)\"],[0.25098039215686274,\"rgb(97,30,82)\"],[0.3137254901960784,\"rgb(123,30,89)\"],[0.3764705882352941,\"rgb(150,27,91)\"],[0.4392156862745098,\"rgb(177,22,88)\"],[0.5019607843137255,\"rgb(203,26,79)\"],[0.5647058823529412,\"rgb(223,47,67)\"],[0.6274509803921569,\"rgb(236,76,61)\"],[0.6901960784313725,\"rgb(242,107,73)\"],[0.7529411764705882,\"rgb(244,135,95)\"],[0.8156862745098039,\"rgb(245,162,122)\"],[0.8784313725490196,\"rgb(246,188,153)\"],[0.9411764705882353,\"rgb(247,212,187)\"],[1.0,\"rgb(250,234,220)\"]],\"type\":\"heatmapgl\"}],\"heatmap\":[{\"colorbar\":{\"outlinewidth\":0,\"tickcolor\":\"rgb(36,36,36)\",\"ticklen\":8,\"ticks\":\"outside\",\"tickwidth\":2},\"colorscale\":[[0.0,\"rgb(2,4,25)\"],[0.06274509803921569,\"rgb(24,15,41)\"],[0.12549019607843137,\"rgb(47,23,57)\"],[0.18823529411764706,\"rgb(71,28,72)\"],[0.25098039215686274,\"rgb(97,30,82)\"],[0.3137254901960784,\"rgb(123,30,89)\"],[0.3764705882352941,\"rgb(150,27,91)\"],[0.4392156862745098,\"rgb(177,22,88)\"],[0.5019607843137255,\"rgb(203,26,79)\"],[0.5647058823529412,\"rgb(223,47,67)\"],[0.6274509803921569,\"rgb(236,76,61)\"],[0.6901960784313725,\"rgb(242,107,73)\"],[0.7529411764705882,\"rgb(244,135,95)\"],[0.8156862745098039,\"rgb(245,162,122)\"],[0.8784313725490196,\"rgb(246,188,153)\"],[0.9411764705882353,\"rgb(247,212,187)\"],[1.0,\"rgb(250,234,220)\"]],\"type\":\"heatmap\"}],\"histogram2dcontour\":[{\"colorbar\":{\"outlinewidth\":0,\"tickcolor\":\"rgb(36,36,36)\",\"ticklen\":8,\"ticks\":\"outside\",\"tickwidth\":2},\"colorscale\":[[0.0,\"rgb(2,4,25)\"],[0.06274509803921569,\"rgb(24,15,41)\"],[0.12549019607843137,\"rgb(47,23,57)\"],[0.18823529411764706,\"rgb(71,28,72)\"],[0.25098039215686274,\"rgb(97,30,82)\"],[0.3137254901960784,\"rgb(123,30,89)\"],[0.3764705882352941,\"rgb(150,27,91)\"],[0.4392156862745098,\"rgb(177,22,88)\"],[0.5019607843137255,\"rgb(203,26,79)\"],[0.5647058823529412,\"rgb(223,47,67)\"],[0.6274509803921569,\"rgb(236,76,61)\"],[0.6901960784313725,\"rgb(242,107,73)\"],[0.7529411764705882,\"rgb(244,135,95)\"],[0.8156862745098039,\"rgb(245,162,122)\"],[0.8784313725490196,\"rgb(246,188,153)\"],[0.9411764705882353,\"rgb(247,212,187)\"],[1.0,\"rgb(250,234,220)\"]],\"type\":\"histogram2dcontour\"}],\"histogram2d\":[{\"colorbar\":{\"outlinewidth\":0,\"tickcolor\":\"rgb(36,36,36)\",\"ticklen\":8,\"ticks\":\"outside\",\"tickwidth\":2},\"colorscale\":[[0.0,\"rgb(2,4,25)\"],[0.06274509803921569,\"rgb(24,15,41)\"],[0.12549019607843137,\"rgb(47,23,57)\"],[0.18823529411764706,\"rgb(71,28,72)\"],[0.25098039215686274,\"rgb(97,30,82)\"],[0.3137254901960784,\"rgb(123,30,89)\"],[0.3764705882352941,\"rgb(150,27,91)\"],[0.4392156862745098,\"rgb(177,22,88)\"],[0.5019607843137255,\"rgb(203,26,79)\"],[0.5647058823529412,\"rgb(223,47,67)\"],[0.6274509803921569,\"rgb(236,76,61)\"],[0.6901960784313725,\"rgb(242,107,73)\"],[0.7529411764705882,\"rgb(244,135,95)\"],[0.8156862745098039,\"rgb(245,162,122)\"],[0.8784313725490196,\"rgb(246,188,153)\"],[0.9411764705882353,\"rgb(247,212,187)\"],[1.0,\"rgb(250,234,220)\"]],\"type\":\"histogram2d\"}],\"histogram\":[{\"marker\":{\"pattern\":{\"fillmode\":\"overlay\",\"size\":10,\"solidity\":0.2}},\"type\":\"histogram\"}],\"mesh3d\":[{\"colorbar\":{\"outlinewidth\":0,\"tickcolor\":\"rgb(36,36,36)\",\"ticklen\":8,\"ticks\":\"outside\",\"tickwidth\":2},\"type\":\"mesh3d\"}],\"parcoords\":[{\"line\":{\"colorbar\":{\"outlinewidth\":0,\"tickcolor\":\"rgb(36,36,36)\",\"ticklen\":8,\"ticks\":\"outside\",\"tickwidth\":2}},\"type\":\"parcoords\"}],\"pie\":[{\"automargin\":true,\"type\":\"pie\"}],\"scatter3d\":[{\"line\":{\"colorbar\":{\"outlinewidth\":0,\"tickcolor\":\"rgb(36,36,36)\",\"ticklen\":8,\"ticks\":\"outside\",\"tickwidth\":2}},\"marker\":{\"colorbar\":{\"outlinewidth\":0,\"tickcolor\":\"rgb(36,36,36)\",\"ticklen\":8,\"ticks\":\"outside\",\"tickwidth\":2}},\"type\":\"scatter3d\"}],\"scattercarpet\":[{\"marker\":{\"colorbar\":{\"outlinewidth\":0,\"tickcolor\":\"rgb(36,36,36)\",\"ticklen\":8,\"ticks\":\"outside\",\"tickwidth\":2}},\"type\":\"scattercarpet\"}],\"scattergeo\":[{\"marker\":{\"colorbar\":{\"outlinewidth\":0,\"tickcolor\":\"rgb(36,36,36)\",\"ticklen\":8,\"ticks\":\"outside\",\"tickwidth\":2}},\"type\":\"scattergeo\"}],\"scattergl\":[{\"marker\":{\"colorbar\":{\"outlinewidth\":0,\"tickcolor\":\"rgb(36,36,36)\",\"ticklen\":8,\"ticks\":\"outside\",\"tickwidth\":2}},\"type\":\"scattergl\"}],\"scattermapbox\":[{\"marker\":{\"colorbar\":{\"outlinewidth\":0,\"tickcolor\":\"rgb(36,36,36)\",\"ticklen\":8,\"ticks\":\"outside\",\"tickwidth\":2}},\"type\":\"scattermapbox\"}],\"scatterpolargl\":[{\"marker\":{\"colorbar\":{\"outlinewidth\":0,\"tickcolor\":\"rgb(36,36,36)\",\"ticklen\":8,\"ticks\":\"outside\",\"tickwidth\":2}},\"type\":\"scatterpolargl\"}],\"scatterpolar\":[{\"marker\":{\"colorbar\":{\"outlinewidth\":0,\"tickcolor\":\"rgb(36,36,36)\",\"ticklen\":8,\"ticks\":\"outside\",\"tickwidth\":2}},\"type\":\"scatterpolar\"}],\"scatter\":[{\"fillpattern\":{\"fillmode\":\"overlay\",\"size\":10,\"solidity\":0.2},\"type\":\"scatter\"}],\"scatterternary\":[{\"marker\":{\"colorbar\":{\"outlinewidth\":0,\"tickcolor\":\"rgb(36,36,36)\",\"ticklen\":8,\"ticks\":\"outside\",\"tickwidth\":2}},\"type\":\"scatterternary\"}],\"surface\":[{\"colorbar\":{\"outlinewidth\":0,\"tickcolor\":\"rgb(36,36,36)\",\"ticklen\":8,\"ticks\":\"outside\",\"tickwidth\":2},\"colorscale\":[[0.0,\"rgb(2,4,25)\"],[0.06274509803921569,\"rgb(24,15,41)\"],[0.12549019607843137,\"rgb(47,23,57)\"],[0.18823529411764706,\"rgb(71,28,72)\"],[0.25098039215686274,\"rgb(97,30,82)\"],[0.3137254901960784,\"rgb(123,30,89)\"],[0.3764705882352941,\"rgb(150,27,91)\"],[0.4392156862745098,\"rgb(177,22,88)\"],[0.5019607843137255,\"rgb(203,26,79)\"],[0.5647058823529412,\"rgb(223,47,67)\"],[0.6274509803921569,\"rgb(236,76,61)\"],[0.6901960784313725,\"rgb(242,107,73)\"],[0.7529411764705882,\"rgb(244,135,95)\"],[0.8156862745098039,\"rgb(245,162,122)\"],[0.8784313725490196,\"rgb(246,188,153)\"],[0.9411764705882353,\"rgb(247,212,187)\"],[1.0,\"rgb(250,234,220)\"]],\"type\":\"surface\"}],\"table\":[{\"cells\":{\"fill\":{\"color\":\"rgb(231,231,240)\"},\"line\":{\"color\":\"white\"}},\"header\":{\"fill\":{\"color\":\"rgb(183,183,191)\"},\"line\":{\"color\":\"white\"}},\"type\":\"table\"}]},\"layout\":{\"annotationdefaults\":{\"arrowcolor\":\"rgb(67,103,167)\"},\"autotypenumbers\":\"strict\",\"coloraxis\":{\"colorbar\":{\"outlinewidth\":0,\"tickcolor\":\"rgb(36,36,36)\",\"ticklen\":8,\"ticks\":\"outside\",\"tickwidth\":2}},\"colorscale\":{\"sequential\":[[0.0,\"rgb(2,4,25)\"],[0.06274509803921569,\"rgb(24,15,41)\"],[0.12549019607843137,\"rgb(47,23,57)\"],[0.18823529411764706,\"rgb(71,28,72)\"],[0.25098039215686274,\"rgb(97,30,82)\"],[0.3137254901960784,\"rgb(123,30,89)\"],[0.3764705882352941,\"rgb(150,27,91)\"],[0.4392156862745098,\"rgb(177,22,88)\"],[0.5019607843137255,\"rgb(203,26,79)\"],[0.5647058823529412,\"rgb(223,47,67)\"],[0.6274509803921569,\"rgb(236,76,61)\"],[0.6901960784313725,\"rgb(242,107,73)\"],[0.7529411764705882,\"rgb(244,135,95)\"],[0.8156862745098039,\"rgb(245,162,122)\"],[0.8784313725490196,\"rgb(246,188,153)\"],[0.9411764705882353,\"rgb(247,212,187)\"],[1.0,\"rgb(250,234,220)\"]],\"sequentialminus\":[[0.0,\"rgb(2,4,25)\"],[0.06274509803921569,\"rgb(24,15,41)\"],[0.12549019607843137,\"rgb(47,23,57)\"],[0.18823529411764706,\"rgb(71,28,72)\"],[0.25098039215686274,\"rgb(97,30,82)\"],[0.3137254901960784,\"rgb(123,30,89)\"],[0.3764705882352941,\"rgb(150,27,91)\"],[0.4392156862745098,\"rgb(177,22,88)\"],[0.5019607843137255,\"rgb(203,26,79)\"],[0.5647058823529412,\"rgb(223,47,67)\"],[0.6274509803921569,\"rgb(236,76,61)\"],[0.6901960784313725,\"rgb(242,107,73)\"],[0.7529411764705882,\"rgb(244,135,95)\"],[0.8156862745098039,\"rgb(245,162,122)\"],[0.8784313725490196,\"rgb(246,188,153)\"],[0.9411764705882353,\"rgb(247,212,187)\"],[1.0,\"rgb(250,234,220)\"]]},\"colorway\":[\"rgb(76,114,176)\",\"rgb(221,132,82)\",\"rgb(85,168,104)\",\"rgb(196,78,82)\",\"rgb(129,114,179)\",\"rgb(147,120,96)\",\"rgb(218,139,195)\",\"rgb(140,140,140)\",\"rgb(204,185,116)\",\"rgb(100,181,205)\"],\"font\":{\"color\":\"rgb(36,36,36)\"},\"geo\":{\"bgcolor\":\"white\",\"lakecolor\":\"white\",\"landcolor\":\"rgb(234,234,242)\",\"showlakes\":true,\"showland\":true,\"subunitcolor\":\"white\"},\"hoverlabel\":{\"align\":\"left\"},\"hovermode\":\"closest\",\"paper_bgcolor\":\"white\",\"plot_bgcolor\":\"rgb(234,234,242)\",\"polar\":{\"angularaxis\":{\"gridcolor\":\"white\",\"linecolor\":\"white\",\"showgrid\":true,\"ticks\":\"\"},\"bgcolor\":\"rgb(234,234,242)\",\"radialaxis\":{\"gridcolor\":\"white\",\"linecolor\":\"white\",\"showgrid\":true,\"ticks\":\"\"}},\"scene\":{\"xaxis\":{\"backgroundcolor\":\"rgb(234,234,242)\",\"gridcolor\":\"white\",\"gridwidth\":2,\"linecolor\":\"white\",\"showbackground\":true,\"showgrid\":true,\"ticks\":\"\",\"zerolinecolor\":\"white\"},\"yaxis\":{\"backgroundcolor\":\"rgb(234,234,242)\",\"gridcolor\":\"white\",\"gridwidth\":2,\"linecolor\":\"white\",\"showbackground\":true,\"showgrid\":true,\"ticks\":\"\",\"zerolinecolor\":\"white\"},\"zaxis\":{\"backgroundcolor\":\"rgb(234,234,242)\",\"gridcolor\":\"white\",\"gridwidth\":2,\"linecolor\":\"white\",\"showbackground\":true,\"showgrid\":true,\"ticks\":\"\",\"zerolinecolor\":\"white\"}},\"shapedefaults\":{\"fillcolor\":\"rgb(67,103,167)\",\"line\":{\"width\":0},\"opacity\":0.5},\"ternary\":{\"aaxis\":{\"gridcolor\":\"white\",\"linecolor\":\"white\",\"showgrid\":true,\"ticks\":\"\"},\"baxis\":{\"gridcolor\":\"white\",\"linecolor\":\"white\",\"showgrid\":true,\"ticks\":\"\"},\"bgcolor\":\"rgb(234,234,242)\",\"caxis\":{\"gridcolor\":\"white\",\"linecolor\":\"white\",\"showgrid\":true,\"ticks\":\"\"}},\"xaxis\":{\"automargin\":true,\"gridcolor\":\"white\",\"linecolor\":\"white\",\"showgrid\":true,\"ticks\":\"\",\"title\":{\"standoff\":15},\"zerolinecolor\":\"white\"},\"yaxis\":{\"automargin\":true,\"gridcolor\":\"white\",\"linecolor\":\"white\",\"showgrid\":true,\"ticks\":\"\",\"title\":{\"standoff\":15},\"zerolinecolor\":\"white\"}}},\"xaxis\":{\"anchor\":\"y\",\"domain\":[0.0,1.0],\"title\":{\"text\":\"frecuencia\"},\"range\":[0,15392.5],\"tickangle\":35},\"yaxis\":{\"anchor\":\"x\",\"domain\":[0.0,1.0],\"title\":{\"text\":\"palabras m\\u00e1s frecuentes\"}},\"legend\":{\"tracegroupgap\":0},\"margin\":{\"t\":60},\"barmode\":\"relative\",\"title\":{\"text\":\"35 palabras clave m\\u00e1s frecuentes de 37 revistas de Educaci\\u00f3n  Matem\\u00e1tica \"},\"font\":{\"size\":9}},                        {\"responsive\": true}                    ).then(function(){\n",
       "                            \n",
       "var gd = document.getElementById('d5528cad-369b-4378-bdf4-096780db4d71');\n",
       "var x = new MutationObserver(function (mutations, observer) {{\n",
       "        var display = window.getComputedStyle(gd).display;\n",
       "        if (!display || display === 'none') {{\n",
       "            console.log([gd, 'removed!']);\n",
       "            Plotly.purge(gd);\n",
       "            observer.disconnect();\n",
       "        }}\n",
       "}});\n",
       "\n",
       "// Listen for the removal of the full notebook cells\n",
       "var notebookContainer = gd.closest('#notebook-container');\n",
       "if (notebookContainer) {{\n",
       "    x.observe(notebookContainer, {childList: true});\n",
       "}}\n",
       "\n",
       "// Listen for the clearing of the current output cell\n",
       "var outputEl = gd.closest('.output');\n",
       "if (outputEl) {{\n",
       "    x.observe(outputEl, {childList: true});\n",
       "}}\n",
       "\n",
       "                        })                };                });            </script>        </div>"
      ]
     },
     "metadata": {},
     "output_type": "display_data"
    },
    {
     "name": "stdout",
     "output_type": "stream",
     "text": [
      "En la figura \\ref{fig:V4_algoritmo_2_title_abs_key_n_35_met_lemmatize_2023_4_27_23_54} se observan las  35 palabras con mayor frecuencia en  TÍTULOS, PALABRAS CLAVE y RESÚMENES  de  23094  artículos.  Las 3 palabras que más aparecen son  \\textit{ student }, \\textit{ mathematics },  y  \\textit{ study }, las cuales, se repiten  12314 ,  12020 y  12314   veces respectivamente.\n",
      "Principales palabras de: TÍTULOS, PALABRAS CLAVE y RESÚMENES en 23094 artículos. Fuente: Scopus.\n",
      "V4_algoritmo_2_title_abs_key_n_35_met_lemmatize_2023_4_27_23_54\n"
     ]
    }
   ],
   "source": [
    "# Obtener el nombre de la columna correspondiente al campo a analizar\n",
    "campo_a_contar_palabras = dic_campo_a_contar_palabras.get(dic_campo_a_analizar.get(campo_a_analizar))\n",
    "\n",
    "# Obtener todas las palabras en la columna seleccionada y ordenarlas\n",
    "campo_con_palabras = sorted(dfA[campo_a_contar_palabras].explode().dropna())\n",
    "\n",
    "# Contar la frecuencia de cada palabra única en el campo seleccionado\n",
    "cuenta_campo_a_analizar = dict(Counter(campo_con_palabras))\n",
    "\n",
    "# Ordenar las palabras por frecuencia de mayor a menor\n",
    "cuenta_campo_a_analizar_ordenado = sorted(cuenta_campo_a_analizar.items(), key=lambda x: x[1], reverse=True)\n",
    "\n",
    "# Crear una lista de palabras a eliminar\n",
    "palabras_a_eliminar = ['', ' ','nan']\n",
    "\n",
    "# Filtrar las palabras en cuenta_campo_a_analizar_ordenado para excluir palabras en palabras_a_eliminar\n",
    "cuenta_campo_a_analizar_ordenado_filtrado = [(palabra, frecuencia) for palabra, frecuencia in cuenta_campo_a_analizar_ordenado if palabra not in palabras_a_eliminar]\n",
    "\n",
    "# Seleccionar las n palabras más frecuentes después de eliminar las palabras no deseadas\n",
    "cuenta_campo_a_analizar_ordenado_elegidos = cuenta_campo_a_analizar_ordenado_filtrado[:n]\n",
    "\n",
    "# Calcular porcentajes\n",
    "porcentajes = [round((frecuencia / len(dfA)) * 100, 1) for palabra, frecuencia in cuenta_campo_a_analizar_ordenado_elegidos]\n",
    "\n",
    "# Crear texto para cada barra que incluye la frecuencia y el porcentaje\n",
    "bar_texts = [f\"{frecuencia} ({porcentaje}%)\" for frecuencia, porcentaje in zip([cuenta_campo_a_analizar_ordenado_elegidos[j][1] for j in range(0, n - 1)], porcentajes)]\n",
    "\n",
    "#Crear títulos \n",
    "title = str(n) + ' palabras clave más frecuentes de ' + nombre_largo\n",
    "\n",
    "\n",
    "# Crear un gráfico de barras con las palabras más frecuentes después de la eliminación\n",
    "fig = px.bar(template=template_elegido, orientation='h', y=[cuenta_campo_a_analizar_ordenado_elegidos[j][0] for j in range(0, n - 1)], x=[cuenta_campo_a_analizar_ordenado_elegidos[j][1] for j in range(0, n - 1)], text=bar_texts)\n",
    "\n",
    "# Actualizar el tamaño de la fuente del texto de las barras\n",
    "fig.update_traces(textposition='outside', textfont=dict(size=14))  # Ajustar el tamaño y la posición del texto\n",
    "\n",
    "# Configurar el diseño del gráfico\n",
    "fig.update_layout(\n",
    "    title=title,\n",
    "    yaxis_title=\"palabras más frecuentes\",\n",
    "    xaxis_title=\"frecuencia\",\n",
    "    xaxis=dict(range=[0, max([cuenta_campo_a_analizar_ordenado_elegidos[j][1] for j in range(0, n - 1)]) * 1.25]))  # Aumentar el rango del eje x en un 15%)\n",
    "fig.update_xaxes(tickangle=35)\n",
    "fig.update_layout(font_size=9)  # Tamaño de la fuente para leyendas y otros elementos\n",
    "\n",
    "# Mostrar el gráfico\n",
    "fig.show()\n",
    "nombre_archivo =abrev +'_'+dic_campo_a_analizar.get(campo_a_analizar)+ \"_n_\" +str(n)+'_met_'+met+'_'+str(now.year)+'_'+str(now.month)+'_'+str(now.day)+'_'+str(now.hour)+'_'+str(now.minute)\n",
    "fig.write_html(abrev + '/' + nombre_archivo+\".html\")\n",
    "fig.write_image(abrev + '/' + nombre_archivo+\".pdf\",width=700, height=800)\n",
    "\n",
    "# Agregar una sección al archivo LaTeX\n",
    "entorno_section_tex(ruta_archivo, nombre_archivo_tex, 'Principales palabras de: '+nombre_de_campo_analizado)\n",
    "\n",
    "# Crear el párrafo para el informe\n",
    "lista_párrafo4 = ['En la figura \\\\ref{fig:' + nombre_archivo + '}',\n",
    "                  'se observan las ', str(n), 'palabras con mayor frecuencia en ', \n",
    "                  nombre_de_campo_analizado,' de ',str(len(dfA)),' artículos.',\n",
    "                  ' Las 3 palabras que más aparecen son ', \n",
    "                  '\\\\textit{', cuenta_campo_a_analizar_ordenado_elegidos[0][0], '},',\n",
    "                  '\\\\textit{', cuenta_campo_a_analizar_ordenado_elegidos[1][0], '},',' y ',\n",
    "                  '\\\\textit{', cuenta_campo_a_analizar_ordenado_elegidos[2][0], '},',\n",
    "                  'las cuales, se repiten ', str(cuenta_campo_a_analizar_ordenado_elegidos[0][1]),', ', \n",
    "                  str(cuenta_campo_a_analizar_ordenado_elegidos[1][1]),'y ', \n",
    "                  str(cuenta_campo_a_analizar_ordenado_elegidos[0][1]),' ', \n",
    "                  'veces respectivamente.']\n",
    "\n",
    "párrafo4 = ' '.join(lista_párrafo4)\n",
    "\n",
    "print(párrafo4)\n",
    "\n",
    "# Añadir el párrafo al archivo LaTeX\n",
    "parrafo_tex(ruta_archivo, nombre_archivo_tex, párrafo4)\n",
    "\n",
    "# Crear la leyenda para el gráfico\n",
    "leyenda = 'Principales palabras de: '+nombre_de_campo_analizado+ ' en '+str(len(dfA))+' artículos. Fuente: ' + fuente_articulos + '.'\n",
    "\n",
    "# Añadir el entorno de figura al archivo LaTeX\n",
    "entorno_figura_tex(ruta_archivo, nombre_archivo_tex, nombre_archivo, leyenda)\n",
    "print(leyenda)\n",
    "\n",
    "\n",
    "\n",
    "# Mostrar las palabras más frecuentes en una lista\n",
    "[[cuenta_campo_a_analizar_ordenado_elegidos[j][0] for j in range(0, n - 1)]]\n",
    "print(nombre_archivo)"
   ]
  },
  {
   "cell_type": "markdown",
   "id": "774fcf9b",
   "metadata": {},
   "source": [
    "# 16 Definición de parejas"
   ]
  },
  {
   "cell_type": "code",
   "execution_count": 17,
   "id": "8a2d88a2",
   "metadata": {},
   "outputs": [],
   "source": [
    "# Función para crear parejas de palabras únicas en una lista, evitando duplicados y parejas de una palabra consigo misma\n",
    "def parejas(lista):\n",
    "    # Crear una lista de tuplas (parejas) con palabras únicas en pares ordenados alfabéticamente y sin repeticiones\n",
    "    salida1 = [(lista[x], lista[y]) for x in range(len(lista)) for y in range(len(lista)) if y > x]\n",
    "    return salida1\n",
    "\n",
    "\n",
    "# Diccionario para asignar un nombre a cada campo a analizar (no se usa en este fragmento de código)\n",
    "# dic_campo_a_analizar = {1: 'key_words', 2: 'title', 3: 'abstract', 4: 'title_key', 5: 'title_abs', 6: 'key_abs', 7: 'title_abs_key'}\n",
    "\n",
    "# Crear una columna en el DataFrame dfA con parejas de palabras según el valor de campo_a_analizar\n",
    "if campo_a_analizar == 1:\n",
    "    # Crear parejas de palabras clave\n",
    "    dfA['parejas_key_words'] = dfA['key_words_metodo'].apply(lambda x: sorted(list(set(x)))).transform(parejas)\n",
    "elif campo_a_analizar == 2:\n",
    "    # Crear parejas de palabras en el título\n",
    "    dfA['parejas_title'] = dfA['title_metodo'].apply(lambda x: sorted(list(set(x)))).transform(parejas)\n",
    "elif campo_a_analizar == 3:\n",
    "    # Crear parejas de palabras en el resumen\n",
    "    dfA['parejas_abstract'] = dfA['abstract_metodo'].apply(lambda x: sorted(list(set(x)))).transform(parejas)\n",
    "elif campo_a_analizar == 4:\n",
    "    # Crear parejas de palabras en el título y palabras clave\n",
    "    dfA['parejas_title_key'] = dfA['title_key_metodo'].apply(lambda x: sorted(list(set(x)))).transform(parejas)\n",
    "elif campo_a_analizar == 5:\n",
    "    # Crear parejas de palabras en el título y resumen\n",
    "    dfA['parejas_title_abs'] = dfA['title_abs_metodo'].apply(lambda x: sorted(list(set(x)))).transform(parejas)\n",
    "elif campo_a_analizar == 6:\n",
    "    # Crear parejas de palabras en palabras clave y resumen\n",
    "    dfA['parejas_key_abs'] = dfA['key_abs_metodo'].apply(lambda x: sorted(list(set(x)))).transform(parejas)\n",
    "else:\n",
    "    # Crear parejas de palabras en el título, resumen y palabras clave\n",
    "    dfA['parejas_title_abs_key'] = dfA['title_abs_key_metodo'].apply(lambda x: sorted(list(set(x)))).transform(parejas)\n",
    "\n",
    "\n",
    "# Las columnas que deseas incluir en dfB\n",
    "columnas = ['Authors', 'Author(s) ID', 'Title', 'Year',\n",
    "            'Source title', 'Volume', 'Issue', 'Cited by', 'DOI', 'Link', 'Affiliations',\n",
    "            'Abstract', 'Author Keywords',\n",
    "            'Index Keywords', 'Document Type', 'Source', 'EID', 'key_words_non_spot', 'title_non_spot',\n",
    "            'abstract_non_spot', 'key_words_metodo', 'title_metodo',\n",
    "            'abstract_metodo', 'title_key_metodo', 'title_abs_metodo',\n",
    "            'key_abs_metodo', 'title_abs_key_metodo', 'parejas_title_key']\n",
    "\n",
    "# Crear dfB con solo las columnas que existen en dfA y están en la lista de columnas\n",
    "dfB = dfA[[col for col in columnas if col in dfA.columns]]\n",
    "\n",
    "# Exportar dfB a un archivo de Excel\n",
    "dfB.to_excel(abrev + '/' +\"02_df_\"+abrev+\"_con_parejas.xlsx\", index=False)\n"
   ]
  },
  {
   "cell_type": "markdown",
   "id": "69049d9c",
   "metadata": {},
   "source": [
    "# 17 Definición de grafo completo"
   ]
  },
  {
   "cell_type": "code",
   "execution_count": 18,
   "id": "a0925dcd",
   "metadata": {},
   "outputs": [
    {
     "name": "stdout",
     "output_type": "stream",
     "text": [
      "96.48766303062439 seg. Equivalentes a 1.6081277171770731 min\n",
      "Información del grafo:\n",
      "Grafo de la base de datos:  37 revistas de Educación  Matemática \n",
      "Cantidad de artículos:  23094\n",
      "Cantidad de nodos grafo completo G:  51673\n",
      "Cantidad de aristas grafo completo G:  12527160\n",
      "TÍTULO - PALABRAS CLAVE - RESÚMENES\n"
     ]
    }
   ],
   "source": [
    "import time\n",
    "import networkx as nx\n",
    "from collections import Counter\n",
    "\n",
    "# Registrar el tiempo de inicio\n",
    "inicio = time.time()\n",
    "\n",
    "# Crear un grafo vacío\n",
    "G = nx.Graph()\n",
    "\n",
    "# Extraer lista de nodos y aristas de los campos correspondientes en el DataFrame dfA\n",
    "lista_nodos = [x for row in dfA[campo_para_nodos_grafo] for x in row]\n",
    "lista_aristas = [x for row in dfA[campo_para_aristas_grafo] for x in row]\n",
    "\n",
    "# Contar la frecuencia de cada nodo y arista\n",
    "cuenta_pesos_nodos = Counter(lista_nodos)\n",
    "cuenta_pesos_aristas = Counter(lista_aristas)\n",
    "\n",
    "# Calcular los pesos de los nodos y aristas ponderados por la cantidad total de documentos en dfA\n",
    "cuenta_pesos_nodos_ponderado = {clave: round(valor * 100 / len(dfA), 1) for clave, valor in cuenta_pesos_nodos.items()}\n",
    "cuenta_pesos_aristas_ponderado = {clave: round(valor * 100 / len(dfA), 1) for clave, valor in cuenta_pesos_aristas.items()}\n",
    "\n",
    "# Registrar el tiempo de finalización y calcular la duración\n",
    "fin = time.time()\n",
    "print(f\"{fin-inicio} seg. Equivalentes a {(fin-inicio)/60} min\")\n",
    "\n",
    "\n",
    "from pyvis.network import Network\n",
    "\n",
    "# Crear nodos en el grafo G con sus atributos correspondientes\n",
    "for clave, valor in cuenta_pesos_nodos.items():\n",
    "    ponderado = cuenta_pesos_nodos_ponderado[clave]\n",
    "    G.add_node(clave, label=clave + ' (' + str(valor) + ')', value=valor, ponderado=ponderado)\n",
    "\n",
    "# Crear aristas en el grafo G con sus atributos correspondientes\n",
    "for clave, valor in cuenta_pesos_aristas.items():\n",
    "    ponderado = cuenta_pesos_aristas_ponderado[clave]\n",
    "    G.add_edge(clave[0], clave[1], value=valor, label=str(valor), ponderado=ponderado)\n",
    "\n",
    "# Imprimir información relevante del grafo\n",
    "print('Información del grafo:')\n",
    "print('Grafo de la base de datos: ', nombre_largo)\n",
    "print('Cantidad de artículos: ', len(dfA))\n",
    "print('Cantidad de nodos grafo completo G: ', len(G.nodes))\n",
    "print('Cantidad de aristas grafo completo G: ', len(G.edges))\n",
    "print(dic_nombres_campo.get(dic_campo_a_analizar.get(campo_a_analizar)))\n",
    "\n",
    "# Registrar el tiempo de finalización y calcular la duración\n"
   ]
  },
  {
   "cell_type": "code",
   "execution_count": 19,
   "id": "c79cca77",
   "metadata": {},
   "outputs": [],
   "source": [
    "nombre_archivo = abrev + '_ERC_G_completo_'+ campo_para_nodos_grafo+ '_met_'+met\n",
    "nx.write_gml(G, abrev + '/' + nombre_archivo+\".gml\")\n",
    "nx.write_graphml(G, abrev + '/' + nombre_archivo+\".graphml\")\n"
   ]
  },
  {
   "cell_type": "markdown",
   "id": "6cc66bbe",
   "metadata": {},
   "source": [
    "# 18 Información a Latex sobre el Espacio rizomático conceptual (ERC)"
   ]
  },
  {
   "cell_type": "raw",
   "id": "e72d72f2",
   "metadata": {},
   "source": [
    "# Agregar una nueva página al archivo LaTeX\n",
    "entorno_nueva_pagina_tex(ruta_archivo, nombre_archivo_tex)\n",
    "\n",
    "# Agregar una sección al archivo LaTeX con el título especificado\n",
    "entorno_section_tex(ruta_archivo, nombre_archivo_tex, 'Espacio rizomático conceptual (\\\\textit{ERC}) a partir de las palabras en: ' + dic_nombres_campo.get(dic_campo_a_analizar.get(campo_a_analizar)))\n",
    "\n",
    "# Agregar una subsección al archivo LaTeX con el título especificado\n",
    "entorno_sub_section_tex(ruta_archivo, nombre_archivo_tex, 'Información general del ERC')\n",
    "\n",
    "# Agregar un párrafo al archivo LaTeX\n",
    "parrafo_tex(ruta_archivo, nombre_archivo_tex, 'La información general del ERC es la siguiente:')\n",
    "\n",
    "# Crear una lista con la información general del ERC\n",
    "lista_información_general = [\n",
    "    'Grafo de la base de datos denominada: ' + nombre_largo,\n",
    "    'El método utilizado fue: ' + met,\n",
    "    'Cantidad de artículos: ' + str(len(dfA)),\n",
    "    'Cantidad de nodos grafo completo G: ' + str(len(G.nodes)),\n",
    "    'Cantidad de aristas grafo completo G: ' + str(len(G.edges)),\n",
    "    'Tiempo requerido para generar el grafo: ' + str(round(fin - inicio, 1)) + ' seg. Equivalentes a ' + str(round((fin - inicio) / 60, 1)) + ' min.'\n",
    "]\n",
    "\n",
    "# Agregar la lista de información general del ERC al archivo LaTeX usando el entorno \"itemize\"\n",
    "entorno_itemize_tex(ruta_archivo, nombre_archivo_tex, lista_información_general)\n",
    "\n",
    "# Imprimir la lista de información general del ERC\n",
    "print(lista_información_general)\n",
    "\n",
    "# Imprimir el título de la sección del ERC\n",
    "print('Espacio rizomático conceptual (ERC) a partir de las palabras en: ' + dic_nombres_campo.get(dic_campo_a_analizar.get(campo_a_analizar)))\n"
   ]
  },
  {
   "cell_type": "markdown",
   "id": "344946ca",
   "metadata": {},
   "source": [
    "# 19 Calcular cantidad de nodos"
   ]
  },
  {
   "cell_type": "code",
   "execution_count": 20,
   "id": "6d830a1f",
   "metadata": {},
   "outputs": [
    {
     "ename": "IndexError",
     "evalue": "list index out of range",
     "output_type": "error",
     "traceback": [
      "\u001b[0;31m---------------------------------------------------------------------------\u001b[0m",
      "\u001b[0;31mIndexError\u001b[0m                                Traceback (most recent call last)",
      "\u001b[0;32m/var/folders/24/9zz6j5_16mlbhz087grslwlc0000gn/T/ipykernel_19013/3702844983.py\u001b[0m in \u001b[0;36m<module>\u001b[0;34m\u001b[0m\n\u001b[1;32m     19\u001b[0m \u001b[0;34m\u001b[0m\u001b[0m\n\u001b[1;32m     20\u001b[0m \u001b[0;31m# Establecer el tamaño del nodo en función del primer par ordenado en la lista\u001b[0m\u001b[0;34m\u001b[0m\u001b[0;34m\u001b[0m\u001b[0m\n\u001b[0;32m---> 21\u001b[0;31m \u001b[0mtamaño_nodo\u001b[0m \u001b[0;34m=\u001b[0m \u001b[0mpares_ordenados_nodos\u001b[0m\u001b[0;34m[\u001b[0m\u001b[0;36m0\u001b[0m\u001b[0;34m]\u001b[0m\u001b[0;34m[\u001b[0m\u001b[0;36m0\u001b[0m\u001b[0;34m]\u001b[0m\u001b[0;34m\u001b[0m\u001b[0;34m\u001b[0m\u001b[0m\n\u001b[0m\u001b[1;32m     22\u001b[0m \u001b[0;34m\u001b[0m\u001b[0m\n\u001b[1;32m     23\u001b[0m \u001b[0;31m# Imprimir el tamaño del nodo, la cantidad de nodos y los pares ordenados de nodos\u001b[0m\u001b[0;34m\u001b[0m\u001b[0;34m\u001b[0m\u001b[0m\n",
      "\u001b[0;31mIndexError\u001b[0m: list index out of range"
     ]
    }
   ],
   "source": [
    "# Establecer la cantidad de aristas y nodos adecuados para el grafo\n",
    "cantidad_aristas_adecuadas = 120\n",
    "cantidad_nodos_adecuados = 120\n",
    "\n",
    "# Inicializar listas para almacenar la información de los nodos\n",
    "nodos = []\n",
    "cantidad_nodos = []\n",
    "\n",
    "# Iterar a través de un rango de valores (1 a 399)\n",
    "for i in range(1, 400):\n",
    "    # Agregar el valor actual de 'i' a la lista de nodos\n",
    "    nodos.append(i)\n",
    "    \n",
    "    # Agregar la cantidad de nodos con un valor mayor que 'i' al grafo G a la lista cantidad_nodos\n",
    "    cantidad_nodos.append(len([n for n, v in G.nodes(data=True) if v['value'] > i]))\n",
    "\n",
    "# Crear una lista de pares ordenados con los nodos y sus respectivas cantidades de nodos adecuados\n",
    "pares_ordenados_nodos = [[nodos[i], cantidad_nodos[i]] for i in range(len(nodos)) if cantidad_nodos[i] <= cantidad_nodos_adecuados]\n",
    "\n",
    "# Establecer el tamaño del nodo en función del primer par ordenado en la lista\n",
    "tamaño_nodo = pares_ordenados_nodos[0][0]\n",
    "\n",
    "# Imprimir el tamaño del nodo, la cantidad de nodos y los pares ordenados de nodos\n",
    "print(tamaño_nodo)\n",
    "\n",
    "import plotly.express as px\n",
    "title='Cantidad de nodos según el peso mínimo del nodo'\n",
    "fig = px.scatter(x=nodos, y=cantidad_nodos, title=title)\n",
    "fig.update_layout(\n",
    "    title=title,\n",
    "    xaxis_title=\"peso mínimo de los nodos\",\n",
    "    yaxis_title=\"cantidad de nodos\")\n",
    "fig.show()\n",
    "\n",
    "\n",
    "#title='Cantidad de nodos según el peso mínimo del nodo (zoom)'\n",
    "#fig = px.scatter(x=nodos, y=cantidad_nodos, title=title)\n",
    "#fig.update_layout(\n",
    "#    title=title,\n",
    "#    xaxis_title=\"peso mínimo de los nodos\",\n",
    "#    yaxis_title=\"cantidad de nodos\")\n",
    "#fig.update_yaxes(range=[0, 200])\n",
    "#fig.show() \n",
    "\n",
    "# Contar nodos de tamaño 1 y 2\n",
    "nodos_tamaño_1 = len([n for n, v in G.nodes(data=True) if v['value'] == 1])\n",
    "nodos_tamaño_2 = len([n for n, v in G.nodes(data=True) if v['value'] == 2])\n",
    "\n",
    "# Imprimir la cantidad de nodos de tamaño 1 y 2\n",
    "print(\"Cantidad de nodos de tamaño 1:\", nodos_tamaño_1)\n",
    "print(\"Cantidad de nodos de tamaño 2:\", nodos_tamaño_2)\n",
    "\n",
    "\n",
    "# Imprimir la leyenda y el tamaño del nodo\n",
    "\n",
    "print(tamaño_nodo)\n",
    "\n",
    "\n",
    "# Contar aristas de tamaño 1 y 2\n",
    "aristas_tamaño_1 = len([(u, v) for u, v, d in G.edges(data=True) if d['value'] == 1])\n",
    "aristas_tamaño_2 = len([(u, v) for u, v, d in G.edges(data=True) if d['value'] == 2])\n",
    "\n",
    "# Imprimir la cantidad de aristas de tamaño 1 y 2\n",
    "print(\"Cantidad de aristas de tamaño 1:\", aristas_tamaño_1)\n",
    "print(\"Cantidad de aristas de tamaño 2:\", aristas_tamaño_2)\n",
    "\n",
    "\n",
    "\n",
    "# Importar la biblioteca plotly para visualización de datos\n",
    "import plotly.express as px\n",
    "\n",
    "\n",
    "# Crear listas vacías para almacenar aristas y su cantidad\n",
    "aristas = []\n",
    "cantidad_aristas = []\n",
    "\n",
    "# Calcular la cantidad de aristas para cada umbral de 1 a 400\n",
    "for j in range(1, 400):\n",
    "    aristas.append(j)\n",
    "    cantidad_aristas.append(len(dict(filter(lambda x: x[1] >= j, cuenta_pesos_aristas.items()))))\n",
    "\n",
    "\n",
    "# Crear una lista de pares ordenados para las aristas que cumplan con el criterio de cantidad adecuada\n",
    "pares_ordenados_aristas = [[aristas[i], cantidad_aristas[i]] for i in range(0, len(aristas)) if cantidad_aristas[i] <= cantidad_aristas_adecuadas]\n",
    "\n",
    "# Obtener el valor del filtro para las aristas\n",
    "filtro_arista = pares_ordenados_aristas[0][0]\n",
    "\n",
    "# Imprimir el valor del filtro y la lista de pares ordenados\n",
    "print(filtro_arista)\n",
    "#print(pares_ordenados_aristas)\n",
    "\n",
    "\n",
    "title='Cantidad de aristas  según peso mínimo de las aristas'\n",
    "\n",
    "fig = px.scatter(x=aristas, y=cantidad_aristas, title=title)\n",
    "fig.update_layout(\n",
    "    title=title,\n",
    "    xaxis_title=\"peso mínimo de las aristas\",\n",
    "    yaxis_title=\"cantidad de aristas\")\n",
    "\n",
    "fig.show()\n",
    "\n",
    "\n",
    "\n",
    "\n",
    "\n",
    "# Imprimir el tamaño del nodo\n",
    "print(tamaño_nodo)\n",
    "\n",
    "\n",
    "\n"
   ]
  },
  {
   "cell_type": "markdown",
   "id": "1ebbcb38",
   "metadata": {},
   "source": [
    "# 20 Definición manual del tamaño de nodos y aristas"
   ]
  },
  {
   "cell_type": "code",
   "execution_count": null,
   "id": "011d2e9b",
   "metadata": {},
   "outputs": [],
   "source": [
    "#Cambio de cantidad de nodos y aristas manual\n",
    "#hay que borrar los símbolos # que están delante de las dos líneas siguientes\n",
    "\n",
    "#tamaño_nodo = 2\n",
    "#filtro_arista = 3\n"
   ]
  },
  {
   "cell_type": "markdown",
   "id": "750c3e0a",
   "metadata": {},
   "source": [
    "# 21 Grafo completo con nodos más frecuentes remarcados"
   ]
  },
  {
   "cell_type": "code",
   "execution_count": null,
   "id": "16677062",
   "metadata": {},
   "outputs": [],
   "source": [
    "# Ordenar cuenta_pesos_nodos en orden descendente\n",
    "cuenta_pesos_nodos_ordenado = dict(sorted(cuenta_pesos_nodos.items(), key=lambda item: item[1], reverse=True))\n",
    "\n",
    "# Obtener los j nodos más frecuentes\n",
    "j = 10\n",
    "lista_nodos_frecuentes = list(cuenta_pesos_nodos_ordenado.keys())[:j]\n",
    "\n",
    "\n",
    "# Filtrar aristas según el umbral 'filtro_arista'\n",
    "cuenta_pesos_aristas_H = dict(filter(lambda x: x[1] >= filtro_arista, cuenta_pesos_aristas.items()))\n",
    "\n",
    "# Crear un grafo vacío\n",
    "H = nx.Graph()\n",
    "\n",
    "\n",
    "# Crear y agregar nodos al grafo H según el modo de visualización (Absoluto o Ponderado)\n",
    "if modo_grafo == 1:  # Modo absoluto\n",
    "    for clave, valor in cuenta_pesos_nodos.items():\n",
    "        if clave in lista_nodos_frecuentes:\n",
    "            H.add_node(clave, label=f\"{clave} ({valor})\", value=valor, color='purple')\n",
    "        else: \n",
    "            H.add_node(clave, label=f\"{clave} ({valor})\", value=valor, color='#5a7497')\n",
    "else:  # Modo ponderado\n",
    "    for clave, valor in cuenta_pesos_nodos.items():\n",
    "        if clave in lista_nodos_frecuentes:\n",
    "            H.add_node(clave, label=f\"{clave} ({cuenta_pesos_nodos_ponderado.get(clave)}%)\", value=cuenta_pesos_nodos_ponderado.get(clave), color='purple')\n",
    "        else: \n",
    "            H.add_node(clave, label=f\"{clave} ({cuenta_pesos_nodos_ponderado.get(clave)}%)\", value=cuenta_pesos_nodos_ponderado.get(clave), color='#5a7497')\n",
    "        \n",
    "    # Agregar aristas al grafo H\n",
    "    for clave, valor in cuenta_pesos_aristas_H.items():\n",
    "        H.add_edge(clave[0], clave[1], value=cuenta_pesos_aristas_ponderado.get(clave), label=f\"{cuenta_pesos_aristas_ponderado.get(clave)}%\", color='#97c2fc')\n",
    "\n",
    "# Filtrar nodos del grafo H según el tamaño mínimo del nodo\n",
    "selected_nodes = [n for n, v in G.nodes(data=True) if v['value'] >= tamaño_nodo]\n",
    "H = H.subgraph(selected_nodes)\n",
    "\n",
    "# Mostrar información sobre el grafo\n",
    "print(nombre_largo)\n",
    "print(f\"Cantidad de nodos subgrafo completo H: {len(H.nodes)}\")\n",
    "print(f\"Cantidad de aristas subgrafo completo H: {len(H.edges)}\")\n",
    "print(f\"Nodos de tamaño como mínimo: {tamaño_nodo}\")\n",
    "print(f\"Aristas de tamaño como mínimo: {filtro_arista}\")\n",
    "\n",
    "# Visualizar el grafo usando la biblioteca pyvis\n",
    "net = Network(notebook=False, heading=f\"Espacio Rizomático Conceptual de {nombre_largo}, n={len(dfA)} artículos\")\n",
    "net.repulsion()\n",
    "net.from_nx(H)\n",
    "\n",
    "# Guardar y mostrar el grafo en un archivo HTML\n",
    "nombre_archivo = f\"grafo_{abrev}{dic_modo_grafo.get(modo_grafo)}_{campo_para_nodos_grafo}_met_{met}_n_{len(dfA.index)}__f_nodo_{tamaño_nodo}_f_edge_{filtro_arista}\"\n",
    "net.show(f\"{abrev}/{nombre_archivo}.html\")\n",
    "\n",
    "# Imprimir la leyenda del gráfico para ser utilizada en un documento LaTeX\n",
    "print(f\"\\\\caption{{Extracto del Espacio Rizomático Conceptual para {nombre_largo} que incluye {len(dfA)} artículos. En este grafo se muestran solo los nodos de cuyo tamaño es al menos {tamaño_nodo} y las aristas de al menos tamaño {filtro_arista}.}}\")\n",
    "print(nombre_archivo)\n",
    "        "
   ]
  },
  {
   "cell_type": "markdown",
   "id": "2746bb9d",
   "metadata": {},
   "source": [
    "# 22 exportar a Datapane"
   ]
  },
  {
   "cell_type": "raw",
   "id": "b6c6a692",
   "metadata": {},
   "source": [
    "import datapane as dp\n",
    "\n",
    "with open(abrev + '/'+nombre_archivo+'.html', 'r') as f:\n",
    "    html_network_1 = f.read()\n",
    "\n",
    "html_block = dp.HTML(html_network_1)\n",
    "\n",
    "# Utilizar la nueva función dp.upload_report() para subir el informe\n",
    "dp.upload_report([html_block], name=abrev+' - espacio rizomático conceptual '+ str(len(dfA)) + ' artículos')\n"
   ]
  },
  {
   "cell_type": "raw",
   "id": "c1480065",
   "metadata": {},
   "source": [
    "import datapane as dp\n",
    "\n",
    "with open(abrev + '/'+nombre_archivo+'.html', 'r') as f:\n",
    "    html_network_1 = f.read()\n",
    "    \n",
    "dp.Report(\n",
    "  dp.HTML(\n",
    "    html_network_1\n",
    "  )\n",
    ").upload(name=abrev+' - espacio rizomático conceptual '+ str(len(dfA)) + ' artículos')"
   ]
  },
  {
   "cell_type": "markdown",
   "id": "0256037a",
   "metadata": {},
   "source": [
    "# 23 Diccionario con palabras en el grafo G"
   ]
  },
  {
   "cell_type": "code",
   "execution_count": null,
   "id": "b8b82b23",
   "metadata": {
    "scrolled": true
   },
   "outputs": [],
   "source": [
    "lista_nodosG = [e for e in G.nodes(data=True)]\n",
    "lista_nodosG_ordenada = sorted(lista_nodosG, key=lambda x: x[1]['value'], reverse=True)  # [:20]\n",
    "\n",
    "parte_de_palabra = 'spa'\n",
    "nodos_con_parte_de_palabra = [nodo for nodo in lista_nodosG_ordenada if nodo[0].startswith(parte_de_palabra)]\n",
    "\n",
    "\n",
    "if not nodos_con_parte_de_palabra:\n",
    "    print(f\"No se encontraron nodos que contengan '{parte_de_palabra}'\")\n",
    "else:\n",
    "    nodos_con_letra = nodos_con_parte_de_palabra\n",
    "    print('Palabras que comiencen con la cadena :',parte_de_palabra)\n",
    "    for x in range(0, len(nodos_con_letra)):\n",
    "        print(nodos_con_letra[x][1].get('label'))\n"
   ]
  },
  {
   "cell_type": "markdown",
   "id": "b851de08",
   "metadata": {},
   "source": [
    "# 24 Finalizar informe LaTex"
   ]
  },
  {
   "cell_type": "code",
   "execution_count": null,
   "id": "f3338e08",
   "metadata": {},
   "outputs": [],
   "source": [
    "import plotly.express as px\n",
    "\n",
    "\n",
    "\n",
    "# Obtener las aristas con sus valores y ordenarlas de acuerdo con su valor\n",
    "aristas_valores = [(u, v, d['value']) for u, v, d in G.edges(data=True)]\n",
    "aristas_valores.sort(key=lambda x: x[2], reverse=True)\n",
    "\n",
    "# Seleccionar las n aristas con valores más altos\n",
    "aristas_top_n = aristas_valores[:n]\n",
    "\n",
    "# Crear etiquetas para las aristas\n",
    "etiquetas_aristas = [f\"{u}-{v}\" for u, v, _ in aristas_top_n]\n",
    "\n",
    "# Extraer los valores de las aristas\n",
    "valores_aristas = [valor for _, _, valor in aristas_top_n]\n",
    "\n",
    "\n",
    "\n",
    "# Calcular los porcentajes de cada arista en relación a len(dfA)\n",
    "porcentajes_aristas = [(valor / len(dfA)) * 100 for valor in valores_aristas]\n",
    "\n",
    "# Crear texto con valores y porcentajes para cada barra\n",
    "bar_texts = [f\"{valor} ({porcentaje:.1f}%)\" for valor, porcentaje in zip(valores_aristas, porcentajes_aristas)]\n",
    "\n",
    "# Crear título\n",
    "title = f\"{n} aristas más frecuentes en {nombre_largo}\"\n",
    "\n",
    "# Crear un gráfico de barras con Plotly Express\n",
    "fig = px.bar(y=etiquetas_aristas, x=valores_aristas, \n",
    "             text=bar_texts, orientation='h',\n",
    "             template=template_elegido)\n",
    "\n",
    "# Configurar el diseño del gráfico\n",
    "fig.update_layout(\n",
    "    title=title,\n",
    "    yaxis_title=\"Aristas\",\n",
    "    xaxis_title=\"Frecuencia\",\n",
    "    xaxis=dict(range=[0, max(valores_aristas) * 1.25])\n",
    ")\n",
    "fig.update_xaxes(tickangle=35)\n",
    "fig.update_layout(font_size=9)\n",
    "\n",
    "# Actualizar el tamaño de la fuente del texto de las barras\n",
    "fig.update_traces(textposition='outside', textfont=dict(size=14))\n",
    "\n",
    "# Mostrar el gráfico\n",
    "fig.show()\n",
    "nombre_archivo =abrev +'_aristas_'+dic_campo_a_analizar.get(campo_a_analizar)+ \"_n_\" +str(n)+'_met_'+met+'_'+str(now.year)+'_'+str(now.month)+'_'+str(now.day)+'_'+str(now.hour)+'_'+str(now.minute)\n",
    "fig.write_html(abrev + '/' + nombre_archivo+\".html\")\n",
    "fig.write_image(abrev + '/' + nombre_archivo+\".pdf\",width=700, height=800)\n",
    "\n",
    "# Crear la leyenda para el gráfico\n",
    "leyenda = 'Principales aristas de: '+nombre_de_campo_analizado+ ' en '+str(len(dfA))+' artículos. Fuente: ' + fuente_articulos + '.'\n",
    "\n",
    "# Añadir el entorno de figura al archivo LaTeX\n",
    "entorno_figura_tex(ruta_archivo, nombre_archivo_tex, nombre_archivo, leyenda)\n",
    "print(leyenda)\n",
    "\n",
    "\n",
    "# Agregar una nueva página al archivo LaTeX\n",
    "entorno_nueva_pagina_tex(ruta_archivo, nombre_archivo_tex)\n",
    "\n",
    "# Agregar una sección al archivo LaTeX con el título especificado\n",
    "entorno_section_tex(ruta_archivo, nombre_archivo_tex, 'Espacio rizomático conceptual (\\\\textit{ERC}) a partir de las palabras en: ' + dic_nombres_campo.get(dic_campo_a_analizar.get(campo_a_analizar)))\n",
    "\n",
    "# Agregar una subsección al archivo LaTeX con el título especificado\n",
    "entorno_sub_section_tex(ruta_archivo, nombre_archivo_tex, 'Información general del ERC')\n",
    "\n",
    "# Agregar un párrafo al archivo LaTeX\n",
    "parrafo_tex(ruta_archivo, nombre_archivo_tex, 'La información general del ERC es la siguiente:')\n",
    "\n",
    "# Crear una lista con la información general del ERC\n",
    "lista_información_general = [\n",
    "    'Grafo de la base de datos denominada: ' + nombre_largo,\n",
    "    'El método utilizado fue: ' + met,\n",
    "    'Cantidad de artículos: ' + str(len(dfA)),\n",
    "    'Cantidad de nodos grafo completo G: ' + str(len(G.nodes)),\n",
    "    'Cantidad de aristas grafo completo G: ' + str(len(G.edges)),\n",
    "    'Tiempo requerido para generar el grafo: ' + str(round(fin - inicio, 1)) + ' seg. Equivalentes a ' + str(round((fin - inicio) / 60, 1)) + ' min.'\n",
    "]\n",
    "\n",
    "# Agregar la lista de información general del ERC al archivo LaTeX usando el entorno \"itemize\"\n",
    "entorno_itemize_tex(ruta_archivo, nombre_archivo_tex, lista_información_general)\n",
    "\n",
    "# Imprimir la lista de información general del ERC\n",
    "print(lista_información_general)\n",
    "\n",
    "# Imprimir el título de la sección del ERC\n",
    "print('Espacio rizomático conceptual (ERC) a partir de las palabras en: ' + dic_nombres_campo.get(dic_campo_a_analizar.get(campo_a_analizar)))\n",
    "\n",
    "# Agregar una subsección en el archivo LaTeX con el título \"Nodos\"\n",
    "entorno_sub_section_tex(ruta_archivo, nombre_archivo_tex, 'Nodos')\n",
    "\n",
    "# Crear una lista con información sobre los nodos del grafo\n",
    "lista_informacion_nodos = [\n",
    "    'Como se indicó en la información general, el \\\\textit{ERC} tiene ' + str(len(G.nodes)) + ' nodos.',\n",
    "    'Para que en el \\\\textit{ERC} se puedan distinguir los nodos más importantes,',\n",
    "    ' se estableció como una cantidad adecuada para visualizar el ERC, ' + str(cantidad_nodos_adecuados),\n",
    "    ' nodos. Esto da como resultado, que el \\\\textit{ERC} mostrará los nodos que tengan un tamaño igual o superior a ',\n",
    "    str(tamaño_nodo) + '. Es decir, si una palabra se repite al menos ',\n",
    "    str(tamaño_nodo) + ' veces en los ' + str(len(dfA)),\n",
    "    ' documentos analizados, entonces aparecerá en el Espacio Rizomático Conceptual de ',\n",
    "    nombre_largo + '. Se debe notar que esto, en términos porcentuales ',\n",
    "    'significa que si una palabra se repite al menos un ',\n",
    "    str(round(100*tamaño_nodo/len(dfA),1))+'\\\\% entonces aparecerá en el \\\\textit{ERC}. \\\\newline',\n",
    "    'Entre los nodos que se descartan, están aquellos que aparecen pocas veces y que son numerosos. ',\n",
    "    'Por ejemplo, hay ', str(nodos_tamaño_1), ' palabras que solo aparecen una vez y ',\n",
    "    str(nodos_tamaño_2), ' palabras que solo aparecen dos veces. Estos nodos y todos aquellos que quedan ',\n",
    "    'bajo el umbral quedan en la \\\\textbf{periferia invisible}.'\n",
    "]\n",
    "\n",
    "# Unir la lista de información de nodos en un solo párrafo\n",
    "parrafo = ' '.join(lista_informacion_nodos)\n",
    "\n",
    "# Imprimir y agregar el párrafo al archivo LaTeX\n",
    "print(parrafo)\n",
    "parrafo_tex(ruta_archivo, nombre_archivo_tex, parrafo)\n",
    "\n",
    "\n",
    "# Agregar una subsección en el archivo LaTeX con el título \"Aristas\"\n",
    "entorno_sub_section_tex(ruta_archivo, nombre_archivo_tex, 'Aristas')\n",
    "\n",
    "# Crear una lista con información sobre los nodos del grafo\n",
    "lista_informacion_nodos = [\n",
    "    'Como se indicó en la información general, el \\\\textit{ERC} tiene ' + str(len(G.edges)),\n",
    "    ' aristas. Para que en el \\\\textit{ERC} se puedan distinguir las aristas más importantes,',\n",
    "    ' se estableció como una cantidad adecuada para visualizar el \\\\textit{ERC}, ',\n",
    "    str(cantidad_nodos_adecuados) + ' aristas. Esto da como resultado,', \n",
    "    'que el \\\\textit{ERC} mostrará las aristas que tengan un tamaño igual o superior a ',\n",
    "    str(filtro_arista) + '. Es decir, si una conexión entre dos palabras se repite',\n",
    "    ' al menos ' + str(filtro_arista) + ' veces en los ' + str(len(dfA)),\n",
    "    ' documentos analizados, entonces aparecerá en el \\\\textit{ERC} de ' + nombre_largo + '. \\\\newline',\n",
    "    'en términos porcentuales significa que si una palabra se repite al menos un ',\n",
    "    str(round(100*filtro_arista/len(dfA),1))+'\\\\% entonces aparecerá en el \\\\textit{ERC}. \\\\newline',\n",
    "    'Entre las aristas que se descartan, están aquellas que aparecen pocas veces y que son numerosos. ',\n",
    "    'Por ejemplo, hay ', str(aristas_tamaño_1), ' parejas de palabras que solo aparecen una vez y ',\n",
    "    str(aristas_tamaño_2), ' parejas de palabras que solo aparecen dos veces. Estas aristas y todos las que quedan ',\n",
    "    'bajo el umbral son parte de la \\\\textbf{periferia invisible} del \\\\textit{ERC}.'\n",
    "]\n",
    "\n",
    "# Unir la lista de información de nodos en un solo párrafo\n",
    "parrafo = ' '.join(lista_informacion_nodos)\n",
    "\n",
    "# Imprimir y agregar el párrafo al archivo LaTeX\n",
    "print(parrafo)\n",
    "parrafo_tex(ruta_archivo, nombre_archivo_tex, parrafo)\n",
    "\n",
    "lista_información_grafo=['Por lo tanto ',\n",
    "r\"$\\mathcal{G}_{\\eta=\",\n",
    "str(tamaño_nodo),\n",
    "r\",\\alpha=\",str(filtro_arista),\n",
    "r\"}=(V_{\\eta=\",str(tamaño_nodo),\n",
    "r\",\\alpha=\",str(filtro_arista),r\"},E_{\\eta=\",  \n",
    "str(tamaño_nodo),r\",\\alpha=\",str(filtro_arista),'})$',  \n",
    "'es un grafo tal que, los nodos tienen tamaño mayor o igual a ', \n",
    "str(tamaño_nodo),' y las aristas tienen tamaño mayor o igual a ',\n",
    "str(filtro_arista)+'.',' Esto produce un grafo que tiene ',str(len(H.nodes)),\n",
    "'nodos y ', str(len(H.edges)), 'aristas. ','\\n',\n",
    "'En la figura \\\\ref{fig:'+nombre_archivo+'} se muestra un gráfico con los ' + str(n) +' nodos con mayor frecuencia.'                         \n",
    "                         ]\n",
    "\n",
    "párrafo=' '.join(lista_información_grafo)\n",
    "parrafo_tex(ruta_archivo, nombre_archivo_tex, párrafo)\n",
    "\n",
    "parrafo_tex(ruta_archivo, nombre_archivo_tex, '\\\\bibliographystyle{apalike-es.bst}')\n",
    "parrafo_tex(ruta_archivo, nombre_archivo_tex, '\\\\bibliography{referencias.bib}')\n",
    "parrafo_tex(ruta_archivo, nombre_archivo_tex, '\\\\end{document}')\n"
   ]
  },
  {
   "cell_type": "markdown",
   "id": "f211d275",
   "metadata": {},
   "source": [
    "# 25 Podar el rizoma"
   ]
  },
  {
   "cell_type": "code",
   "execution_count": null,
   "id": "748c3c33",
   "metadata": {},
   "outputs": [],
   "source": [
    "\n",
    "#actualizado abril 27 16:57\n",
    "lista_nodos= [e for e in G.nodes(data=True)][:10]\n",
    "#print(lista_nodos)\n",
    "tamaño_nodo = int(len(dfA)*0.01)\n",
    "filtro_arista = int(len(dfA)*0.02)\n",
    "cuenta_pesos_aristas_H1=dict(filter(lambda x: x[1] >= filtro_arista, cuenta_pesos_aristas.items()))\n",
    "\n",
    "lista_palabras_ed_mat = [\"anthropological\",\"apos\",\"argumentation\",\"pck\", \"assessment\",\"belief\", \"cognitive\", \"communication\", \"competence\", \"concept\", \n",
    "                         \"conceptual\", \"conception\", \"content\", \"curriculum\", \"didactic\", \"digital\", \"discourse\", \"dynamic\",\"ethnomathematics\"\n",
    "                         , \"early\", \"game\", \"history\", \"inquiry\", \"inquirybased\", \"knowledge\", \"literacy\",\"meaning\", \"modeling\", \"modelling\"\n",
    "                         , \"noticing\", \"online\", \"ontosemiotic\" , \"pedagogical\", \"problem\", \"problemsolving\", \"reform\",\n",
    "                         \"representation\", \"resource\", \"semiotic\", \"skill\" , \"solving\", \"stem\", \"strategy\", \"task\", \"technology\", \n",
    "                         \"textbook\", \"tool\", \"video\", \"visualization\",'perception','assessing', 'attitude', 'computer', 'error', 'ict',\n",
    "                         'misconception', 'motivation', 'anthropological', 'assessing', 'attitude', 'cultural', 'computational', 'computer', \n",
    "                         'decomposition', 'didactical', 'didactics', 'epistemological', 'epistemology', 'error', \n",
    "                         'evaluation', 'genetic', 'geogebra', 'historical', 'ict', 'misconception', 'motivation', \n",
    "                         'perception', 'philosophy', 'sense', 'socioepistemology', 'software', 'visual']\n",
    "lista_palabras_matemáticas = [\"numerical\",'proof',\"proportionality\",'programming',\"addition\", \"algebra\", \"algebraic\", \"arithmetic\",\"biology\", \"calculus\", \"change\",\"chemistry\", \"complex\", \"decimal\", \"definition\", \"differential\",'derivative','engineering', \"equation\", \"fibonacci\", \"fraction\", \"function\", \"geometric\", \"geometry\", \"graph\", \"integral\", \"integer\", \"line\", \"linear\", \"mathematical\", \"mathematics\",\"math\", \"maths\", \"matrix\", \"measurement\",'multiplication', \"negative\", \"number\", \"operation\", \"pattern\",\"physic\",\"physical\",\"physics\" ,\"probability\", \"rational\", \"science\",'scientific', \"sequence\",'simulation' ,\"space\", \"spatial\", \"statistic\", \"statistical\", \"theorem\", \"triangle\", \"variable\", \"whole\"]\n",
    "\n",
    "\n",
    "lista_palabras_enseñanza = [\"development\",\"initial\",\"instruction\", \"instructional\",\"inservice\",\"pedagogical\" , \"practice\", \"preservice\", \"prospective\",\"professional\", \"teacher\", \"teaching\", \"training\"]\n",
    "lista_palabras_enseñanza_aprendizaje2 = [\"education\",\"elementary\",'middle', 'college', 'pedagogy',\"class\", \"classroom\", \"high\",\"lesson\", \"primary\", \"school\",\"secondary\", \"university\", \"undergraduate\"]\n",
    "lista_palabras_aprendizaje = [\"learn\",\"learning\", \"learner\", \"reading\", \"reasoning\", \"reflection\", \"student\", \"thinking\", \"understanding\"]\n",
    "social = ['mexican','social','brazil', 'integration','community', 'equity', 'collaborative', 'opportunity','africa', 'african', 'botswana', 'critical',\"collaboration\",\"competency\", 'culture', 'gender', 'identity', 'indigenous', 'kenya', 'lesotho', 'malawi', 'multilingual', 'nigeria', 'policy', 'south', 'zimbabwe']\n",
    "otras_palabras=['academic', 'achievement', 'activity', 'africa', 'african', 'analysis', 'approach', 'attitude', 'case', 'classroom', 'community', 'computer', 'context', 'course', 'design', 'developing', 'effect', 'engineering', 'experience', 'exploring', 'factor', 'framework', 'gender', 'grade', 'high', 'language', 'level', 'method', 'model', 'perception', 'performance', 'perspective', 'primary', 'relationship', 'school', 'scientific', 'secondary', 'south', 'system', 'undergraduate', 'university', 'using', 'view']\n",
    "lista_palabras = ['area', 'art', 'based', 'basic', 'child', 'connection', 'construction', 'contribution', 'data', 'degree', 'difficulty', 'different', 'distance', 'educational', 'educator', 'environment', 'experiment', 'field', 'first', 'future', 'group', 'image', 'information', 'interaction', 'interpretation', 'issue', 'material', 'methodology', 'modern', 'narrative', 'national', 'new', 'notion', 'possibility', 'process', 'production', 'program', 'proposal', 'real', 'relation', 'review', 'role', 'situation', 'state', 'structure', 'suitability', 'test', 'theoretical', 'theory', 'towards', 'transformation', 'work', 'working', 'world', 'year']\n",
    "otras_palabras=otras_palabras+lista_palabras\n",
    "\n",
    "lista_de_palabras_con_color = lista_palabras_ed_mat+lista_palabras_matemáticas+lista_palabras_enseñanza+lista_palabras_enseñanza_aprendizaje2+lista_palabras_aprendizaje+social+otras_palabras\n",
    "\n",
    "lista_nodos_a_colorear_1 = lista_palabras_ed_mat\n",
    "lista_nodos_a_colorear_2 = lista_palabras_matemáticas\n",
    "lista_nodos_a_colorear_3a = lista_palabras_enseñanza + lista_palabras_aprendizaje\n",
    "lista_nodos_a_colorear_3b = lista_palabras_enseñanza_aprendizaje2\n",
    "lista_nodos_a_colorear_4 = social #lista_palabras_aprendizaje\n",
    "\n",
    "H1 = nx.Graph()\n",
    "#creación de nodos de H1\n",
    "\n",
    "if modo_grafo == 1:\n",
    "    #for clave, valor in nodos_color_1.items():\n",
    "    #    H1.add_node(clave,label=clave+' ('+str(valor)+')', value=(valor) , color = '#eaf2fe') #5a7497\n",
    "    #for clave, valor  in nodos_color_2.items():\n",
    "    #    H1.add_node(clave,label=clave+' ('+str(valor)+')', value=(valor) , color = '#eaf2fe') #97c2fc\n",
    "        \n",
    "    for x in lista_nodos_a_colorear_1:\n",
    "        H1.add_node(x,label=x+' ('+str(cuenta_pesos_nodos.get(x))+')'\n",
    "               ,value=(cuenta_pesos_nodos.get(x))\n",
    "               ,color = \"purple\")\n",
    "    for x in lista_nodos_a_colorear_2:\n",
    "        H1.add_node(x,label=x+' ('+str(cuenta_pesos_nodos.get(x))+')'\n",
    "               ,value=(cuenta_pesos_nodos.get(x))\n",
    "               ,color = \"orange\")\n",
    "    for x in lista_nodos_a_colorear_3a:\n",
    "        H1.add_node(x,label=x+' ('+str(cuenta_pesos_nodos.get(x))+')'\n",
    "               ,value=(cuenta_pesos_nodos.get(x))\n",
    "               ,color = \"green\")\n",
    "    for x in lista_nodos_a_colorear_3b:\n",
    "        H1.add_node(x,label=x+' ('+str(cuenta_pesos_nodos.get(x))+')'\n",
    "               ,value=(cuenta_pesos_nodos.get(x))\n",
    "               ,color = \"#93bf85\")\n",
    "    for x in lista_nodos_a_colorear_4:\n",
    "        H1.add_node(x,label=x+' ('+str(cuenta_pesos_nodos.get(x))+')'\n",
    "               ,value=(cuenta_pesos_nodos.get(x))\n",
    "               ,color = \"#00cdff\")\n",
    "    for clave, valor in cuenta_pesos_aristas_H1.items():\n",
    "        H1.add_edge(clave[0],clave[1], value = (valor),label=str(valor),color = '#97c2fc') \n",
    "\n",
    "\n",
    "\n",
    "else:\n",
    "    #for clave, valor in nodos_color_1.items():\n",
    "    #    H1.add_node(clave,label=clave+' ('+str(cuenta_pesos_nodos_ponderado.get(clave))+'%)', value=(cuenta_pesos_nodos_ponderado.get(clave)) , color = '#eaf2fe') #5a7497\n",
    "    \n",
    "    #for clave, valor in nodos_color_2.items():\n",
    "    #    H1.add_node(clave,label=clave+' ('+str(cuenta_pesos_nodos_ponderado.get(clave))+'%)', value=(cuenta_pesos_nodos_ponderado.get(clave)) , color = '#eaf2fe')\n",
    "    \n",
    "    for x in lista_nodos_a_colorear_1:\n",
    "        H1.add_node(x,label=x+' ('+str(cuenta_pesos_nodos_ponderado.get(x))+'%)'\n",
    "               ,value=(cuenta_pesos_nodos_ponderado.get(x))\n",
    "               ,color = \"purple\")\n",
    "    for x in lista_nodos_a_colorear_2:\n",
    "        H1.add_node(x,label=x+' ('+str(cuenta_pesos_nodos_ponderado.get(x))+'%)'\n",
    "               ,value=(cuenta_pesos_nodos_ponderado.get(x))\n",
    "               ,color = \"orange\")\n",
    "    for x in lista_nodos_a_colorear_3a:\n",
    "        H1.add_node(x,label=x+' ('+str(cuenta_pesos_nodos_ponderado.get(x))+'%)'\n",
    "               ,value=(cuenta_pesos_nodos_ponderado.get(x))\n",
    "               ,color = \"green\")\n",
    "    for x in lista_nodos_a_colorear_3b:\n",
    "        H1.add_node(x,label=x+' ('+str(cuenta_pesos_nodos_ponderado.get(x))+'%)'\n",
    "               ,value=(cuenta_pesos_nodos_ponderado.get(x))\n",
    "               ,color = \"#93bf85\")\n",
    "    for x in lista_nodos_a_colorear_4:\n",
    "        H1.add_node(x,label=x+' ('+str(cuenta_pesos_nodos_ponderado.get(x))+'%)'\n",
    "               ,value=(cuenta_pesos_nodos_ponderado.get(x))\n",
    "               ,color = \"#00cdff\")\n",
    "    for clave, valor in cuenta_pesos_aristas_H1.items():\n",
    "        H1.add_edge(clave[0],clave[1], value = (cuenta_pesos_aristas_ponderado.get(clave)),label=str(cuenta_pesos_aristas_ponderado.get(clave))+'%',color = '#97c2fc') \n",
    "\n",
    "\n",
    "palabras_a_podar=['nan',' ','','']\n",
    "\n",
    "# lista_de_palabras_con_color+\n",
    "#palabras_a_podar = ['nan','study','research',' ','','','mathematics','education','mathematical']\n",
    "#palabras_a_podar=['nan','mathematical','education','mathematics','study']\n",
    "\n",
    "selected_nodes = [n for n,v in G.nodes(data=True) if v['value'] >= tamaño_nodo and n not in palabras_a_podar]\n",
    "H1 = H1.subgraph(selected_nodes)\n",
    "\n",
    "fin = time.time()\n",
    "#net=Network(notebook=False, heading='Espacio Rizomático Conceptual PODADO de '+ nombre_largo +', n='+str(len(dfA))+' artículos')\n",
    "net=Network(notebook=False)\n",
    "\n",
    "net.repulsion()\n",
    "net.from_nx(H1)\n",
    "nombre_archivo = 'grafo_podado_'+ abrev +dic_modo_grafo.get(modo_grafo)+  campo_para_nodos_grafo + '_met_'+ met +str(len(dfA)) +'_n_' + str(len(dfA)) + '_f_nodo_'+ str(tamaño_nodo) + '_f_edge_'+ str(filtro_arista)\n",
    "net.show(abrev + '/' + nombre_archivo+'.html')\n",
    "\n",
    "\n",
    "print('----------------------------')\n",
    "lista_nodosH1= [e for e in H1.nodes(data=True)]\n",
    "lista_nodosH1_ordenada = sorted([e for e in lista_nodosH1 if 'value' in e[1]], key=lambda x: x[1]['value'], reverse=True)\n",
    "\n",
    "#lista_nodosH1_ordenada = sorted(lista_nodosH1, key=lambda x: x[1]['value'], reverse=True) # [:20]\n",
    "\n",
    "\n",
    "Afiliación='global'\n",
    "caption_1= '\\caption{'+'Extracto del '+ '$\\mathcal{G}_{'+str(tamaño_nodo)+','+str(filtro_arista)+'}$ Espacio Rizomático Conceptual'+' \\\\textbf{podado} para ' + str(len(dfA)) +  ' artículos con afiliación en países de \\\\textbf{'+ Afiliación  +'}. Las palabras podadas son: \\\\textit{education}, \\\\textit{mathematics} y \\\\textit{mathematical}. '\n",
    "código_color=' Código de colores: \\\\textcolor[HTML]{800080}{$\\\\bullet$} conceptos de educación matemática; \\\\textcolor[HTML]{ffa500}{$\\\\bullet$} conceptos matemáticos disciplinares; \\\\textcolor[HTML]{008000}{$\\\\bullet$} y \\\\textcolor[HTML]{93bf85}{$\\\\bullet$}  conceptos genéricos de educación; \\\\textcolor[HTML]{00cdff}{$\\\\bullet$} conceptos sobre temas sociales  y \\\\textcolor[HTML]{eaf2fe}{$\\\\bullet$} conceptos que no están en las otras categorías.}' \n",
    "caption_1=caption_1+código_color\n",
    "print(caption_1)\n",
    "\n",
    "print('filtro arista:', filtro_arista)\n",
    "print('tamaño_nodo: ',tamaño_nodo)\n",
    "\n",
    "print('\\n')\n",
    "print('Lista de aristas y pesos de ERC podado: ',)\n",
    "#for x in lista_nodosH1_ordenada:\n",
    "#    print(x[0],':',x[1].get('value'))\n",
    "\n",
    "lista_aristas_H1_ordenada=[e for e in H1.edges(data=True)]\n",
    "lista_aristas_H1_ordenada = sorted(lista_aristas_H1_ordenada, key=lambda x: x[2]['value'], reverse=True)\n",
    "\n",
    "\n",
    "\n",
    "#for x in lista_aristas_H1_ordenada:\n",
    "    #print(x[0],'-',x[1],':',x[2].get('value'))\n",
    "\n"
   ]
  },
  {
   "cell_type": "markdown",
   "id": "977d4b7d",
   "metadata": {},
   "source": [
    "# 26 Exportar a Datapane el grafo podado\n"
   ]
  },
  {
   "cell_type": "markdown",
   "id": "dec9f777",
   "metadata": {},
   "source": [
    "import datapane as dp\n",
    "\n",
    "with open(abrev + '/'+nombre_archivo+'.html', 'r') as f:\n",
    "    html_network_1 = f.read()\n",
    "    \n",
    "dp.Report(\n",
    "  dp.HTML(\n",
    "    html_network_1\n",
    "  )\n",
    ").upload(name=abrev+' - espacio rizomático conceptual PODADO '+ str(len(dfA)) + ' artículos')"
   ]
  },
  {
   "cell_type": "markdown",
   "id": "cb45a2b6",
   "metadata": {},
   "source": [
    "# 27 Ego de un grafo"
   ]
  },
  {
   "cell_type": "code",
   "execution_count": null,
   "id": "700e62b1",
   "metadata": {},
   "outputs": [],
   "source": [
    "ego='argumentationeeee'\n",
    "lista_nodos_a_colorear =[ego]\n",
    "tamaño_nodo = 2\n",
    "filtro_arista = 6\n",
    "\n",
    "if modo_grafo == 1:\n",
    "    tamaño_nodo = tamaño_nodo\n",
    "    tamaño_nodo_abs = tamaño_nodo\n",
    "    print('tamaño_nodo_abs:',tamaño_nodo_abs)\n",
    "    filtro_arista = filtro_arista\n",
    "    filtro_arista_abs = filtro_arista\n",
    "else:\n",
    "    tamaño_nodo_abs = tamaño_nodo\n",
    "    tamaño_nodo = tamaño_nodo/len(dfA)\n",
    "    print('tamaño_nodo_abs:',tamaño_nodo_abs)\n",
    "    filtro_arista_abs = filtro_arista\n",
    "    filtro_arista = filtro_arista/len(dfA)\n",
    "    \n",
    "\n",
    "cuenta_pesos_aristas_Ego=dict(filter(lambda x: x[1] >= filtro_arista_abs, cuenta_pesos_aristas.items()))\n",
    "\n",
    "Ego = nx.Graph()\n",
    "\n",
    "\n",
    "\n",
    "\n",
    "if modo_grafo == 1:\n",
    "    #for clave, valor in nodos_color_1.items():\n",
    "    #    Ego.add_node(clave,label=clave+' ('+str(valor)+')', value=(valor) , color = '#5a7497')\n",
    "    #for clave, valor  in nodos_color_2.items():\n",
    "    #    Ego.add_node(clave,label=clave+' ('+str(valor)+')', value=(valor) , color = '#97c2fc')\n",
    "        \n",
    "    for x in lista_nodos_a_colorear_1:\n",
    "        Ego.add_node(x,label=x+' ('+str(cuenta_pesos_nodos.get(x))+')'\n",
    "               ,value=(cuenta_pesos_nodos.get(x))\n",
    "               ,color = \"purple\")\n",
    "    for x in lista_nodos_a_colorear_2:\n",
    "        Ego.add_node(x,label=x+' ('+str(cuenta_pesos_nodos.get(x))+')'\n",
    "               ,value=(cuenta_pesos_nodos.get(x))\n",
    "               ,color = \"green\")\n",
    "    for x in lista_nodos_a_colorear_3a:\n",
    "        Ego.add_node(x,label=x+' ('+str(cuenta_pesos_nodos.get(x))+')'\n",
    "               ,value=(cuenta_pesos_nodos.get(x))\n",
    "               ,color = \"pink\")\n",
    "    for x in lista_nodos_a_colorear_3b:\n",
    "        Ego.add_node(x,label=x+' ('+str(cuenta_pesos_nodos.get(x))+')'\n",
    "               ,value=(cuenta_pesos_nodos.get(x))\n",
    "               ,color = \"orange\")\n",
    "    for clave, valor in cuenta_pesos_aristas_Ego.items():\n",
    "        Ego.add_edge(clave[0],clave[1], value = (valor),label=str(valor),color = '#97c2fc') \n",
    "\n",
    "\n",
    "\n",
    "else:\n",
    "    #for clave, valor in nodos_color_1.items():\n",
    "    #    Ego.add_node(clave,label=clave+' ('+str(cuenta_pesos_nodos_ponderado.get(clave))+'%)', value=(cuenta_pesos_nodos_ponderado.get(clave)) , color = '#5a7497')\n",
    "    \n",
    "    #for clave, valor in nodos_color_2.items():\n",
    "    #    Ego.add_node(clave,label=clave+' ('+str(cuenta_pesos_nodos_ponderado.get(clave))+'%)', value=(cuenta_pesos_nodos_ponderado.get(clave)) , color = '#97c2fc')\n",
    "    \n",
    "    for x in lista_nodos_a_colorear_1:\n",
    "        Ego.add_node(x,label=x+' ('+str(cuenta_pesos_nodos_ponderado.get(x))+'%)'\n",
    "               ,value=(cuenta_pesos_nodos_ponderado.get(x))\n",
    "               ,color = \"purple\")\n",
    "    for x in lista_nodos_a_colorear_2:\n",
    "        Ego.add_node(x,label=x+' ('+str(cuenta_pesos_nodos_ponderado.get(x))+'%)'\n",
    "               ,value=(cuenta_pesos_nodos_ponderado.get(x))\n",
    "               ,color = \"green\")\n",
    "    for x in lista_nodos_a_colorear_3a:\n",
    "        Ego.add_node(x,label=x+' ('+str(cuenta_pesos_nodos_ponderado.get(x))+'%)'\n",
    "               ,value=(cuenta_pesos_nodos_ponderado.get(x))\n",
    "               ,color = \"pink\")\n",
    "    for x in lista_nodos_a_colorear_3b:\n",
    "        Ego.add_node(x,label=x+' ('+str(cuenta_pesos_nodos_ponderado.get(x))+'%)'\n",
    "               ,value=(cuenta_pesos_nodos_ponderado.get(x))\n",
    "               ,color = \"orange\")\n",
    "    for clave, valor in cuenta_pesos_aristas_Ego.items():\n",
    "        Ego.add_edge(clave[0],clave[1], value = (cuenta_pesos_aristas_ponderado.get(clave)),label=str(cuenta_pesos_aristas_ponderado.get(clave))+'%',color = '#97c2fc') \n",
    "\n",
    "palabras_a_podar=['nan','study','research',' ','','','mathematics','education','mathematical']\n",
    "#palabras_a_podar=['nan','mathematical','education','mathematics','study']\n",
    "\n",
    "\n",
    "\n",
    "\n",
    "\n",
    "#palabras_a_podar=['nan','mathematics','education','mathematical']\n",
    "\n",
    "selected_nodes = [n for n,v in G.nodes(data=True) if v['value'] >= tamaño_nodo_abs and n not in palabras_a_podar]\n",
    "\n",
    "    \n",
    "if ego in G:\n",
    "    Ego = Ego.subgraph(selected_nodes)\n",
    "    \n",
    "    hub_ego = nx.ego_graph(Ego, ego, radius=1)\n",
    "\n",
    "    for u, v in list(hub_ego.edges):\n",
    "        if u != ego and v != ego:\n",
    "            hub_ego.remove_edge(u, v)\n",
    "    \n",
    "    net = Network(notebook=True)\n",
    "    net = Network(notebook=False, heading='EGO Rizomático Conceptual de '+ ego +', basado en '+ nombre_largo +', n='+str(len(dfA))+' artículos')\n",
    "    net.repulsion()\n",
    "    net.from_nx(hub_ego)\n",
    "    nombre_archivo = 'grafo_ego_'+ego+'_'+ abrev +dic_modo_grafo.get(modo_grafo) + campo_para_nodos_grafo + '_met_'+ met +str(len(dfA)) +'_n_' + str(len(dfA.index)) + '_f_nodo_'+ str(tamaño_nodo_abs) + '_f_edge_'+ str(filtro_arista_abs)\n",
    "    net.show(abrev + '/'+nombre_archivo+'.html')\n",
    "    lista_aristas_hub_ego = [e for e in hub_ego.edges(data=True)]\n",
    "    lista_aristas_hub_ego = sorted(lista_aristas_hub_ego, key=lambda x: x[2]['value'], reverse=True)\n",
    "    \n",
    "    print('\\caption{','Ego del nodo',ego, ' para ',nombre_largo, 'que incluye' ,len(dfA), \n",
    "          ' artículos. En este grafo se muestran solo los nodos de cuyo tamaño es al menos ',str(tamaño_nodo),\n",
    "          ' y las aristas de al menos tamaño ',filtro_arista,'.}')\n",
    "    \n",
    "    print('Grafo de la base: ',nombre_largo)\n",
    "    print('Cantidad de artículos: ',len(dfA))\n",
    "    print('Cantidad de nodos grafo completo G: ',(len(hub_ego.nodes)))\n",
    "    print('Cantidad de aristas grafo completo G: ',(len(hub_ego.edges)))\n",
    "    \n",
    "    print('\\n')\n",
    "    print('Lista de aristas y pesos del EGO: ',ego)\n",
    "    for x in lista_aristas_hub_ego[30:]:\n",
    "        print(x[0],'-',x[1],':',x[2].get('value'))\n",
    "\n",
    "else:\n",
    "    print(\"El ego: <<\",ego, \">> no está presente en el grafo G.\")\n"
   ]
  },
  {
   "cell_type": "code",
   "execution_count": null,
   "id": "d3a8afe7",
   "metadata": {},
   "outputs": [],
   "source": [
    "fin = time.time()\n",
    "print(f\"{fin-inicio} seg. Equivalentes a {(fin-inicio)/60} min\")\n",
    "\n"
   ]
  },
  {
   "cell_type": "markdown",
   "id": "2a8e6ba7",
   "metadata": {},
   "source": [
    "# 28 Exportar a Datapane"
   ]
  },
  {
   "cell_type": "raw",
   "id": "7d8ec784",
   "metadata": {},
   "source": [
    "import datapane as dp\n",
    "\n",
    "with open(abrev + '/'+nombre_archivo+'.html', 'r') as f:\n",
    "    html_network_1 = f.read()\n",
    "    \n",
    "dp.Report(\n",
    "  dp.HTML(\n",
    "    html_network_1\n",
    "  )\n",
    ").upload(name=abrev+' ego rizomático de ' + ego + ' para ' + str(len(dfA)) + ' artículos')"
   ]
  },
  {
   "cell_type": "markdown",
   "id": "bf6bdea9",
   "metadata": {},
   "source": [
    "# 29 Información para crear"
   ]
  },
  {
   "cell_type": "raw",
   "id": "3a5e7a1c",
   "metadata": {},
   "source": [
    "Información para hacerlo\n",
    "\n",
    "Lo básico:\n",
    "https://www.ellaberintodefalken.com/2020/02/grafos-con-networkx.html\n",
    "\n",
    "Fijar grafo\n",
    "https://stackoverflow.com/questions/68117561/pyvis-network-keeps-on-moving\n",
    "\n",
    "\n",
    "Fijar pesos:\n",
    "https://networkx.org/documentation/stable/tutorial.html#adding-attributes-to-graphs-nodes-and-edges\n",
    "\n",
    "Fijar pesos aristas\n",
    "https://www.askpython.com/python/examples/customizing-pyvis-interactive-network-graphs\n",
    "\n",
    "Subgrafos \n",
    "\n",
    "https://diegomariano.com/networkx/#Subgrafos\n",
    "\n",
    "Filtrar grafos:\n",
    "https://stackoverflow.com/questions/45350222/select-nodes-and-edges-form-networkx-graph-with-attributes\n",
    "\n",
    "Vecinos:\n",
    "https://www.youtube.com/watch?v=kGx6xPjwK6w\n",
    "\n",
    "Datapane:\n",
    "https://github.com/kennethleungty/Drug-Interactions-Network-Analysis-and-Visualization/blob/main/upload_viz_to_datapane.py\n"
   ]
  }
 ],
 "metadata": {
  "kernelspec": {
   "display_name": "Python 3 (ipykernel)",
   "language": "python",
   "name": "python3"
  },
  "language_info": {
   "codemirror_mode": {
    "name": "ipython",
    "version": 3
   },
   "file_extension": ".py",
   "mimetype": "text/x-python",
   "name": "python",
   "nbconvert_exporter": "python",
   "pygments_lexer": "ipython3",
   "version": "3.9.7"
  }
 },
 "nbformat": 4,
 "nbformat_minor": 5
}
